{
  "nbformat": 4,
  "nbformat_minor": 0,
  "metadata": {
    "colab": {
      "name": "AI_04_김미리_section1.ipynb",
      "provenance": [],
      "collapsed_sections": [
        "UbBQqrnOwszU",
        "bqlWoJYM7Deu",
        "ohhpafhOA-r4",
        "-dAcvQKMFqzp",
        "myY1EsAY3fci",
        "z6akOaKQjBpg",
        "ppcCj4GelWnV",
        "3l-7Z_3FOZvk",
        "o99hPnKSoXok"
      ]
    },
    "kernelspec": {
      "name": "python3",
      "display_name": "Python 3"
    },
    "language_info": {
      "name": "python"
    }
  },
  "cells": [
    {
      "cell_type": "markdown",
      "metadata": {
        "id": "UbBQqrnOwszU"
      },
      "source": [
        "# **Step 1. 데이터 전처리**"
      ]
    },
    {
      "cell_type": "markdown",
      "metadata": {
        "id": "m6KWU-__yjjw"
      },
      "source": [
        "단위: Million\n",
        "\n",
        "단위 확인(비교) : Call of Duty 4: Modern Warfare, Rock Band\n",
        "\n",
        "링크>> https://en.wikipedia.org/wiki/List_of_best-selling_Xbox_360_video_games"
      ]
    },
    {
      "cell_type": "code",
      "metadata": {
        "colab": {
          "base_uri": "https://localhost:8080/",
          "height": 210
        },
        "id": "sw1y3s3MvZt2",
        "outputId": "ab3fae10-071a-4424-c8f1-b6df947d6d6f"
      },
      "source": [
        "import pandas as pd\n",
        "import numpy as np\n",
        "import matplotlib.pyplot as plt\n",
        "\n",
        "raw=pd.read_csv('https://ds-lecture-data.s3.ap-northeast-2.amazonaws.com/datasets/vgames2.csv', index_col=0)\n",
        "\n",
        "raw.head(3)"
      ],
      "execution_count": 122,
      "outputs": [
        {
          "output_type": "execute_result",
          "data": {
            "text/html": [
              "<div>\n",
              "<style scoped>\n",
              "    .dataframe tbody tr th:only-of-type {\n",
              "        vertical-align: middle;\n",
              "    }\n",
              "\n",
              "    .dataframe tbody tr th {\n",
              "        vertical-align: top;\n",
              "    }\n",
              "\n",
              "    .dataframe thead th {\n",
              "        text-align: right;\n",
              "    }\n",
              "</style>\n",
              "<table border=\"1\" class=\"dataframe\">\n",
              "  <thead>\n",
              "    <tr style=\"text-align: right;\">\n",
              "      <th></th>\n",
              "      <th>Name</th>\n",
              "      <th>Platform</th>\n",
              "      <th>Year</th>\n",
              "      <th>Genre</th>\n",
              "      <th>Publisher</th>\n",
              "      <th>NA_Sales</th>\n",
              "      <th>EU_Sales</th>\n",
              "      <th>JP_Sales</th>\n",
              "      <th>Other_Sales</th>\n",
              "    </tr>\n",
              "  </thead>\n",
              "  <tbody>\n",
              "    <tr>\n",
              "      <th>1</th>\n",
              "      <td>Candace Kane's Candy Factory</td>\n",
              "      <td>DS</td>\n",
              "      <td>2008.0</td>\n",
              "      <td>Action</td>\n",
              "      <td>Destineer</td>\n",
              "      <td>0.04</td>\n",
              "      <td>0</td>\n",
              "      <td>0</td>\n",
              "      <td>0</td>\n",
              "    </tr>\n",
              "    <tr>\n",
              "      <th>2</th>\n",
              "      <td>The Munchables</td>\n",
              "      <td>Wii</td>\n",
              "      <td>2009.0</td>\n",
              "      <td>Action</td>\n",
              "      <td>Namco Bandai Games</td>\n",
              "      <td>0.17</td>\n",
              "      <td>0</td>\n",
              "      <td>0</td>\n",
              "      <td>0.01</td>\n",
              "    </tr>\n",
              "    <tr>\n",
              "      <th>3</th>\n",
              "      <td>Otome wa Oanesama Boku ni Koi Shiteru Portable</td>\n",
              "      <td>PSP</td>\n",
              "      <td>2010.0</td>\n",
              "      <td>Adventure</td>\n",
              "      <td>Alchemist</td>\n",
              "      <td>0</td>\n",
              "      <td>0</td>\n",
              "      <td>0.02</td>\n",
              "      <td>0</td>\n",
              "    </tr>\n",
              "  </tbody>\n",
              "</table>\n",
              "</div>"
            ],
            "text/plain": [
              "                                             Name Platform  ...  JP_Sales Other_Sales\n",
              "1                    Candace Kane's Candy Factory       DS  ...         0           0\n",
              "2                                  The Munchables      Wii  ...         0        0.01\n",
              "3  Otome wa Oanesama Boku ni Koi Shiteru Portable      PSP  ...      0.02           0\n",
              "\n",
              "[3 rows x 9 columns]"
            ]
          },
          "metadata": {
            "tags": []
          },
          "execution_count": 122
        }
      ]
    },
    {
      "cell_type": "markdown",
      "metadata": {
        "id": "eIChYqLB6vnF"
      },
      "source": [
        "##**1-1 Sales 데이터 정리**\n",
        "\n",
        "*   Sales 단위 통일(M, 백만)\n",
        "*   int to float 변환\n",
        "*   Total열 생성 : 모든 국가 판매량"
      ]
    },
    {
      "cell_type": "code",
      "metadata": {
        "colab": {
          "base_uri": "https://localhost:8080/",
          "height": 323
        },
        "id": "pp6B0QNIj0ny",
        "outputId": "fc4f96d8-2e19-4116-8199-6b74a9dfd19c"
      },
      "source": [
        "#Sales Numeric\n",
        "def clean_s(x):\n",
        "    if 'K' in x:\n",
        "        return float(x.replace('K','')) * 0.001\n",
        "    if 'M' in x:\n",
        "        return float(x.replace('M',''))\n",
        "    else : return float(x)\n",
        "\n",
        "raw['NA_Sales']=raw['NA_Sales'].apply(clean_s)\n",
        "raw['EU_Sales']=raw['EU_Sales'].apply(clean_s)\n",
        "raw['JP_Sales']=raw['JP_Sales'].apply(clean_s)\n",
        "raw['Other_Sales']=raw['Other_Sales'].apply(clean_s)\n",
        "\n",
        "# raw['Mean']= (raw['NA_Sales']+raw['EU_Sales']+raw['JP_Sales']+raw['Other_Sales'])/4\n",
        "raw['Total']= raw['NA_Sales']+raw['EU_Sales']+raw['JP_Sales']+raw['Other_Sales']\n",
        "raw.tail(5)"
      ],
      "execution_count": 4,
      "outputs": [
        {
          "output_type": "execute_result",
          "data": {
            "text/html": [
              "<div>\n",
              "<style scoped>\n",
              "    .dataframe tbody tr th:only-of-type {\n",
              "        vertical-align: middle;\n",
              "    }\n",
              "\n",
              "    .dataframe tbody tr th {\n",
              "        vertical-align: top;\n",
              "    }\n",
              "\n",
              "    .dataframe thead th {\n",
              "        text-align: right;\n",
              "    }\n",
              "</style>\n",
              "<table border=\"1\" class=\"dataframe\">\n",
              "  <thead>\n",
              "    <tr style=\"text-align: right;\">\n",
              "      <th></th>\n",
              "      <th>Name</th>\n",
              "      <th>Platform</th>\n",
              "      <th>Year</th>\n",
              "      <th>Genre</th>\n",
              "      <th>Publisher</th>\n",
              "      <th>NA_Sales</th>\n",
              "      <th>EU_Sales</th>\n",
              "      <th>JP_Sales</th>\n",
              "      <th>Other_Sales</th>\n",
              "      <th>Total</th>\n",
              "    </tr>\n",
              "  </thead>\n",
              "  <tbody>\n",
              "    <tr>\n",
              "      <th>16594</th>\n",
              "      <td>Ice Age 2: The Meltdown</td>\n",
              "      <td>GC</td>\n",
              "      <td>2006.0</td>\n",
              "      <td>Platform</td>\n",
              "      <td>Vivendi Games</td>\n",
              "      <td>0.15</td>\n",
              "      <td>0.04</td>\n",
              "      <td>0.00</td>\n",
              "      <td>0.01</td>\n",
              "      <td>0.20</td>\n",
              "    </tr>\n",
              "    <tr>\n",
              "      <th>16595</th>\n",
              "      <td>Rainbow Islands: Revolution</td>\n",
              "      <td>PSP</td>\n",
              "      <td>2005.0</td>\n",
              "      <td>Action</td>\n",
              "      <td>Rising Star Games</td>\n",
              "      <td>0.01</td>\n",
              "      <td>0.00</td>\n",
              "      <td>0.00</td>\n",
              "      <td>0.00</td>\n",
              "      <td>0.01</td>\n",
              "    </tr>\n",
              "    <tr>\n",
              "      <th>16596</th>\n",
              "      <td>NBA 2K16</td>\n",
              "      <td>PS3</td>\n",
              "      <td>2015.0</td>\n",
              "      <td>Sports</td>\n",
              "      <td>Take-Two Interactive</td>\n",
              "      <td>0.44</td>\n",
              "      <td>0.19</td>\n",
              "      <td>0.03</td>\n",
              "      <td>0.13</td>\n",
              "      <td>0.79</td>\n",
              "    </tr>\n",
              "    <tr>\n",
              "      <th>16597</th>\n",
              "      <td>Toukiden: The Age of Demons</td>\n",
              "      <td>PSV</td>\n",
              "      <td>2013.0</td>\n",
              "      <td>Action</td>\n",
              "      <td>Tecmo Koei</td>\n",
              "      <td>0.05</td>\n",
              "      <td>0.05</td>\n",
              "      <td>0.25</td>\n",
              "      <td>0.03</td>\n",
              "      <td>0.38</td>\n",
              "    </tr>\n",
              "    <tr>\n",
              "      <th>16598</th>\n",
              "      <td>The King of Fighters '95</td>\n",
              "      <td>PS</td>\n",
              "      <td>1996.0</td>\n",
              "      <td>Fighting</td>\n",
              "      <td>Sony Computer Entertainment</td>\n",
              "      <td>0.00</td>\n",
              "      <td>0.00</td>\n",
              "      <td>0.16</td>\n",
              "      <td>0.01</td>\n",
              "      <td>0.17</td>\n",
              "    </tr>\n",
              "  </tbody>\n",
              "</table>\n",
              "</div>"
            ],
            "text/plain": [
              "                              Name Platform  ...  Other_Sales Total\n",
              "16594      Ice Age 2: The Meltdown       GC  ...         0.01  0.20\n",
              "16595  Rainbow Islands: Revolution      PSP  ...         0.00  0.01\n",
              "16596                     NBA 2K16      PS3  ...         0.13  0.79\n",
              "16597  Toukiden: The Age of Demons      PSV  ...         0.03  0.38\n",
              "16598     The King of Fighters '95       PS  ...         0.01  0.17\n",
              "\n",
              "[5 rows x 10 columns]"
            ]
          },
          "metadata": {
            "tags": []
          },
          "execution_count": 4
        }
      ]
    },
    {
      "cell_type": "markdown",
      "metadata": {
        "id": "rXhSa63uOMi_"
      },
      "source": [
        "\n",
        "\n",
        "*   출고 수치 단위 변환 (백만 ->만)\n"
      ]
    },
    {
      "cell_type": "code",
      "metadata": {
        "colab": {
          "base_uri": "https://localhost:8080/",
          "height": 323
        },
        "id": "9q-tpEb8LnD0",
        "outputId": "72a9e67b-c530-4bb4-ef95-8ea19eccd81b"
      },
      "source": [
        "def to_Int(x):\n",
        "    return int(round(x,10) * 100)\n",
        "\n",
        "raw['NA_Sales']=raw['NA_Sales'].apply(to_Int)\n",
        "raw['EU_Sales']=raw['EU_Sales'].apply(to_Int)\n",
        "raw['JP_Sales']=raw['JP_Sales'].apply(to_Int)\n",
        "raw['Other_Sales']=raw['Other_Sales'].apply(to_Int)\n",
        "raw['Total']=raw['Total'].apply(to_Int)\n",
        "raw.tail(5)"
      ],
      "execution_count": 5,
      "outputs": [
        {
          "output_type": "execute_result",
          "data": {
            "text/html": [
              "<div>\n",
              "<style scoped>\n",
              "    .dataframe tbody tr th:only-of-type {\n",
              "        vertical-align: middle;\n",
              "    }\n",
              "\n",
              "    .dataframe tbody tr th {\n",
              "        vertical-align: top;\n",
              "    }\n",
              "\n",
              "    .dataframe thead th {\n",
              "        text-align: right;\n",
              "    }\n",
              "</style>\n",
              "<table border=\"1\" class=\"dataframe\">\n",
              "  <thead>\n",
              "    <tr style=\"text-align: right;\">\n",
              "      <th></th>\n",
              "      <th>Name</th>\n",
              "      <th>Platform</th>\n",
              "      <th>Year</th>\n",
              "      <th>Genre</th>\n",
              "      <th>Publisher</th>\n",
              "      <th>NA_Sales</th>\n",
              "      <th>EU_Sales</th>\n",
              "      <th>JP_Sales</th>\n",
              "      <th>Other_Sales</th>\n",
              "      <th>Total</th>\n",
              "    </tr>\n",
              "  </thead>\n",
              "  <tbody>\n",
              "    <tr>\n",
              "      <th>16594</th>\n",
              "      <td>Ice Age 2: The Meltdown</td>\n",
              "      <td>GC</td>\n",
              "      <td>2006.0</td>\n",
              "      <td>Platform</td>\n",
              "      <td>Vivendi Games</td>\n",
              "      <td>15</td>\n",
              "      <td>4</td>\n",
              "      <td>0</td>\n",
              "      <td>1</td>\n",
              "      <td>20</td>\n",
              "    </tr>\n",
              "    <tr>\n",
              "      <th>16595</th>\n",
              "      <td>Rainbow Islands: Revolution</td>\n",
              "      <td>PSP</td>\n",
              "      <td>2005.0</td>\n",
              "      <td>Action</td>\n",
              "      <td>Rising Star Games</td>\n",
              "      <td>1</td>\n",
              "      <td>0</td>\n",
              "      <td>0</td>\n",
              "      <td>0</td>\n",
              "      <td>1</td>\n",
              "    </tr>\n",
              "    <tr>\n",
              "      <th>16596</th>\n",
              "      <td>NBA 2K16</td>\n",
              "      <td>PS3</td>\n",
              "      <td>2015.0</td>\n",
              "      <td>Sports</td>\n",
              "      <td>Take-Two Interactive</td>\n",
              "      <td>44</td>\n",
              "      <td>19</td>\n",
              "      <td>3</td>\n",
              "      <td>13</td>\n",
              "      <td>79</td>\n",
              "    </tr>\n",
              "    <tr>\n",
              "      <th>16597</th>\n",
              "      <td>Toukiden: The Age of Demons</td>\n",
              "      <td>PSV</td>\n",
              "      <td>2013.0</td>\n",
              "      <td>Action</td>\n",
              "      <td>Tecmo Koei</td>\n",
              "      <td>5</td>\n",
              "      <td>5</td>\n",
              "      <td>25</td>\n",
              "      <td>3</td>\n",
              "      <td>38</td>\n",
              "    </tr>\n",
              "    <tr>\n",
              "      <th>16598</th>\n",
              "      <td>The King of Fighters '95</td>\n",
              "      <td>PS</td>\n",
              "      <td>1996.0</td>\n",
              "      <td>Fighting</td>\n",
              "      <td>Sony Computer Entertainment</td>\n",
              "      <td>0</td>\n",
              "      <td>0</td>\n",
              "      <td>16</td>\n",
              "      <td>1</td>\n",
              "      <td>17</td>\n",
              "    </tr>\n",
              "  </tbody>\n",
              "</table>\n",
              "</div>"
            ],
            "text/plain": [
              "                              Name Platform  ...  Other_Sales Total\n",
              "16594      Ice Age 2: The Meltdown       GC  ...            1    20\n",
              "16595  Rainbow Islands: Revolution      PSP  ...            0     1\n",
              "16596                     NBA 2K16      PS3  ...           13    79\n",
              "16597  Toukiden: The Age of Demons      PSV  ...            3    38\n",
              "16598     The King of Fighters '95       PS  ...            1    17\n",
              "\n",
              "[5 rows x 10 columns]"
            ]
          },
          "metadata": {
            "tags": []
          },
          "execution_count": 5
        }
      ]
    },
    {
      "cell_type": "markdown",
      "metadata": {
        "id": "GPj3mYEV6J8C"
      },
      "source": [
        "## **1-2 Year 데이터 정리**\n",
        "\n",
        "*   Total 0.5 이상인 게임 중, Year값이 없는 데이터에 수기 입력\n"
      ]
    },
    {
      "cell_type": "code",
      "metadata": {
        "id": "3dlLRtMGjpzO"
      },
      "source": [
        "#Year 정리\n",
        "raw['Year']=raw['Year'].replace(np.nan, 0)\n",
        "\n",
        "#numeric\n",
        "raw['Year']=raw['Year'].round(0).astype(int)\n",
        "raw.loc[raw.Year <  1980, 'Year'] = 0  #1980이하의 값 없애기\n",
        "\n",
        "raw.loc[(raw['Name']=='Ratchet & Clank: Going Commando'),'Year']=2003\n",
        "raw.loc[(raw['Name']=='Uncharted 4: A Thief\\'s End'),'Year']=2016\n",
        "raw.loc[(raw['Name']=='Adventure Island'),'Year']=1986\n",
        "raw.loc[(raw['Name']=='Kingdom Hearts: Birth by Sleep'),'Year']=2010\n",
        "raw.loc[(raw['Name']=='Madden NFL 2004'),'Year']=2003\n",
        "raw.loc[(raw['Name']=='Pokemon Black/Pokemon White'),'Year']=2010\n",
        "raw.loc[(raw['Name']=='FIFA Soccer 2004'),'Year']=2003\n",
        "raw.loc[(raw['Name']=='The Elder Scrolls V: Skyrim'),'Year']=2011\n",
        "raw.loc[(raw['Name']=='Rock Band'),'Year']=2007\n",
        "raw.loc[(raw['Name']=='Mini-Yonku Shining Scorpion: Let\\'s & Go!!'),'Year']=1996\n",
        "raw.loc[(raw['Name']=='LEGO Star Wars II: The Original Trilogy'),'Year']=2006\n",
        "raw.loc[(raw['Name']=='Call of Duty 3'),'Year']=2006\n",
        "raw.loc[(raw['Name']=='LEGO Batman: The Videogame'),'Year']=2008\n",
        "raw.loc[(raw['Name']=='wwe Smackdown vs. Raw 2006'),'Year']=2005\n",
        "raw.loc[(raw['Name']=='NBA 2K15'),'Year']=2014\n",
        "raw.loc[(raw['Name']=='Dragon Quest Heroes: Rocket Slime'),'Year']=2005\n",
        "raw.loc[(raw['Name']=='Virtua Cop'),'Year']=1994\n",
        "raw.loc[(raw['Name']=='Mobile Suit Gundam'),'Year']=2011\n",
        "raw.loc[(raw['Name']=='Yakuza 4'),'Year']=2010\n",
        "raw.loc[(raw['Name']=='Hitman 2: Silent Assassin'),'Year']=2002\n",
        "raw.loc[(raw['Name']=='Mobile Suit Gundam: Extreme VS Full Boost'),'Year']=2012\n",
        "raw.loc[(raw['Name']=='LEGO Indiana Jones: The Original Adventures'),'Year']=2008\n",
        "raw.loc[(raw['Name']=='NCAA Football 2002'),'Year']=2001\n",
        "raw.loc[(raw['Name']=='LEGO Harry Potter: Years 5-7'),'Year']=2011\n",
        "raw.loc[(raw['Name']=='Triple Play 99'),'Year']=1998\n",
        "raw.loc[(raw['Name']=='WarioWare: Twisted!'),'Year']=2004\n",
        "raw.loc[(raw['Name']=='Call of Duty: Black Ops'),'Year']=2010\n",
        "raw.loc[(raw['Name']=='Frogger\\'s Adventures: Temple of the Frog'),'Year']=2001\n",
        "raw.loc[(raw['Name']=='NASCAR Thunder 2003'),'Year']=2002\n",
        "raw.loc[(raw['Name']=='Monster Hunter 2'),'Year']=2006\n",
        "raw.loc[(raw['Name']=='Rhythm Heaven'),'Year']=2008\n",
        "raw.loc[(raw['Name']=='Suikoden III'),'Year']=2002\n",
        "raw.loc[(raw['Name']=='Combat'),'Year']=1977\n",
        "raw.loc[(raw['Name']=='PES 2009: Pro Evolution Soccer'),'Year']=2008\n",
        "raw.loc[(raw['Name']=='Space Invaders'),'Year']=1978\n",
        "raw.loc[(raw['Name']=='Super Robot Taisen F Kanketsuhen'),'Year']=1998\n",
        "raw.loc[(raw['Name']=='Adventure'),'Year']=1980"
      ],
      "execution_count": 6,
      "outputs": []
    },
    {
      "cell_type": "markdown",
      "metadata": {
        "id": "EBXPGebB64K0"
      },
      "source": [
        "## **1-3 Platform 데이터 정리**\n",
        "\n",
        "*   각 브랜드별 제품 라인별로 분류\n",
        "*   제품타입 구분 추가 (Portable / Family com / PC)\n",
        "\n"
      ]
    },
    {
      "cell_type": "code",
      "metadata": {
        "colab": {
          "base_uri": "https://localhost:8080/"
        },
        "id": "jGXtWA5ohspQ",
        "outputId": "112e3a0e-78c3-45df-b287-8414e70e44bf"
      },
      "source": [
        "#Platform 정리 by product line\n",
        "raw['Platform']=raw['Platform'].replace('N64','NES').replace('PS2', 'PS').replace('PS3', 'PS').replace('PS4', 'PS').replace('X360', 'XB').replace('XOne', 'XB').replace('3DS','DS').replace('GB','DS').replace('GBA','DS').replace('PSV','PSP').replace('SNES','NES').replace('GEN', 'DC').replace('SAT', 'DC')\n",
        "raw['Platform'].unique()"
      ],
      "execution_count": 7,
      "outputs": [
        {
          "output_type": "execute_result",
          "data": {
            "text/plain": [
              "array(['DS', 'Wii', 'PSP', 'PS', 'PC', 'XB', 'GC', '2600', 'DC', 'NES',\n",
              "       'WiiU', 'SCD', 'WS', 'NG', 'TG16', '3DO', 'GG', 'PCFX'],\n",
              "      dtype=object)"
            ]
          },
          "metadata": {
            "tags": []
          },
          "execution_count": 7
        }
      ]
    },
    {
      "cell_type": "code",
      "metadata": {
        "id": "DXFFJAZ1PEXo"
      },
      "source": [
        "#플랫폼 구분 추가\n",
        "def form(lst) :\n",
        "    if 'DS' in lst: return 'Portable'\n",
        "    elif 'Wii' in lst: return 'Family'\n",
        "    elif 'PSP' in lst: return 'Portable'\n",
        "    elif 'PS' in lst: return 'Family'\n",
        "    elif 'XB' in lst: return 'Family'\n",
        "    elif 'GC' in lst: return 'Family'\n",
        "    elif '2600' in lst: return 'Family'\n",
        "    elif 'NES' in lst: return 'Family'\n",
        "    elif 'WiiU' in lst: return 'Portable'\n",
        "    elif 'SCD' in lst: return 'Family'\n",
        "    elif 'WS' in lst: return 'Portable'\n",
        "    elif 'NG' in lst: return 'Family'\n",
        "    elif 'TG16' in lst: return 'Family'\n",
        "    elif '3DO' in lst: return 'Family'\n",
        "    elif 'GG' in lst: return 'Portable'\n",
        "    elif 'PCFX' in lst: return 'Family'\n",
        "    elif 'PC' in lst: return 'PC'\n",
        "    elif 'DC' in lst: return 'Family'\n",
        "raw['Form']=raw['Platform'].apply(form)"
      ],
      "execution_count": 8,
      "outputs": []
    },
    {
      "cell_type": "markdown",
      "metadata": {
        "id": "bqlWoJYM7Deu"
      },
      "source": [
        "## **1-4 Genre 정리**\n",
        "\n",
        "- Total 0.5이상 게임에 장르 수기 입력\n",
        "\n",
        "- 장르 구분 기준 : 한국 콘텐츠진흥원\n"
      ]
    },
    {
      "cell_type": "code",
      "metadata": {
        "id": "U6i70j_47DSx",
        "colab": {
          "base_uri": "https://localhost:8080/"
        },
        "outputId": "7d984810-28c0-4a23-9cac-9e533c83b6c8"
      },
      "source": [
        "#Genre 정리\n",
        "raw.loc[(raw['Name']=='Pokemon X/Pokemon Y'),'Genre']='Role-Playing'\n",
        "raw.loc[(raw['Name']=='MVP Baseball 2004'),'Genre']='Sports'\n",
        "raw.loc[(raw['Name']=='Wii Party'),'Genre']='Role-Playing'\n",
        "raw.loc[(raw['Name']=='Ape Escape: On the Loose'),'Genre']='Platform'\n",
        "raw.loc[(raw['Name']=='NFL Street'),'Genre']='Sports'\n",
        "raw.loc[(raw['Name']=='Grand Theft Auto IV'),'Genre']='Simulation'\n",
        "raw.loc[(raw['Name']=='Dragon Ball Z: Ultimate Tenkaichi'),'Genre']='Fighting'\n",
        "raw.loc[(raw['Name']=='Chrono Cross'),'Genre']='Role-Playing'\n",
        "raw.loc[(raw['Name']=='Final Fantasy XII'),'Genre']='Role-Playing'\n",
        "raw.loc[(raw['Name']=='Yakuza 3'),'Genre']='Role-Playing'\n",
        "raw.loc[(raw['Name']=='F-Zero X'),'Genre']='Racing'\n",
        "raw.loc[(raw['Name']=='Onimusha: Warlords'),'Genre']='Action'\n",
        "raw.loc[(raw['Name']=='Skylanders Giants'),'Genre']='Role-Playing'\n",
        "raw.loc[(raw['Name']=='James Bond 007: Nightfire'),'Genre']='Shooter'\n",
        "raw.loc[(raw['Name']=='WarioWare, Inc.: Mega Party Game$'),'Genre']='Role-Playing'\n",
        "raw.loc[(raw['Name']=='Bloodborne'),'Genre']='Role-Playing'\n",
        "raw.loc[(raw['Name']=='Need for Speed Underground 2'),'Genre']='Racing'\n",
        "#raw[(raw['Genre'].isna())&(raw['Total']>0.5)]\n",
        "#raw[(raw['Genre']=='Shooter')&(raw['Total']>3)]\n",
        "\n",
        "raw['Genre']=raw['Genre'].replace('Action','Act/Adv').replace('Adventure','Act/Adv').replace('Racing','Sports').replace('Simulation','Strategy').replace('Fighting', 'Figh/Shot').replace('Shooter', 'Figh/Shot')\n",
        "raw['Genre'].unique()"
      ],
      "execution_count": 9,
      "outputs": [
        {
          "output_type": "execute_result",
          "data": {
            "text/plain": [
              "array(['Act/Adv', 'Misc', 'Platform', 'Sports', 'Strategy',\n",
              "       'Role-Playing', 'Puzzle', 'Figh/Shot', nan], dtype=object)"
            ]
          },
          "metadata": {
            "tags": []
          },
          "execution_count": 9
        }
      ]
    },
    {
      "cell_type": "markdown",
      "metadata": {
        "id": "ohhpafhOA-r4"
      },
      "source": [
        "# **Step 2. Quenstions**"
      ]
    },
    {
      "cell_type": "markdown",
      "metadata": {
        "id": "FgVWtUMbAsQe"
      },
      "source": [
        "*   1970년대 이후 출시된 게임 데이터\n",
        "*   total 0이 아닌 데이터\n"
      ]
    },
    {
      "cell_type": "code",
      "metadata": {
        "colab": {
          "base_uri": "https://localhost:8080/",
          "height": 864
        },
        "id": "CGEGvn2MAkUW",
        "outputId": "4feada1a-2588-4fc8-9d37-7736b81d56e7"
      },
      "source": [
        "df=pd.DataFrame(raw[(raw['Total'] !=0) & (raw['Year']>1970)])\n",
        "df=df.reset_index(drop=True)\n",
        "df=df[['Name', 'Form', 'Platform', 'Year', 'Genre', 'Publisher', 'NA_Sales', 'EU_Sales','JP_Sales','Other_Sales','Total']]\n",
        "df"
      ],
      "execution_count": 10,
      "outputs": [
        {
          "output_type": "execute_result",
          "data": {
            "text/html": [
              "<div>\n",
              "<style scoped>\n",
              "    .dataframe tbody tr th:only-of-type {\n",
              "        vertical-align: middle;\n",
              "    }\n",
              "\n",
              "    .dataframe tbody tr th {\n",
              "        vertical-align: top;\n",
              "    }\n",
              "\n",
              "    .dataframe thead th {\n",
              "        text-align: right;\n",
              "    }\n",
              "</style>\n",
              "<table border=\"1\" class=\"dataframe\">\n",
              "  <thead>\n",
              "    <tr style=\"text-align: right;\">\n",
              "      <th></th>\n",
              "      <th>Name</th>\n",
              "      <th>Form</th>\n",
              "      <th>Platform</th>\n",
              "      <th>Year</th>\n",
              "      <th>Genre</th>\n",
              "      <th>Publisher</th>\n",
              "      <th>NA_Sales</th>\n",
              "      <th>EU_Sales</th>\n",
              "      <th>JP_Sales</th>\n",
              "      <th>Other_Sales</th>\n",
              "      <th>Total</th>\n",
              "    </tr>\n",
              "  </thead>\n",
              "  <tbody>\n",
              "    <tr>\n",
              "      <th>0</th>\n",
              "      <td>Candace Kane's Candy Factory</td>\n",
              "      <td>Portable</td>\n",
              "      <td>DS</td>\n",
              "      <td>2008</td>\n",
              "      <td>Act/Adv</td>\n",
              "      <td>Destineer</td>\n",
              "      <td>4</td>\n",
              "      <td>0</td>\n",
              "      <td>0</td>\n",
              "      <td>0</td>\n",
              "      <td>4</td>\n",
              "    </tr>\n",
              "    <tr>\n",
              "      <th>1</th>\n",
              "      <td>The Munchables</td>\n",
              "      <td>Family</td>\n",
              "      <td>Wii</td>\n",
              "      <td>2009</td>\n",
              "      <td>Act/Adv</td>\n",
              "      <td>Namco Bandai Games</td>\n",
              "      <td>17</td>\n",
              "      <td>0</td>\n",
              "      <td>0</td>\n",
              "      <td>1</td>\n",
              "      <td>18</td>\n",
              "    </tr>\n",
              "    <tr>\n",
              "      <th>2</th>\n",
              "      <td>Otome wa Oanesama Boku ni Koi Shiteru Portable</td>\n",
              "      <td>Portable</td>\n",
              "      <td>PSP</td>\n",
              "      <td>2010</td>\n",
              "      <td>Act/Adv</td>\n",
              "      <td>Alchemist</td>\n",
              "      <td>0</td>\n",
              "      <td>0</td>\n",
              "      <td>2</td>\n",
              "      <td>0</td>\n",
              "      <td>2</td>\n",
              "    </tr>\n",
              "    <tr>\n",
              "      <th>3</th>\n",
              "      <td>Deal or No Deal: Special Edition</td>\n",
              "      <td>Portable</td>\n",
              "      <td>DS</td>\n",
              "      <td>2010</td>\n",
              "      <td>Misc</td>\n",
              "      <td>Zoo Games</td>\n",
              "      <td>4</td>\n",
              "      <td>0</td>\n",
              "      <td>0</td>\n",
              "      <td>0</td>\n",
              "      <td>4</td>\n",
              "    </tr>\n",
              "    <tr>\n",
              "      <th>4</th>\n",
              "      <td>Ben 10 Ultimate Alien: Cosmic Destruction</td>\n",
              "      <td>Family</td>\n",
              "      <td>PS</td>\n",
              "      <td>2010</td>\n",
              "      <td>Platform</td>\n",
              "      <td>D3Publisher</td>\n",
              "      <td>12</td>\n",
              "      <td>9</td>\n",
              "      <td>0</td>\n",
              "      <td>4</td>\n",
              "      <td>25</td>\n",
              "    </tr>\n",
              "    <tr>\n",
              "      <th>...</th>\n",
              "      <td>...</td>\n",
              "      <td>...</td>\n",
              "      <td>...</td>\n",
              "      <td>...</td>\n",
              "      <td>...</td>\n",
              "      <td>...</td>\n",
              "      <td>...</td>\n",
              "      <td>...</td>\n",
              "      <td>...</td>\n",
              "      <td>...</td>\n",
              "      <td>...</td>\n",
              "    </tr>\n",
              "    <tr>\n",
              "      <th>16269</th>\n",
              "      <td>Ice Age 2: The Meltdown</td>\n",
              "      <td>Family</td>\n",
              "      <td>GC</td>\n",
              "      <td>2006</td>\n",
              "      <td>Platform</td>\n",
              "      <td>Vivendi Games</td>\n",
              "      <td>15</td>\n",
              "      <td>4</td>\n",
              "      <td>0</td>\n",
              "      <td>1</td>\n",
              "      <td>20</td>\n",
              "    </tr>\n",
              "    <tr>\n",
              "      <th>16270</th>\n",
              "      <td>Rainbow Islands: Revolution</td>\n",
              "      <td>Portable</td>\n",
              "      <td>PSP</td>\n",
              "      <td>2005</td>\n",
              "      <td>Act/Adv</td>\n",
              "      <td>Rising Star Games</td>\n",
              "      <td>1</td>\n",
              "      <td>0</td>\n",
              "      <td>0</td>\n",
              "      <td>0</td>\n",
              "      <td>1</td>\n",
              "    </tr>\n",
              "    <tr>\n",
              "      <th>16271</th>\n",
              "      <td>NBA 2K16</td>\n",
              "      <td>Family</td>\n",
              "      <td>PS</td>\n",
              "      <td>2015</td>\n",
              "      <td>Sports</td>\n",
              "      <td>Take-Two Interactive</td>\n",
              "      <td>44</td>\n",
              "      <td>19</td>\n",
              "      <td>3</td>\n",
              "      <td>13</td>\n",
              "      <td>79</td>\n",
              "    </tr>\n",
              "    <tr>\n",
              "      <th>16272</th>\n",
              "      <td>Toukiden: The Age of Demons</td>\n",
              "      <td>Portable</td>\n",
              "      <td>PSP</td>\n",
              "      <td>2013</td>\n",
              "      <td>Act/Adv</td>\n",
              "      <td>Tecmo Koei</td>\n",
              "      <td>5</td>\n",
              "      <td>5</td>\n",
              "      <td>25</td>\n",
              "      <td>3</td>\n",
              "      <td>38</td>\n",
              "    </tr>\n",
              "    <tr>\n",
              "      <th>16273</th>\n",
              "      <td>The King of Fighters '95</td>\n",
              "      <td>Family</td>\n",
              "      <td>PS</td>\n",
              "      <td>1996</td>\n",
              "      <td>Figh/Shot</td>\n",
              "      <td>Sony Computer Entertainment</td>\n",
              "      <td>0</td>\n",
              "      <td>0</td>\n",
              "      <td>16</td>\n",
              "      <td>1</td>\n",
              "      <td>17</td>\n",
              "    </tr>\n",
              "  </tbody>\n",
              "</table>\n",
              "<p>16274 rows × 11 columns</p>\n",
              "</div>"
            ],
            "text/plain": [
              "                                                 Name  ... Total\n",
              "0                        Candace Kane's Candy Factory  ...     4\n",
              "1                                      The Munchables  ...    18\n",
              "2      Otome wa Oanesama Boku ni Koi Shiteru Portable  ...     2\n",
              "3                    Deal or No Deal: Special Edition  ...     4\n",
              "4           Ben 10 Ultimate Alien: Cosmic Destruction  ...    25\n",
              "...                                               ...  ...   ...\n",
              "16269                         Ice Age 2: The Meltdown  ...    20\n",
              "16270                     Rainbow Islands: Revolution  ...     1\n",
              "16271                                        NBA 2K16  ...    79\n",
              "16272                     Toukiden: The Age of Demons  ...    38\n",
              "16273                        The King of Fighters '95  ...    17\n",
              "\n",
              "[16274 rows x 11 columns]"
            ]
          },
          "metadata": {
            "tags": []
          },
          "execution_count": 10
        }
      ]
    },
    {
      "cell_type": "markdown",
      "metadata": {
        "id": "vnp6wU4xAmsR"
      },
      "source": [
        "*   중복값 처리 : 최근 출시 버전 데이터로 축약"
      ]
    },
    {
      "cell_type": "code",
      "metadata": {
        "id": "s2bYlveEAm4k"
      },
      "source": [
        "df=df.sort_values(['Year'] ,ascending=True).drop_duplicates(subset=['Name','Platform'],keep='last').reset_index(drop=True)\n",
        "# df[df.duplicated(['Name','Platform'])]\n",
        "df=df.dropna()\n",
        "# df.isnull().sum()"
      ],
      "execution_count": 11,
      "outputs": []
    },
    {
      "cell_type": "markdown",
      "metadata": {
        "id": "OsUylgMMw-CA"
      },
      "source": [
        "# **Q1. 지역에 따라 선호하는 게임 장르가 다를까 ?**"
      ]
    },
    {
      "cell_type": "code",
      "metadata": {
        "id": "eqMSCV4F8Yca",
        "colab": {
          "base_uri": "https://localhost:8080/",
          "height": 373
        },
        "outputId": "e3924133-e3d4-4f8a-b298-ccc7a925b644"
      },
      "source": [
        "df_G=df.groupby('Genre').mean()\n",
        "df_G=df_G.drop(['Year', 'Total'], axis=1)\n",
        "df_G\n",
        "\n",
        "plt.rcParams['figure.figsize'] = [15, 6]\n",
        "df_G.plot.barh()"
      ],
      "execution_count": 16,
      "outputs": [
        {
          "output_type": "execute_result",
          "data": {
            "text/plain": [
              "<matplotlib.axes._subplots.AxesSubplot at 0x7f46bba3bb10>"
            ]
          },
          "metadata": {
            "tags": []
          },
          "execution_count": 16
        },
        {
          "output_type": "display_data",
          "data": {
            "image/png": "[encoded data removed]",
            "text/plain": [
              "<Figure size 1080x432 with 1 Axes>"
            ]
          },
          "metadata": {
            "tags": [],
            "needs_background": "light"
          }
        }
      ]
    },
    {
      "cell_type": "code",
      "metadata": {
        "colab": {
          "base_uri": "https://localhost:8080/",
          "height": 396
        },
        "id": "ip_YxjhXeVyX",
        "outputId": "64d60151-56fe-47e1-9170-fc60af54e0cf"
      },
      "source": [
        "df_G.corr()\n",
        "\n",
        "import seaborn as sns\n",
        "sns.heatmap(data = df_G.corr(), annot=True, fmt = '.2f', linewidths=.5, cmap='Blues')"
      ],
      "execution_count": 19,
      "outputs": [
        {
          "output_type": "execute_result",
          "data": {
            "text/plain": [
              "<matplotlib.axes._subplots.AxesSubplot at 0x7f46a5019b90>"
            ]
          },
          "metadata": {
            "tags": []
          },
          "execution_count": 19
        },
        {
          "output_type": "display_data",
          "data": {
            "image/png": "[encoded data removed]",
            "text/plain": [
              "<Figure size 1080x432 with 2 Axes>"
            ]
          },
          "metadata": {
            "tags": [],
            "needs_background": "light"
          }
        }
      ]
    },
    {
      "cell_type": "code",
      "metadata": {
        "colab": {
          "base_uri": "https://localhost:8080/",
          "height": 425
        },
        "id": "8P7fNsQtegnW",
        "outputId": "0f818c65-675a-44db-d5af-5246c559b6b1"
      },
      "source": [
        "na=df_G['NA_Sales']\n",
        "eu=df_G['EU_Sales']\n",
        "jp=df_G['JP_Sales']\n",
        "ot=df_G['Other_Sales']\n",
        "\n",
        "plot_data = [na, eu, jp, ot]\n",
        "ax = plt.boxplot(plot_data)\n",
        "plt.show()\n",
        "\n",
        "\n",
        "from scipy import stats\n",
        "from scipy.stats import f_oneway\n",
        "F_statistic, pVal = stats.f_oneway(na, eu, jp, ot)\n",
        "print('ANOVA 결과 : F={0:.1f}, p={1:.5f}'.format(F_statistic, pVal))\n",
        "if pVal < 0.05:\n",
        "    print('P-value 값이 충분히 작음으로 인해 그룹의 평균값이 통계적으로 유의미하게 차이납니다.')\n",
        "\n",
        "stats.kruskal(na, eu, jp, ot) #정규성 가정 미충족 - 귀무가설 기각"
      ],
      "execution_count": 14,
      "outputs": [
        {
          "output_type": "display_data",
          "data": {
            "image/png": "[encoded data removed]",
            "text/plain": [
              "<Figure size 1080x432 with 1 Axes>"
            ]
          },
          "metadata": {
            "tags": [],
            "needs_background": "light"
          }
        },
        {
          "output_type": "stream",
          "text": [
            "ANOVA 결과 : F=16.3, p=0.00000\n",
            "P-value 값이 충분히 작음으로 인해 그룹의 평균값이 통계적으로 유의미하게 차이납니다.\n"
          ],
          "name": "stdout"
        },
        {
          "output_type": "execute_result",
          "data": {
            "text/plain": [
              "KruskalResult(statistic=23.275568181818187, pvalue=3.537913547137816e-05)"
            ]
          },
          "metadata": {
            "tags": []
          },
          "execution_count": 14
        }
      ]
    },
    {
      "cell_type": "markdown",
      "metadata": {
        "id": "-dAcvQKMFqzp"
      },
      "source": [
        "## 시도 ..."
      ]
    },
    {
      "cell_type": "code",
      "metadata": {
        "colab": {
          "base_uri": "https://localhost:8080/",
          "height": 585
        },
        "id": "wvdb3kX5I-cE",
        "outputId": "edfa9426-f775-41be-eb8d-a37a242e34bb"
      },
      "source": [
        "#ANOVA test\n",
        "import seaborn as sns\n",
        "g_melt=pd.melt(df, id_vars=['Genre'], value_vars=['NA_Sales', 'EU_Sales', 'JP_Sales', 'Other_Sales'])\n",
        "g_melt.columns=['Genre', 'Nation', 'sales']\n",
        "sns.boxplot(x=\"Genre\", y=\"sales\", hue=\"Nation\", data=g_melt) \n",
        "\n",
        "import statsmodels.api as sm\n",
        "from statsmodels.formula.api import ols\n",
        "model = ols('sales ~ C(Genre) + C(Nation) + C(Genre):C(Nation)', data=g_melt).fit()\n",
        "anova_table = sm.stats.anova_lm(model, typ=2)\n",
        "anova_table"
      ],
      "execution_count": 20,
      "outputs": [
        {
          "output_type": "stream",
          "text": [
            "/usr/local/lib/python3.7/dist-packages/statsmodels/tools/_testing.py:19: FutureWarning: pandas.util.testing is deprecated. Use the functions in the public API at pandas.testing instead.\n",
            "  import pandas.util.testing as tm\n"
          ],
          "name": "stderr"
        },
        {
          "output_type": "execute_result",
          "data": {
            "text/html": [
              "<div>\n",
              "<style scoped>\n",
              "    .dataframe tbody tr th:only-of-type {\n",
              "        vertical-align: middle;\n",
              "    }\n",
              "\n",
              "    .dataframe tbody tr th {\n",
              "        vertical-align: top;\n",
              "    }\n",
              "\n",
              "    .dataframe thead th {\n",
              "        text-align: right;\n",
              "    }\n",
              "</style>\n",
              "<table border=\"1\" class=\"dataframe\">\n",
              "  <thead>\n",
              "    <tr style=\"text-align: right;\">\n",
              "      <th></th>\n",
              "      <th>sum_sq</th>\n",
              "      <th>df</th>\n",
              "      <th>F</th>\n",
              "      <th>PR(&gt;F)</th>\n",
              "    </tr>\n",
              "  </thead>\n",
              "  <tbody>\n",
              "    <tr>\n",
              "      <th>C(Genre)</th>\n",
              "      <td>7.937580e+05</td>\n",
              "      <td>7.0</td>\n",
              "      <td>42.778702</td>\n",
              "      <td>1.121977e-60</td>\n",
              "    </tr>\n",
              "    <tr>\n",
              "      <th>C(Nation)</th>\n",
              "      <td>4.249761e+06</td>\n",
              "      <td>3.0</td>\n",
              "      <td>534.417546</td>\n",
              "      <td>0.000000e+00</td>\n",
              "    </tr>\n",
              "    <tr>\n",
              "      <th>C(Genre):C(Nation)</th>\n",
              "      <td>9.862706e+05</td>\n",
              "      <td>21.0</td>\n",
              "      <td>17.717983</td>\n",
              "      <td>8.930239e-66</td>\n",
              "    </tr>\n",
              "    <tr>\n",
              "      <th>Residual</th>\n",
              "      <td>1.647364e+08</td>\n",
              "      <td>62148.0</td>\n",
              "      <td>NaN</td>\n",
              "      <td>NaN</td>\n",
              "    </tr>\n",
              "  </tbody>\n",
              "</table>\n",
              "</div>"
            ],
            "text/plain": [
              "                          sum_sq       df           F        PR(>F)\n",
              "C(Genre)            7.937580e+05      7.0   42.778702  1.121977e-60\n",
              "C(Nation)           4.249761e+06      3.0  534.417546  0.000000e+00\n",
              "C(Genre):C(Nation)  9.862706e+05     21.0   17.717983  8.930239e-66\n",
              "Residual            1.647364e+08  62148.0         NaN           NaN"
            ]
          },
          "metadata": {
            "tags": []
          },
          "execution_count": 20
        },
        {
          "output_type": "display_data",
          "data": {
            "image/png": "[encoded data removed]",
            "text/plain": [
              "<Figure size 1080x432 with 1 Axes>"
            ]
          },
          "metadata": {
            "tags": [],
            "needs_background": "light"
          }
        }
      ]
    },
    {
      "cell_type": "code",
      "metadata": {
        "colab": {
          "base_uri": "https://localhost:8080/"
        },
        "id": "q8jYVUkCfIh9",
        "outputId": "f15bcf30-870a-4795-d27a-7996169a60bf"
      },
      "source": [
        "#장르-지역에 대한  two-sample chi-square test\n",
        "#표본 집단간 평균 비교\n",
        "from scipy.stats import chi2_contingency\n",
        "print(chi2_contingency(df_G, correction = False)) \n",
        "print(chi2_contingency(df_G, correction = True))\n",
        "#p=0.07"
      ],
      "execution_count": null,
      "outputs": [
        {
          "output_type": "stream",
          "text": [
            "(30.832971036184688, 0.07648302523377391, 21, array([[21.09442027, 11.09097455,  7.39640315,  3.43217719],\n",
            "       [34.31904964, 18.044189  , 12.03339668,  5.58389649],\n",
            "       [22.89775116, 12.03912561,  8.02871075,  3.72558896],\n",
            "       [46.64298654, 24.52383948, 16.35457756,  7.58906822],\n",
            "       [21.07267933, 11.07954365,  7.38878005,  3.42863982],\n",
            "       [31.32330705, 16.46909452, 10.98299   ,  5.09647284],\n",
            "       [28.51774496, 14.9939927 ,  9.99926691,  4.63999259],\n",
            "       [18.90811733,  9.94146535,  6.62981285,  3.07645378]]))\n",
            "(30.832971036184688, 0.07648302523377391, 21, array([[21.09442027, 11.09097455,  7.39640315,  3.43217719],\n",
            "       [34.31904964, 18.044189  , 12.03339668,  5.58389649],\n",
            "       [22.89775116, 12.03912561,  8.02871075,  3.72558896],\n",
            "       [46.64298654, 24.52383948, 16.35457756,  7.58906822],\n",
            "       [21.07267933, 11.07954365,  7.38878005,  3.42863982],\n",
            "       [31.32330705, 16.46909452, 10.98299   ,  5.09647284],\n",
            "       [28.51774496, 14.9939927 ,  9.99926691,  4.63999259],\n",
            "       [18.90811733,  9.94146535,  6.62981285,  3.07645378]]))\n"
          ],
          "name": "stdout"
        }
      ]
    },
    {
      "cell_type": "code",
      "metadata": {
        "id": "DP8UpgBqm4Ue",
        "colab": {
          "base_uri": "https://localhost:8080/"
        },
        "outputId": "3bb91e55-d646-433c-d0c3-e497e9c8ffc3"
      },
      "source": [
        "#남미 판매량 - 전체 판매량 상관관계\n",
        "from scipy import stats\n",
        "NA_cut = pd.cut(df[\"NA_Sales\"], 5).astype(\"category\")\n",
        "All_cut = pd.cut(df[\"Total\"], 5).astype(\"category\")\n",
        "data = pd.crosstab(NA_cut, All_cut)\n",
        "\n",
        "chi, pvalue, _, _ = stats.chi2_contingency(data, correction=False)\n",
        "chi, pvalue\n",
        "\n",
        "#p-value = 0.0 ->유의미한 차이가 있다. 관련있다."
      ],
      "execution_count": null,
      "outputs": [
        {
          "output_type": "execute_result",
          "data": {
            "text/plain": [
              "(30662.37256189323, 0.0)"
            ]
          },
          "metadata": {
            "tags": []
          },
          "execution_count": 25
        }
      ]
    },
    {
      "cell_type": "markdown",
      "metadata": {
        "id": "myY1EsAY3fci"
      },
      "source": [
        "#**Q2. 연도별 게임 트랜드가 존재하는가?**"
      ]
    },
    {
      "cell_type": "code",
      "metadata": {
        "id": "KPwJHP-xjgkb"
      },
      "source": [
        "def set_Y (x):\n",
        "  if x >= 1980 and x < 1990:\n",
        "    x = 1980\n",
        "    return x\n",
        "  elif x >= 1990 and x <2000:\n",
        "    x = 1990\n",
        "    return x\n",
        "  elif x >= 2000 and x <2010:\n",
        "    x = 2000\n",
        "    return x\n",
        "  elif x >= 2010 and x < 2020:\n",
        "    x = 2010\n",
        "    return x\n",
        "  else:\n",
        "    x = 2020\n",
        "    return x"
      ],
      "execution_count": 44,
      "outputs": []
    },
    {
      "cell_type": "code",
      "metadata": {
        "colab": {
          "base_uri": "https://localhost:8080/",
          "height": 830
        },
        "id": "siCuiE6GjYcH",
        "outputId": "dd6650a4-8c89-4f04-c1fa-dde2bb9cb87b"
      },
      "source": [
        "data_Y=df.copy()\n",
        "data_Y['Year']=data_Y['Year'].apply(set_Y)\n",
        "data_Y"
      ],
      "execution_count": 68,
      "outputs": [
        {
          "output_type": "execute_result",
          "data": {
            "text/html": [
              "<div>\n",
              "<style scoped>\n",
              "    .dataframe tbody tr th:only-of-type {\n",
              "        vertical-align: middle;\n",
              "    }\n",
              "\n",
              "    .dataframe tbody tr th {\n",
              "        vertical-align: top;\n",
              "    }\n",
              "\n",
              "    .dataframe thead th {\n",
              "        text-align: right;\n",
              "    }\n",
              "</style>\n",
              "<table border=\"1\" class=\"dataframe\">\n",
              "  <thead>\n",
              "    <tr style=\"text-align: right;\">\n",
              "      <th></th>\n",
              "      <th>Name</th>\n",
              "      <th>Form</th>\n",
              "      <th>Platform</th>\n",
              "      <th>Year</th>\n",
              "      <th>Genre</th>\n",
              "      <th>Publisher</th>\n",
              "      <th>NA_Sales</th>\n",
              "      <th>EU_Sales</th>\n",
              "      <th>JP_Sales</th>\n",
              "      <th>Other_Sales</th>\n",
              "      <th>Total</th>\n",
              "    </tr>\n",
              "  </thead>\n",
              "  <tbody>\n",
              "    <tr>\n",
              "      <th>0</th>\n",
              "      <td>Combat</td>\n",
              "      <td>Family</td>\n",
              "      <td>2600</td>\n",
              "      <td>2020</td>\n",
              "      <td>Act/Adv</td>\n",
              "      <td>Atari</td>\n",
              "      <td>117</td>\n",
              "      <td>7</td>\n",
              "      <td>0</td>\n",
              "      <td>1</td>\n",
              "      <td>125</td>\n",
              "    </tr>\n",
              "    <tr>\n",
              "      <th>1</th>\n",
              "      <td>Space Invaders</td>\n",
              "      <td>Portable</td>\n",
              "      <td>DS</td>\n",
              "      <td>2020</td>\n",
              "      <td>Figh/Shot</td>\n",
              "      <td>Activision</td>\n",
              "      <td>8</td>\n",
              "      <td>3</td>\n",
              "      <td>0</td>\n",
              "      <td>0</td>\n",
              "      <td>11</td>\n",
              "    </tr>\n",
              "    <tr>\n",
              "      <th>2</th>\n",
              "      <td>Space Invaders</td>\n",
              "      <td>Family</td>\n",
              "      <td>2600</td>\n",
              "      <td>2020</td>\n",
              "      <td>Figh/Shot</td>\n",
              "      <td>Atari</td>\n",
              "      <td>236</td>\n",
              "      <td>14</td>\n",
              "      <td>0</td>\n",
              "      <td>3</td>\n",
              "      <td>252</td>\n",
              "    </tr>\n",
              "    <tr>\n",
              "      <th>3</th>\n",
              "      <td>Space Invaders</td>\n",
              "      <td>Family</td>\n",
              "      <td>NES</td>\n",
              "      <td>2020</td>\n",
              "      <td>Figh/Shot</td>\n",
              "      <td>Activision</td>\n",
              "      <td>13</td>\n",
              "      <td>3</td>\n",
              "      <td>0</td>\n",
              "      <td>0</td>\n",
              "      <td>16</td>\n",
              "    </tr>\n",
              "    <tr>\n",
              "      <th>4</th>\n",
              "      <td>Bridge</td>\n",
              "      <td>Family</td>\n",
              "      <td>2600</td>\n",
              "      <td>1980</td>\n",
              "      <td>Misc</td>\n",
              "      <td>Activision</td>\n",
              "      <td>25</td>\n",
              "      <td>2</td>\n",
              "      <td>0</td>\n",
              "      <td>0</td>\n",
              "      <td>27</td>\n",
              "    </tr>\n",
              "    <tr>\n",
              "      <th>...</th>\n",
              "      <td>...</td>\n",
              "      <td>...</td>\n",
              "      <td>...</td>\n",
              "      <td>...</td>\n",
              "      <td>...</td>\n",
              "      <td>...</td>\n",
              "      <td>...</td>\n",
              "      <td>...</td>\n",
              "      <td>...</td>\n",
              "      <td>...</td>\n",
              "      <td>...</td>\n",
              "    </tr>\n",
              "    <tr>\n",
              "      <th>15610</th>\n",
              "      <td>Pro Evolution Soccer 2017</td>\n",
              "      <td>Family</td>\n",
              "      <td>PS</td>\n",
              "      <td>2010</td>\n",
              "      <td>Sports</td>\n",
              "      <td>Konami Digital Entertainment</td>\n",
              "      <td>0</td>\n",
              "      <td>1</td>\n",
              "      <td>4</td>\n",
              "      <td>0</td>\n",
              "      <td>5</td>\n",
              "    </tr>\n",
              "    <tr>\n",
              "      <th>15611</th>\n",
              "      <td>Phantasy Star Online 2 Episode 4: Deluxe Package</td>\n",
              "      <td>Family</td>\n",
              "      <td>PS</td>\n",
              "      <td>2010</td>\n",
              "      <td>Role-Playing</td>\n",
              "      <td>Sega</td>\n",
              "      <td>0</td>\n",
              "      <td>0</td>\n",
              "      <td>3</td>\n",
              "      <td>0</td>\n",
              "      <td>3</td>\n",
              "    </tr>\n",
              "    <tr>\n",
              "      <th>15612</th>\n",
              "      <td>Phantasy Star Online 2 Episode 4: Deluxe Package</td>\n",
              "      <td>Portable</td>\n",
              "      <td>PSP</td>\n",
              "      <td>2010</td>\n",
              "      <td>Role-Playing</td>\n",
              "      <td>Sega</td>\n",
              "      <td>0</td>\n",
              "      <td>0</td>\n",
              "      <td>1</td>\n",
              "      <td>0</td>\n",
              "      <td>1</td>\n",
              "    </tr>\n",
              "    <tr>\n",
              "      <th>15613</th>\n",
              "      <td>Brothers Conflict: Precious Baby</td>\n",
              "      <td>Portable</td>\n",
              "      <td>PSP</td>\n",
              "      <td>2010</td>\n",
              "      <td>Act/Adv</td>\n",
              "      <td>Idea Factory</td>\n",
              "      <td>0</td>\n",
              "      <td>0</td>\n",
              "      <td>1</td>\n",
              "      <td>0</td>\n",
              "      <td>1</td>\n",
              "    </tr>\n",
              "    <tr>\n",
              "      <th>15614</th>\n",
              "      <td>Imagine: Makeup Artist</td>\n",
              "      <td>Portable</td>\n",
              "      <td>DS</td>\n",
              "      <td>2020</td>\n",
              "      <td>Strategy</td>\n",
              "      <td>Ubisoft</td>\n",
              "      <td>27</td>\n",
              "      <td>0</td>\n",
              "      <td>0</td>\n",
              "      <td>2</td>\n",
              "      <td>28</td>\n",
              "    </tr>\n",
              "  </tbody>\n",
              "</table>\n",
              "<p>15545 rows × 11 columns</p>\n",
              "</div>"
            ],
            "text/plain": [
              "                                                   Name  ... Total\n",
              "0                                                Combat  ...   125\n",
              "1                                        Space Invaders  ...    11\n",
              "2                                        Space Invaders  ...   252\n",
              "3                                        Space Invaders  ...    16\n",
              "4                                                Bridge  ...    27\n",
              "...                                                 ...  ...   ...\n",
              "15610                         Pro Evolution Soccer 2017  ...     5\n",
              "15611  Phantasy Star Online 2 Episode 4: Deluxe Package  ...     3\n",
              "15612  Phantasy Star Online 2 Episode 4: Deluxe Package  ...     1\n",
              "15613                  Brothers Conflict: Precious Baby  ...     1\n",
              "15614                            Imagine: Makeup Artist  ...    28\n",
              "\n",
              "[15545 rows x 11 columns]"
            ]
          },
          "metadata": {
            "tags": []
          },
          "execution_count": 68
        }
      ]
    },
    {
      "cell_type": "markdown",
      "metadata": {
        "id": "z6akOaKQjBpg"
      },
      "source": [
        "### **연도-플랫폼 카이제곱 검정**\n",
        "\n",
        "pvalue : 0.0\n",
        "\n",
        "연도와 플랫폼은 관련이 있다."
      ]
    },
    {
      "cell_type": "code",
      "metadata": {
        "colab": {
          "base_uri": "https://localhost:8080/",
          "height": 255
        },
        "id": "MLyhLIdAjwlK",
        "outputId": "da492dcc-a599-4ae9-feb1-ad65c208c8c9"
      },
      "source": [
        "data_YP=pd.DataFrame(data_Y.groupby(['Year', 'Platform']).Total.sum())\n",
        "data_YP=data_YP.unstack()\n",
        "data_YP=data_YP.fillna(0)\n",
        "data_YP.columns = data_YP.columns.droplevel(0)\n",
        "data_YP"
      ],
      "execution_count": 65,
      "outputs": [
        {
          "output_type": "execute_result",
          "data": {
            "text/html": [
              "<div>\n",
              "<style scoped>\n",
              "    .dataframe tbody tr th:only-of-type {\n",
              "        vertical-align: middle;\n",
              "    }\n",
              "\n",
              "    .dataframe tbody tr th {\n",
              "        vertical-align: top;\n",
              "    }\n",
              "\n",
              "    .dataframe thead th {\n",
              "        text-align: right;\n",
              "    }\n",
              "</style>\n",
              "<table border=\"1\" class=\"dataframe\">\n",
              "  <thead>\n",
              "    <tr style=\"text-align: right;\">\n",
              "      <th>Platform</th>\n",
              "      <th>2600</th>\n",
              "      <th>3DO</th>\n",
              "      <th>DC</th>\n",
              "      <th>DS</th>\n",
              "      <th>GC</th>\n",
              "      <th>GG</th>\n",
              "      <th>NES</th>\n",
              "      <th>NG</th>\n",
              "      <th>PC</th>\n",
              "      <th>PCFX</th>\n",
              "      <th>PS</th>\n",
              "      <th>PSP</th>\n",
              "      <th>SCD</th>\n",
              "      <th>TG16</th>\n",
              "      <th>WS</th>\n",
              "      <th>Wii</th>\n",
              "      <th>WiiU</th>\n",
              "      <th>XB</th>\n",
              "    </tr>\n",
              "    <tr>\n",
              "      <th>Year</th>\n",
              "      <th></th>\n",
              "      <th></th>\n",
              "      <th></th>\n",
              "      <th></th>\n",
              "      <th></th>\n",
              "      <th></th>\n",
              "      <th></th>\n",
              "      <th></th>\n",
              "      <th></th>\n",
              "      <th></th>\n",
              "      <th></th>\n",
              "      <th></th>\n",
              "      <th></th>\n",
              "      <th></th>\n",
              "      <th></th>\n",
              "      <th></th>\n",
              "      <th></th>\n",
              "      <th></th>\n",
              "    </tr>\n",
              "  </thead>\n",
              "  <tbody>\n",
              "    <tr>\n",
              "      <th>1980</th>\n",
              "      <td>8724.0</td>\n",
              "      <td>0.0</td>\n",
              "      <td>0.0</td>\n",
              "      <td>6642.0</td>\n",
              "      <td>0.0</td>\n",
              "      <td>0.0</td>\n",
              "      <td>22147.0</td>\n",
              "      <td>0.0</td>\n",
              "      <td>7.0</td>\n",
              "      <td>0.0</td>\n",
              "      <td>0.0</td>\n",
              "      <td>0.0</td>\n",
              "      <td>0.0</td>\n",
              "      <td>0.0</td>\n",
              "      <td>0.0</td>\n",
              "      <td>0.0</td>\n",
              "      <td>0.0</td>\n",
              "      <td>0.0</td>\n",
              "    </tr>\n",
              "    <tr>\n",
              "      <th>1990</th>\n",
              "      <td>0.0</td>\n",
              "      <td>10.0</td>\n",
              "      <td>6915.0</td>\n",
              "      <td>15901.0</td>\n",
              "      <td>0.0</td>\n",
              "      <td>4.0</td>\n",
              "      <td>40448.0</td>\n",
              "      <td>144.0</td>\n",
              "      <td>4996.0</td>\n",
              "      <td>3.0</td>\n",
              "      <td>56386.0</td>\n",
              "      <td>0.0</td>\n",
              "      <td>186.0</td>\n",
              "      <td>16.0</td>\n",
              "      <td>46.0</td>\n",
              "      <td>0.0</td>\n",
              "      <td>0.0</td>\n",
              "      <td>0.0</td>\n",
              "    </tr>\n",
              "    <tr>\n",
              "      <th>2000</th>\n",
              "      <td>0.0</td>\n",
              "      <td>0.0</td>\n",
              "      <td>739.0</td>\n",
              "      <td>100079.0</td>\n",
              "      <td>19619.0</td>\n",
              "      <td>0.0</td>\n",
              "      <td>3721.0</td>\n",
              "      <td>0.0</td>\n",
              "      <td>8344.0</td>\n",
              "      <td>0.0</td>\n",
              "      <td>158258.0</td>\n",
              "      <td>22604.0</td>\n",
              "      <td>0.0</td>\n",
              "      <td>0.0</td>\n",
              "      <td>96.0</td>\n",
              "      <td>68679.0</td>\n",
              "      <td>0.0</td>\n",
              "      <td>64020.0</td>\n",
              "    </tr>\n",
              "    <tr>\n",
              "      <th>2010</th>\n",
              "      <td>0.0</td>\n",
              "      <td>0.0</td>\n",
              "      <td>41.0</td>\n",
              "      <td>36463.0</td>\n",
              "      <td>0.0</td>\n",
              "      <td>0.0</td>\n",
              "      <td>0.0</td>\n",
              "      <td>0.0</td>\n",
              "      <td>12115.0</td>\n",
              "      <td>0.0</td>\n",
              "      <td>69431.0</td>\n",
              "      <td>12065.0</td>\n",
              "      <td>0.0</td>\n",
              "      <td>0.0</td>\n",
              "      <td>0.0</td>\n",
              "      <td>23286.0</td>\n",
              "      <td>8177.0</td>\n",
              "      <td>57681.0</td>\n",
              "    </tr>\n",
              "    <tr>\n",
              "      <th>2020</th>\n",
              "      <td>377.0</td>\n",
              "      <td>0.0</td>\n",
              "      <td>0.0</td>\n",
              "      <td>39.0</td>\n",
              "      <td>0.0</td>\n",
              "      <td>0.0</td>\n",
              "      <td>16.0</td>\n",
              "      <td>0.0</td>\n",
              "      <td>0.0</td>\n",
              "      <td>0.0</td>\n",
              "      <td>0.0</td>\n",
              "      <td>0.0</td>\n",
              "      <td>0.0</td>\n",
              "      <td>0.0</td>\n",
              "      <td>0.0</td>\n",
              "      <td>0.0</td>\n",
              "      <td>0.0</td>\n",
              "      <td>0.0</td>\n",
              "    </tr>\n",
              "  </tbody>\n",
              "</table>\n",
              "</div>"
            ],
            "text/plain": [
              "Platform    2600   3DO      DC        DS  ...    WS      Wii    WiiU       XB\n",
              "Year                                      ...                                \n",
              "1980      8724.0   0.0     0.0    6642.0  ...   0.0      0.0     0.0      0.0\n",
              "1990         0.0  10.0  6915.0   15901.0  ...  46.0      0.0     0.0      0.0\n",
              "2000         0.0   0.0   739.0  100079.0  ...  96.0  68679.0     0.0  64020.0\n",
              "2010         0.0   0.0    41.0   36463.0  ...   0.0  23286.0  8177.0  57681.0\n",
              "2020       377.0   0.0     0.0      39.0  ...   0.0      0.0     0.0      0.0\n",
              "\n",
              "[5 rows x 18 columns]"
            ]
          },
          "metadata": {
            "tags": []
          },
          "execution_count": 65
        }
      ]
    },
    {
      "cell_type": "code",
      "metadata": {
        "colab": {
          "base_uri": "https://localhost:8080/"
        },
        "id": "qKVfB-70krDy",
        "outputId": "c6cb57eb-9507-40e5-e3c6-9ddf718564c3"
      },
      "source": [
        "from scipy.stats import chi2_contingency\n",
        "\n",
        "chi2_contingency(data_YP)"
      ],
      "execution_count": 62,
      "outputs": [
        {
          "output_type": "execute_result",
          "data": {
            "text/plain": [
              "(651446.0687111892,\n",
              " 0.0,\n",
              " 68,\n",
              " array([[4.12191230e+02, 4.52907626e-01, 3.48512418e+02, 7.20684731e+03,\n",
              "         8.88559471e+02, 1.81163050e-01, 3.00422686e+03, 6.52186981e+00,\n",
              "         1.15319340e+03, 1.35872288e-01, 1.28659734e+04, 1.57018545e+03,\n",
              "         8.42408184e+00, 7.24652201e-01, 6.43128829e+00, 4.16516498e+03,\n",
              "         3.70342566e+02, 5.51193110e+03],\n",
              "        [1.37384260e+03, 1.50955126e+00, 1.16159969e+03, 2.40205834e+04,\n",
              "         2.96158861e+03, 6.03820503e-01, 1.00131554e+04, 2.17375381e+01,\n",
              "         3.84361941e+03, 4.52865377e-01, 4.28825773e+04, 5.23346325e+03,\n",
              "         2.80776534e+01, 2.41528201e+00, 2.14356278e+01, 1.38825881e+04,\n",
              "         1.23436006e+03, 1.83713898e+04],\n",
              "        [4.90146128e+03, 5.38562936e+00, 4.14424179e+03, 8.56982886e+04,\n",
              "         1.05660662e+04, 2.15425174e+00, 3.57239567e+04, 7.75530627e+01,\n",
              "         1.37128895e+04, 1.61568881e+00, 1.52992266e+05, 1.86714384e+04,\n",
              "         1.00172706e+02, 8.61700697e+00, 7.64759369e+01, 4.95289404e+04,\n",
              "         4.40382913e+03, 6.55436478e+04],\n",
              "        [2.40875898e+03, 2.64669705e+00, 2.03663338e+03, 4.21153021e+04,\n",
              "         5.19255493e+03, 1.05867882e+00, 1.75560708e+04, 3.81124375e+01,\n",
              "         6.73902002e+03, 7.94009114e-01, 7.51860463e+04, 9.17583399e+03,\n",
              "         4.92285650e+01, 4.23471527e+00, 3.75830980e+01, 2.43403494e+04,\n",
              "         2.16420417e+03, 3.22105677e+04],\n",
              "        [4.74591182e+00, 5.21471467e-03, 4.01272294e+00, 8.29786257e+01,\n",
              "         1.02307487e+01, 2.08588587e-03, 3.45902453e+01, 7.50918912e-02,\n",
              "         1.32777065e+01, 1.56441440e-03, 1.48137007e+02, 1.80788943e+01,\n",
              "         9.69936929e-02, 8.34354347e-03, 7.40489483e-02, 4.79571235e+01,\n",
              "         4.26407219e+00, 6.34635990e+01]]))"
            ]
          },
          "metadata": {
            "tags": []
          },
          "execution_count": 62
        }
      ]
    },
    {
      "cell_type": "markdown",
      "metadata": {
        "id": "ppcCj4GelWnV"
      },
      "source": [
        "### **연도-장르 카이제곱 검정**\n",
        "\n",
        "pvalue : 0.0\n",
        "\n",
        "연도와 장르는 관련이 있다."
      ]
    },
    {
      "cell_type": "code",
      "metadata": {
        "colab": {
          "base_uri": "https://localhost:8080/",
          "height": 235
        },
        "id": "-NFYx-2zlhZq",
        "outputId": "67d8d6aa-0e92-4323-ee07-689370bd4370"
      },
      "source": [
        "data_YG=pd.DataFrame(data_Y.groupby(['Year', 'Genre']).Total.sum())\n",
        "data_YG=data_YG.unstack()\n",
        "data_YG=data_YG.fillna(0)\n",
        "data_YG.columns = data_YG.columns.droplevel(0)\n",
        "data_YG"
      ],
      "execution_count": 66,
      "outputs": [
        {
          "output_type": "execute_result",
          "data": {
            "text/html": [
              "<div>\n",
              "<style scoped>\n",
              "    .dataframe tbody tr th:only-of-type {\n",
              "        vertical-align: middle;\n",
              "    }\n",
              "\n",
              "    .dataframe tbody tr th {\n",
              "        vertical-align: top;\n",
              "    }\n",
              "\n",
              "    .dataframe thead th {\n",
              "        text-align: right;\n",
              "    }\n",
              "</style>\n",
              "<table border=\"1\" class=\"dataframe\">\n",
              "  <thead>\n",
              "    <tr style=\"text-align: right;\">\n",
              "      <th>Genre</th>\n",
              "      <th>Act/Adv</th>\n",
              "      <th>Figh/Shot</th>\n",
              "      <th>Misc</th>\n",
              "      <th>Platform</th>\n",
              "      <th>Puzzle</th>\n",
              "      <th>Role-Playing</th>\n",
              "      <th>Sports</th>\n",
              "      <th>Strategy</th>\n",
              "    </tr>\n",
              "    <tr>\n",
              "      <th>Year</th>\n",
              "      <th></th>\n",
              "      <th></th>\n",
              "      <th></th>\n",
              "      <th></th>\n",
              "      <th></th>\n",
              "      <th></th>\n",
              "      <th></th>\n",
              "      <th></th>\n",
              "    </tr>\n",
              "  </thead>\n",
              "  <tbody>\n",
              "    <tr>\n",
              "      <th>1980</th>\n",
              "      <td>5713.0</td>\n",
              "      <td>6700.0</td>\n",
              "      <td>843.0</td>\n",
              "      <td>12101.0</td>\n",
              "      <td>6275.0</td>\n",
              "      <td>1449.0</td>\n",
              "      <td>4388.0</td>\n",
              "      <td>51.0</td>\n",
              "    </tr>\n",
              "    <tr>\n",
              "      <th>1990</th>\n",
              "      <td>17251.0</td>\n",
              "      <td>18796.0</td>\n",
              "      <td>6078.0</td>\n",
              "      <td>20632.0</td>\n",
              "      <td>3890.0</td>\n",
              "      <td>18209.0</td>\n",
              "      <td>29414.0</td>\n",
              "      <td>10785.0</td>\n",
              "    </tr>\n",
              "    <tr>\n",
              "      <th>2000</th>\n",
              "      <td>92670.0</td>\n",
              "      <td>65213.0</td>\n",
              "      <td>46473.0</td>\n",
              "      <td>36725.0</td>\n",
              "      <td>11797.0</td>\n",
              "      <td>40282.0</td>\n",
              "      <td>116790.0</td>\n",
              "      <td>36209.0</td>\n",
              "    </tr>\n",
              "    <tr>\n",
              "      <th>2010</th>\n",
              "      <td>60774.0</td>\n",
              "      <td>44920.0</td>\n",
              "      <td>20803.0</td>\n",
              "      <td>11618.0</td>\n",
              "      <td>2078.0</td>\n",
              "      <td>30909.0</td>\n",
              "      <td>37819.0</td>\n",
              "      <td>10338.0</td>\n",
              "    </tr>\n",
              "    <tr>\n",
              "      <th>2020</th>\n",
              "      <td>125.0</td>\n",
              "      <td>279.0</td>\n",
              "      <td>0.0</td>\n",
              "      <td>0.0</td>\n",
              "      <td>0.0</td>\n",
              "      <td>0.0</td>\n",
              "      <td>0.0</td>\n",
              "      <td>28.0</td>\n",
              "    </tr>\n",
              "  </tbody>\n",
              "</table>\n",
              "</div>"
            ],
            "text/plain": [
              "Genre  Act/Adv  Figh/Shot     Misc  ...  Role-Playing    Sports  Strategy\n",
              "Year                                ...                                  \n",
              "1980    5713.0     6700.0    843.0  ...        1449.0    4388.0      51.0\n",
              "1990   17251.0    18796.0   6078.0  ...       18209.0   29414.0   10785.0\n",
              "2000   92670.0    65213.0  46473.0  ...       40282.0  116790.0   36209.0\n",
              "2010   60774.0    44920.0  20803.0  ...       30909.0   37819.0   10338.0\n",
              "2020     125.0      279.0      0.0  ...           0.0       0.0      28.0\n",
              "\n",
              "[5 rows x 8 columns]"
            ]
          },
          "metadata": {
            "tags": []
          },
          "execution_count": 66
        }
      ]
    },
    {
      "cell_type": "code",
      "metadata": {
        "colab": {
          "base_uri": "https://localhost:8080/"
        },
        "id": "B4EqCOfHlwug",
        "outputId": "76c83793-bbfb-4fb3-8259-58412d832819"
      },
      "source": [
        "from scipy.stats import chi2_contingency\n",
        "\n",
        "chi2_contingency(data_YG)"
      ],
      "execution_count": 67,
      "outputs": [
        {
          "output_type": "execute_result",
          "data": {
            "text/plain": [
              "(95624.61103679021,\n",
              " 0.0,\n",
              " 28,\n",
              " array([[7.99531419e+03, 6.15537696e+03, 3.36043871e+03, 3.67199387e+03,\n",
              "         1.08878993e+03, 4.11462049e+03, 8.53327787e+03, 2.60018797e+03],\n",
              "        [2.66485612e+04, 2.05160092e+04, 1.12004175e+04, 1.22388378e+04,\n",
              "         3.62896122e+03, 1.37141222e+04, 2.84416062e+04, 8.66648472e+03],\n",
              "        [9.50741307e+04, 7.31950115e+04, 3.99597541e+04, 4.36645286e+04,\n",
              "         1.29470530e+04, 4.89279041e+04, 1.01471181e+05, 3.09194367e+04],\n",
              "        [4.67229370e+04, 3.59707302e+04, 1.96376981e+04, 2.14583610e+04,\n",
              "         6.36265970e+03, 2.40449780e+04, 4.98666837e+04, 1.51949524e+04],\n",
              "        [9.20569225e+01, 7.08721441e+01, 3.86916184e+01, 4.22788207e+01,\n",
              "         1.25361741e+01, 4.73751613e+01, 9.82509606e+01, 2.99381984e+01]]))"
            ]
          },
          "metadata": {
            "tags": []
          },
          "execution_count": 67
        }
      ]
    },
    {
      "cell_type": "markdown",
      "metadata": {
        "id": "3l-7Z_3FOZvk"
      },
      "source": [
        "### **10년단위 플랫폼/장르별 출시 비율 .value_counts() __시각화**\n",
        "\n",
        "---\n",
        "\n",
        "\n",
        "\n"
      ]
    },
    {
      "cell_type": "code",
      "metadata": {
        "id": "tLhug9663lng"
      },
      "source": [
        "df2=df[['Year','Platform','Genre','Total']]\n",
        "\n",
        "#10년단위 데이터\n",
        "df80=df2[(df2['Year']>1979)&(df2['Year']<1990)]\n",
        "df90=df2[(df2['Year']>1989)&(df2['Year']<2000)]\n",
        "df00=df2[(df2['Year']>1999)&(df2['Year']<2010)]\n",
        "df10=df2[(df2['Year']>2009)&(df2['Year']<2020)]\n",
        "\n",
        "P_80=pd.DataFrame(df80['Platform'].value_counts())\n",
        "P_80=P_80.sort_values(by='Platform', ascending=0)\n",
        "\n",
        "G_80=pd.DataFrame(df80['Genre'].value_counts())\n",
        "G_80=G_80.sort_values(by='Genre', ascending=0)\n",
        "\n",
        "wedgeprops={'width': 0.7, 'edgecolor': 'w', 'linewidth': 5}"
      ],
      "execution_count": null,
      "outputs": []
    },
    {
      "cell_type": "code",
      "metadata": {
        "colab": {
          "base_uri": "https://localhost:8080/",
          "height": 364
        },
        "id": "67XmLpkwAmy2",
        "outputId": "35ce0eb1-de2f-4dc0-88a2-d8f07e128907"
      },
      "source": [
        "#90s - platform/genre\n",
        "P_90=pd.DataFrame(df90['Platform'].value_counts())\n",
        "P_90=P_90.sort_values(by='Platform', ascending=0)\n",
        "\n",
        "G_90=pd.DataFrame(df90['Genre'].value_counts())\n",
        "G_90=G_90.sort_values(by='Genre', ascending=0)\n",
        "\n",
        "fig, (ax1, ax2) = plt.subplots(1, 2)\n",
        "ax1.pie(P_90.head(5), labels=P_90.head(5).index, autopct='%.f%%')\n",
        "ax2.pie(G_90.head(5), labels=G_90.head(5).index, autopct='%.f%%', wedgeprops=wedgeprops)\n",
        "\n",
        "plt.show()"
      ],
      "execution_count": null,
      "outputs": [
        {
          "output_type": "stream",
          "text": [
            "/usr/local/lib/python3.7/dist-packages/ipykernel_launcher.py:9: MatplotlibDeprecationWarning: Non-1D inputs to pie() are currently squeeze()d, but this behavior is deprecated since 3.1 and will be removed in 3.3; pass a 1D array instead.\n",
            "  if __name__ == '__main__':\n",
            "/usr/local/lib/python3.7/dist-packages/ipykernel_launcher.py:10: MatplotlibDeprecationWarning: Non-1D inputs to pie() are currently squeeze()d, but this behavior is deprecated since 3.1 and will be removed in 3.3; pass a 1D array instead.\n",
            "  # Remove the CWD from sys.path while we load stuff.\n"
          ],
          "name": "stderr"
        },
        {
          "output_type": "display_data",
          "data": {
            "image/png": "[encoded data removed]",
            "text/plain": [
              "<Figure size 1080x432 with 2 Axes>"
            ]
          },
          "metadata": {
            "tags": []
          }
        }
      ]
    },
    {
      "cell_type": "code",
      "metadata": {
        "colab": {
          "base_uri": "https://localhost:8080/",
          "height": 425
        },
        "id": "EPPxsvDcBM0Z",
        "outputId": "179fdc63-9ca4-4cca-d2a0-a0108ea778a9"
      },
      "source": [
        "#00s - platform/genre\n",
        "P_00=pd.DataFrame(df00['Platform'].value_counts())\n",
        "P_00=P_00.sort_values(by='Platform', ascending=0)\n",
        "\n",
        "G_00=pd.DataFrame(df00['Genre'].value_counts())\n",
        "G_00=G_00.sort_values(by='Genre', ascending=0)\n",
        "\n",
        "fig, (ax1, ax2) = plt.subplots(1, 2)\n",
        "ax1.pie(P_00.head(5), labels=P_00.head(5).index, autopct='%.f%%')\n",
        "ax2.pie(G_00.head(5), labels=G_00.head(5).index, autopct='%.f%%', wedgeprops=wedgeprops)\n",
        "\n",
        "plt.show()"
      ],
      "execution_count": null,
      "outputs": [
        {
          "output_type": "stream",
          "text": [
            "/usr/local/lib/python3.7/dist-packages/ipykernel_launcher.py:9: MatplotlibDeprecationWarning: Non-1D inputs to pie() are currently squeeze()d, but this behavior is deprecated since 3.1 and will be removed in 3.3; pass a 1D array instead.\n",
            "  if __name__ == '__main__':\n",
            "/usr/local/lib/python3.7/dist-packages/ipykernel_launcher.py:10: MatplotlibDeprecationWarning: Non-1D inputs to pie() are currently squeeze()d, but this behavior is deprecated since 3.1 and will be removed in 3.3; pass a 1D array instead.\n",
            "  # Remove the CWD from sys.path while we load stuff.\n"
          ],
          "name": "stderr"
        },
        {
          "output_type": "display_data",
          "data": {
            "image/png": "[encoded data removed]",
            "text/plain": [
              "<Figure size 1080x432 with 2 Axes>"
            ]
          },
          "metadata": {
            "tags": []
          }
        }
      ]
    },
    {
      "cell_type": "code",
      "metadata": {
        "colab": {
          "base_uri": "https://localhost:8080/",
          "height": 417
        },
        "id": "z_ufg_Er7_NA",
        "outputId": "2753239d-4513-4c32-dc19-82ab16448c18"
      },
      "source": [
        "P_10=pd.DataFrame(df10['Platform'].value_counts())\n",
        "P_10=P_10.sort_values(by='Platform', ascending=0)\n",
        "\n",
        "G_10=pd.DataFrame(df10['Genre'].value_counts())\n",
        "G_10=G_10.sort_values(by='Genre', ascending=0)\n",
        "\n",
        "fig, (ax1, ax2) = plt.subplots(1, 2)\n",
        "ax1.pie(P_10.head(5), labels=P_10.head(5).index, autopct='%.f%%')\n",
        "ax2.pie(G_10.head(5), labels=G_10.head(5).index, autopct='%.f%%', wedgeprops=wedgeprops)\n",
        "\n",
        "plt.show()"
      ],
      "execution_count": null,
      "outputs": [
        {
          "output_type": "stream",
          "text": [
            "/usr/local/lib/python3.7/dist-packages/ipykernel_launcher.py:8: MatplotlibDeprecationWarning: Non-1D inputs to pie() are currently squeeze()d, but this behavior is deprecated since 3.1 and will be removed in 3.3; pass a 1D array instead.\n",
            "  \n",
            "/usr/local/lib/python3.7/dist-packages/ipykernel_launcher.py:9: MatplotlibDeprecationWarning: Non-1D inputs to pie() are currently squeeze()d, but this behavior is deprecated since 3.1 and will be removed in 3.3; pass a 1D array instead.\n",
            "  if __name__ == '__main__':\n"
          ],
          "name": "stderr"
        },
        {
          "output_type": "display_data",
          "data": {
            "image/png": "[encoded data removed]",
            "text/plain": [
              "<Figure size 1080x432 with 2 Axes>"
            ]
          },
          "metadata": {
            "tags": []
          }
        }
      ]
    },
    {
      "cell_type": "markdown",
      "metadata": {
        "id": "x0tV9d2gOpxS"
      },
      "source": [
        "# **Q3. 출고량 높은 게임 분석**"
      ]
    },
    {
      "cell_type": "markdown",
      "metadata": {
        "id": "EEJpSY86mtTq"
      },
      "source": [
        "2000년 이후 출시 게임, 상위 100개 데이터"
      ]
    },
    {
      "cell_type": "code",
      "metadata": {
        "colab": {
          "base_uri": "https://localhost:8080/",
          "height": 297
        },
        "id": "axURsJwzszvQ",
        "outputId": "84f97703-223b-47ee-e9ef-fc7451fdf5c2"
      },
      "source": [
        "df3=df[df['Year']>1999].sort_values(by='Total', ascending=0).reset_index(drop=True)\n",
        "df3=df3[df3.index<101]\n",
        "df3.describe()\n",
        "# df3=df3[df3['Total']>1000].reset_index(drop=True)"
      ],
      "execution_count": 103,
      "outputs": [
        {
          "output_type": "execute_result",
          "data": {
            "text/html": [
              "<div>\n",
              "<style scoped>\n",
              "    .dataframe tbody tr th:only-of-type {\n",
              "        vertical-align: middle;\n",
              "    }\n",
              "\n",
              "    .dataframe tbody tr th {\n",
              "        vertical-align: top;\n",
              "    }\n",
              "\n",
              "    .dataframe thead th {\n",
              "        text-align: right;\n",
              "    }\n",
              "</style>\n",
              "<table border=\"1\" class=\"dataframe\">\n",
              "  <thead>\n",
              "    <tr style=\"text-align: right;\">\n",
              "      <th></th>\n",
              "      <th>Year</th>\n",
              "      <th>NA_Sales</th>\n",
              "      <th>EU_Sales</th>\n",
              "      <th>JP_Sales</th>\n",
              "      <th>Other_Sales</th>\n",
              "      <th>Total</th>\n",
              "    </tr>\n",
              "  </thead>\n",
              "  <tbody>\n",
              "    <tr>\n",
              "      <th>count</th>\n",
              "      <td>101.000000</td>\n",
              "      <td>101.000000</td>\n",
              "      <td>101.000000</td>\n",
              "      <td>101.000000</td>\n",
              "      <td>101.000000</td>\n",
              "      <td>101.000000</td>\n",
              "    </tr>\n",
              "    <tr>\n",
              "      <th>mean</th>\n",
              "      <td>2008.118812</td>\n",
              "      <td>548.831683</td>\n",
              "      <td>392.435644</td>\n",
              "      <td>141.029703</td>\n",
              "      <td>131.059406</td>\n",
              "      <td>1213.554455</td>\n",
              "    </tr>\n",
              "    <tr>\n",
              "      <th>std</th>\n",
              "      <td>3.707525</td>\n",
              "      <td>481.796037</td>\n",
              "      <td>344.876483</td>\n",
              "      <td>170.593168</td>\n",
              "      <td>150.492048</td>\n",
              "      <td>949.866880</td>\n",
              "    </tr>\n",
              "    <tr>\n",
              "      <th>min</th>\n",
              "      <td>2000.000000</td>\n",
              "      <td>7.000000</td>\n",
              "      <td>1.000000</td>\n",
              "      <td>0.000000</td>\n",
              "      <td>0.000000</td>\n",
              "      <td>611.000000</td>\n",
              "    </tr>\n",
              "    <tr>\n",
              "      <th>25%</th>\n",
              "      <td>2005.000000</td>\n",
              "      <td>296.000000</td>\n",
              "      <td>219.000000</td>\n",
              "      <td>10.000000</td>\n",
              "      <td>64.000000</td>\n",
              "      <td>696.000000</td>\n",
              "    </tr>\n",
              "    <tr>\n",
              "      <th>50%</th>\n",
              "      <td>2009.000000</td>\n",
              "      <td>434.000000</td>\n",
              "      <td>299.000000</td>\n",
              "      <td>48.000000</td>\n",
              "      <td>99.000000</td>\n",
              "      <td>910.000000</td>\n",
              "    </tr>\n",
              "    <tr>\n",
              "      <th>75%</th>\n",
              "      <td>2011.000000</td>\n",
              "      <td>642.000000</td>\n",
              "      <td>444.000000</td>\n",
              "      <td>249.000000</td>\n",
              "      <td>137.000000</td>\n",
              "      <td>1347.000000</td>\n",
              "    </tr>\n",
              "    <tr>\n",
              "      <th>max</th>\n",
              "      <td>2015.000000</td>\n",
              "      <td>4149.000000</td>\n",
              "      <td>2902.000000</td>\n",
              "      <td>650.000000</td>\n",
              "      <td>1057.000000</td>\n",
              "      <td>8274.000000</td>\n",
              "    </tr>\n",
              "  </tbody>\n",
              "</table>\n",
              "</div>"
            ],
            "text/plain": [
              "              Year     NA_Sales  ...  Other_Sales        Total\n",
              "count   101.000000   101.000000  ...   101.000000   101.000000\n",
              "mean   2008.118812   548.831683  ...   131.059406  1213.554455\n",
              "std       3.707525   481.796037  ...   150.492048   949.866880\n",
              "min    2000.000000     7.000000  ...     0.000000   611.000000\n",
              "25%    2005.000000   296.000000  ...    64.000000   696.000000\n",
              "50%    2009.000000   434.000000  ...    99.000000   910.000000\n",
              "75%    2011.000000   642.000000  ...   137.000000  1347.000000\n",
              "max    2015.000000  4149.000000  ...  1057.000000  8274.000000\n",
              "\n",
              "[8 rows x 6 columns]"
            ]
          },
          "metadata": {
            "tags": []
          },
          "execution_count": 103
        }
      ]
    },
    {
      "cell_type": "markdown",
      "metadata": {
        "id": "Es6GczMJnDRX"
      },
      "source": [
        "### **인기 제품 플랫폼 변화**\n",
        "\n",
        "2000년대 들어 포터블 게임콘솔이 크게 감소\n",
        "\n",
        "> 인기 플랫폼 : DS PS Wii XB\n"
      ]
    },
    {
      "cell_type": "code",
      "metadata": {
        "colab": {
          "base_uri": "https://localhost:8080/",
          "height": 793
        },
        "id": "ThdP90YDJcAn",
        "outputId": "cd619651-f151-49fd-a9b6-cfaa080161d5"
      },
      "source": [
        "df.copy()\n",
        "df=df[df['Year']>1999]\n",
        "df_YF=pd.crosstab(index=df3.Year, columns=df3.Form)\n",
        "df__YF=pd.crosstab(index=df.Year, columns=df.Form)\n",
        "\n",
        "plt.figure(figsize=(10,5))\n",
        "df_YF.plot()\n",
        "df__YF.plot()"
      ],
      "execution_count": 74,
      "outputs": [
        {
          "output_type": "execute_result",
          "data": {
            "text/plain": [
              "<matplotlib.axes._subplots.AxesSubplot at 0x7f468fe7aed0>"
            ]
          },
          "metadata": {
            "tags": []
          },
          "execution_count": 74
        },
        {
          "output_type": "display_data",
          "data": {
            "text/plain": [
              "<Figure size 720x360 with 0 Axes>"
            ]
          },
          "metadata": {
            "tags": []
          }
        },
        {
          "output_type": "display_data",
          "data": {
            "image/png": "[encoded data removed]",
            "text/plain": [
              "<Figure size 1080x432 with 1 Axes>"
            ]
          },
          "metadata": {
            "tags": [],
            "needs_background": "light"
          }
        },
        {
          "output_type": "display_data",
          "data": {
            "image/png": "[encoded data removed]",
            "text/plain": [
              "<Figure size 1080x432 with 1 Axes>"
            ]
          },
          "metadata": {
            "tags": [],
            "needs_background": "light"
          }
        }
      ]
    },
    {
      "cell_type": "code",
      "metadata": {
        "colab": {
          "base_uri": "https://localhost:8080/",
          "height": 390
        },
        "id": "fppO1C6OlXBZ",
        "outputId": "683be8f8-4cc4-4a29-8589-b276ae0f8252"
      },
      "source": [
        "from matplotlib.pyplot import figure\n",
        "df3_platform=df3.groupby('Platform').sum()\n",
        "\n",
        "# figure(figsize=(15, 6), dpi=80)\n",
        "plt.bar(df3_platform.index, df3_platform['Total'], width=0.7)\n",
        "# plt.xticks(fontsize=12, rotation =70)"
      ],
      "execution_count": 75,
      "outputs": [
        {
          "output_type": "execute_result",
          "data": {
            "text/plain": [
              "<BarContainer object of 8 artists>"
            ]
          },
          "metadata": {
            "tags": []
          },
          "execution_count": 75
        },
        {
          "output_type": "display_data",
          "data": {
            "image/png": "[encoded data removed]",
            "text/plain": [
              "<Figure size 1080x432 with 1 Axes>"
            ]
          },
          "metadata": {
            "tags": [],
            "needs_background": "light"
          }
        }
      ]
    },
    {
      "cell_type": "markdown",
      "metadata": {
        "id": "LeatlRmdoGIF"
      },
      "source": [
        "### **인기 제품 장르 변화**\n",
        "\n",
        "앞서 연도별 장르 판매추이를 비교한 것과 마찬가지로\n",
        "인기 장르는 큰 변화가 없는 편\n",
        "\n",
        "\n",
        "> 인기 장르 : Sports, Figh/Shot, Role-playing, Act/Adv\n"
      ]
    },
    {
      "cell_type": "code",
      "metadata": {
        "colab": {
          "base_uri": "https://localhost:8080/",
          "height": 415
        },
        "id": "AP7nDPbZn9dE",
        "outputId": "4abd8f39-0fb7-4854-c3cb-8b09515150af"
      },
      "source": [
        "from matplotlib.pyplot import figure\n",
        "df3_Genre=df3.groupby('Genre').sum()\n",
        "\n",
        "# figure(figsize=(15, 6), dpi=80)\n",
        "plt.bar(df3_Genre.index, df3_Genre['Total'], width=0.7)\n",
        "# plt.xticks(fontsize=12, rotation =70)"
      ],
      "execution_count": 73,
      "outputs": [
        {
          "output_type": "execute_result",
          "data": {
            "text/plain": [
              "<BarContainer object of 8 artists>"
            ]
          },
          "metadata": {
            "tags": []
          },
          "execution_count": 73
        },
        {
          "output_type": "display_data",
          "data": {
            "image/png": "[encoded data removed]",
            "text/plain": [
              "<Figure size 1080x432 with 1 Axes>"
            ]
          },
          "metadata": {
            "tags": [],
            "needs_background": "light"
          }
        }
      ]
    },
    {
      "cell_type": "markdown",
      "metadata": {
        "id": "o99hPnKSoXok"
      },
      "source": [
        "## 시도 ...\n"
      ]
    },
    {
      "cell_type": "markdown",
      "metadata": {
        "id": "sQ1Xsi23oiRB"
      },
      "source": [
        "- 플랫폼-장르 관련성\n"
      ]
    },
    {
      "cell_type": "code",
      "metadata": {
        "colab": {
          "base_uri": "https://localhost:8080/"
        },
        "id": "5tNAu9-12WWh",
        "outputId": "8259121e-d44e-4f18-f814-228af5272e6e"
      },
      "source": [
        "df_G=df.groupby('Genre').mean()\n",
        "df_G=df_G.drop(['Year', 'Total'], axis=1)\n",
        "df_G\n",
        "\n",
        "# plt.rcParams['figure.figsize'] = [15, 6]\n",
        "# df_G.plot.barh()\n",
        "\n",
        "\n",
        "# from scipy import stats\n",
        "G = df3['Genre']\n",
        "P = df3['Platform']\n",
        "data2 = pd.crosstab(P, G)\n",
        "\n",
        "chi, pvalue, _, _ = stats.chi2_contingency(data2, correction=False)\n",
        "print(pvalue)\n",
        "#p-value : 1.5e-06 관계 있다.\n",
        "#플랫폼과 장르에 유의미한 차이가 있다."
      ],
      "execution_count": null,
      "outputs": [
        {
          "output_type": "stream",
          "text": [
            "1.5080247736022448e-06\n"
          ],
          "name": "stdout"
        }
      ]
    },
    {
      "cell_type": "markdown",
      "metadata": {
        "id": "1dr4OhKIogMw"
      },
      "source": [
        "- 인기 퍼블리셔"
      ]
    },
    {
      "cell_type": "code",
      "metadata": {
        "colab": {
          "base_uri": "https://localhost:8080/",
          "height": 484
        },
        "id": "T_ww4OVLmHms",
        "outputId": "ba07212a-975d-4304-f3f5-903215b52403"
      },
      "source": [
        "from matplotlib.pyplot import figure\n",
        "df3_pu=df3.groupby('Publisher').sum()\n",
        "\n",
        "figure(figsize=(15, 6), dpi=80)\n",
        "plt.bar(df3_pu.index,df3_pu['Total'], width=0.7)\n",
        "plt.xticks(fontsize=12, rotation =70)\n",
        "\n",
        "plt.plot()"
      ],
      "execution_count": null,
      "outputs": [
        {
          "output_type": "execute_result",
          "data": {
            "text/plain": [
              "[]"
            ]
          },
          "metadata": {
            "tags": []
          },
          "execution_count": 29
        },
        {
          "output_type": "display_data",
          "data": {
            "image/png": "[encoded data removed]",
            "text/plain": [
              "<Figure size 1200x480 with 1 Axes>"
            ]
          },
          "metadata": {
            "tags": [],
            "needs_background": "light"
          }
        }
      ]
    },
    {
      "cell_type": "markdown",
      "metadata": {
        "id": "Syeka3N8qJXX"
      },
      "source": [
        "# **개인과제**"
      ]
    },
    {
      "cell_type": "markdown",
      "metadata": {
        "id": "JyJOoxknqyBB"
      },
      "source": [
        "### **휴대용 게임 콘솔기반 게임의 인기 장르 (2000년 이후)**\n",
        "\n",
        "휴대용 콘솔기반 게임 중 롤플레이 장르가 눈에 띄는 판매량을 보인다.\n",
        "\n",
        "휴대용 콘솔을 메인으로 가는 것은 위험하지만, 롤플레이 장르가 호환 가능하도록 제작할 경우 판매량 확보에 힘을 얻을 것이다."
      ]
    },
    {
      "cell_type": "code",
      "metadata": {
        "colab": {
          "base_uri": "https://localhost:8080/",
          "height": 414
        },
        "id": "t3jOfAN5qLME",
        "outputId": "206b80b2-c415-4114-d094-4ab480a375ec"
      },
      "source": [
        "df_F=df3[(df3['Form']=='Portable')]\n",
        "\n",
        "from matplotlib.pyplot import figure\n",
        "df_FG=df_F.groupby('Genre').sum()\n",
        "\n",
        "# figure(figsize=(15, 6), dpi=80)\n",
        "plt.bar(df_FG.index, df_FG['Total'], width=0.7)\n",
        "# plt.xticks(fontsize=12, rotation =70)"
      ],
      "execution_count": 87,
      "outputs": [
        {
          "output_type": "execute_result",
          "data": {
            "text/plain": [
              "<BarContainer object of 8 artists>"
            ]
          },
          "metadata": {
            "tags": []
          },
          "execution_count": 87
        },
        {
          "output_type": "display_data",
          "data": {
            "image/png": "[encoded data removed]",
            "text/plain": [
              "<Figure size 1080x432 with 1 Axes>"
            ]
          },
          "metadata": {
            "tags": [],
            "needs_background": "light"
          }
        }
      ]
    },
    {
      "cell_type": "markdown",
      "metadata": {
        "id": "m90t7gF6uW5g"
      },
      "source": [
        "### **지역별 인기 장르-플랫폼 확인**\n",
        "\n",
        "미국 : Figh/Shot -- XB, Sports -- Wii,  Role-Playing -- DS\n",
        "\n",
        "유럽 : Sports --Wii, Figh/Shot --  XB, Act/Adv -- PS\n",
        "\n",
        "일본 : Role-Playing -- DS, Sports --  Wii,  Platform --  DS"
      ]
    },
    {
      "cell_type": "code",
      "metadata": {
        "id": "bRQyF6u4ukRx"
      },
      "source": [
        "data_NA=df3[(df3['NA_Sales']>0)]\n",
        "data_NA=data_NA.groupby(['Genre', 'Platform']).NA_Sales.sum()"
      ],
      "execution_count": 118,
      "outputs": []
    },
    {
      "cell_type": "code",
      "metadata": {
        "colab": {
          "base_uri": "https://localhost:8080/"
        },
        "id": "2y5KnMHYw79C",
        "outputId": "fbe8abe2-cc47-489d-89c2-0318fc7001fa"
      },
      "source": [
        "data_NA = data_NA.sort_values(ascending = False)\n",
        "data_NA"
      ],
      "execution_count": 117,
      "outputs": [
        {
          "output_type": "execute_result",
          "data": {
            "text/plain": [
              "Genre         Platform\n",
              "Figh/Shot     XB          10013\n",
              "Sports        Wii          9720\n",
              "Role-Playing  DS           4263\n",
              "Act/Adv       PS           4116\n",
              "Misc          Wii          3737\n",
              "Figh/Shot     PS           3331\n",
              "Platform      Wii          2766\n",
              "              DS           2500\n",
              "Sports        PS           2069\n",
              "Misc          XB           1497\n",
              "Sports        DS           1455\n",
              "Strategy      DS           1361\n",
              "Misc          DS           1088\n",
              "Role-Playing  PS            792\n",
              "Strategy      XB            676\n",
              "Figh/Shot     Wii           675\n",
              "Role-Playing  XB            503\n",
              "Strategy      PS            476\n",
              "Figh/Shot     GC            441\n",
              "Act/Adv       DS            440\n",
              "Sports        GC            412\n",
              "Platform      GC            401\n",
              "Sports        XB            392\n",
              "Act/Adv       Wii           383\n",
              "              XB            370\n",
              "Puzzle        DS            344\n",
              "Figh/Shot     DS            324\n",
              "Sports        WiiU          313\n",
              "Act/Adv       PSP           290\n",
              "Role-Playing  Wii           179\n",
              "Strategy      PC             98\n",
              "Role-Playing  PC              7\n",
              "Name: NA_Sales, dtype: int64"
            ]
          },
          "metadata": {
            "tags": []
          },
          "execution_count": 117
        }
      ]
    },
    {
      "cell_type": "code",
      "metadata": {
        "colab": {
          "base_uri": "https://localhost:8080/"
        },
        "id": "73FWZ7XFxP88",
        "outputId": "2ac05fff-19d7-4fbc-a50c-c26d11a604c2"
      },
      "source": [
        "data_EU=df3[(df3['EU_Sales']>0)]\n",
        "data_EU=data_EU.groupby(['Genre', 'Platform']).EU_Sales.sum()\n",
        "data_EU = data_EU.sort_values(ascending = False)\n",
        "data_EU"
      ],
      "execution_count": 119,
      "outputs": [
        {
          "output_type": "execute_result",
          "data": {
            "text/plain": [
              "Genre         Platform\n",
              "Sports        Wii         7606\n",
              "Figh/Shot     XB          3914\n",
              "Act/Adv       PS          3148\n",
              "Figh/Shot     PS          3109\n",
              "Role-Playing  DS          2854\n",
              "Sports        PS          2621\n",
              "Misc          Wii         2276\n",
              "Platform      DS          1840\n",
              "Strategy      DS          1683\n",
              "Platform      Wii         1472\n",
              "Misc          DS          1392\n",
              "Sports        DS          1148\n",
              "Role-Playing  PS           792\n",
              "Strategy      PC           642\n",
              "Role-Playing  PC           621\n",
              "Puzzle        DS           536\n",
              "Misc          XB           494\n",
              "Strategy      PS           376\n",
              "Role-Playing  Wii          353\n",
              "Strategy      XB           310\n",
              "Role-Playing  XB           286\n",
              "Act/Adv       PSP          283\n",
              "              DS           277\n",
              "Figh/Shot     Wii          261\n",
              "Act/Adv       Wii          219\n",
              "Sports        WiiU         206\n",
              "Act/Adv       XB           197\n",
              "Sports        XB           178\n",
              "              GC           177\n",
              "Figh/Shot     DS           135\n",
              "Platform      GC           126\n",
              "Figh/Shot     GC           104\n",
              "Name: EU_Sales, dtype: int64"
            ]
          },
          "metadata": {
            "tags": []
          },
          "execution_count": 119
        }
      ]
    },
    {
      "cell_type": "code",
      "metadata": {
        "colab": {
          "base_uri": "https://localhost:8080/"
        },
        "id": "QgoL4_7RxYYR",
        "outputId": "b43cefa4-566b-460f-ff36-5fa9aab14020"
      },
      "source": [
        "data_JP=df3[(df3['JP_Sales']>0)]\n",
        "data_JP=data_JP.groupby(['Genre', 'Platform']).JP_Sales.sum()\n",
        "data_JP = data_JP.sort_values(ascending = False)\n",
        "data_JP"
      ],
      "execution_count": 120,
      "outputs": [
        {
          "output_type": "execute_result",
          "data": {
            "text/plain": [
              "Genre         Platform\n",
              "Role-Playing  DS          3682\n",
              "Sports        Wii         1762\n",
              "Platform      DS          1235\n",
              "Strategy      DS          1162\n",
              "Platform      Wii          791\n",
              "Misc          DS           774\n",
              "Sports        DS           680\n",
              "Puzzle        DS           532\n",
              "Misc          Wii          452\n",
              "Sports        PS           407\n",
              "Act/Adv       DS           396\n",
              "Role-Playing  PS           322\n",
              "Figh/Shot     PS           302\n",
              "              Wii          266\n",
              "Role-Playing  Wii          249\n",
              "Figh/Shot     DS           242\n",
              "Act/Adv       PS           240\n",
              "Figh/Shot     GC           139\n",
              "Sports        WiiU         127\n",
              "Figh/Shot     XB           122\n",
              "Platform      GC            87\n",
              "Sports        GC            87\n",
              "Act/Adv       Wii           60\n",
              "Strategy      PS            44\n",
              "Misc          XB            24\n",
              "Act/Adv       PSP           24\n",
              "Strategy      XB            14\n",
              "Role-Playing  XB            10\n",
              "Act/Adv       XB             9\n",
              "Sports        XB             3\n",
              "Name: JP_Sales, dtype: int64"
            ]
          },
          "metadata": {
            "tags": []
          },
          "execution_count": 120
        }
      ]
    },
    {
      "cell_type": "code",
      "metadata": {
        "colab": {
          "base_uri": "https://localhost:8080/"
        },
        "id": "9knL95YHxfkV",
        "outputId": "4155b47d-1ede-48be-ba27-8c023d1ee9fc"
      },
      "source": [
        "data_Ot=df3[(df3['Other_Sales']>0)]\n",
        "data_Ot=data_Ot.groupby(['Genre', 'Platform']).Other_Sales.sum()\n",
        "data_Ot = data_Ot.sort_values(ascending = False)\n",
        "data_Ot"
      ],
      "execution_count": 121,
      "outputs": [
        {
          "output_type": "execute_result",
          "data": {
            "text/plain": [
              "Genre         Platform\n",
              "Act/Adv       PS          2189\n",
              "Sports        Wii         2025\n",
              "              PS          1590\n",
              "Figh/Shot     XB          1234\n",
              "              PS          1196\n",
              "Misc          Wii          672\n",
              "Role-Playing  DS           666\n",
              "Platform      DS           529\n",
              "              Wii          412\n",
              "Strategy      DS           404\n",
              "Misc          DS           336\n",
              "Sports        DS           281\n",
              "Role-Playing  PS           248\n",
              "Act/Adv       PSP          175\n",
              "Misc          XB           167\n",
              "Strategy      PS           162\n",
              "Puzzle        DS           118\n",
              "Strategy      XB           103\n",
              "Figh/Shot     Wii          102\n",
              "Role-Playing  XB            85\n",
              "Act/Adv       DS            77\n",
              "Strategy      PC            71\n",
              "Act/Adv       Wii           70\n",
              "Role-Playing  Wii           68\n",
              "Act/Adv       XB            56\n",
              "Sports        XB            51\n",
              "              WiiU          49\n",
              "Figh/Shot     DS            43\n",
              "              GC            22\n",
              "Sports        GC            19\n",
              "Platform      GC            17\n",
              "Name: Other_Sales, dtype: int64"
            ]
          },
          "metadata": {
            "tags": []
          },
          "execution_count": 121
        }
      ]
    }
  ]
}