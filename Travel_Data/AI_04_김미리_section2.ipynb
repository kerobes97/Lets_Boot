{
  "nbformat": 4,
  "nbformat_minor": 0,
  "metadata": {
    "colab": {
      "name": "AI_04_김미리_section2.ipynb",
      "provenance": [],
      "collapsed_sections": [
        "tgOfbR4X1Oqr",
        "ydUmbUtR1OB5",
        "D6GmqhwWoLJz"
      ]
    },
    "kernelspec": {
      "name": "python3",
      "display_name": "Python 3"
    },
    "language_info": {
      "name": "python"
    },
    "widgets": {
      "application/vnd.jupyter.widget-state+json": {
        "9a5991fa44ac4649885e828d17192069": {
          "model_module": "@jupyter-widgets/controls",
          "model_name": "VBoxModel",
          "state": {
            "_view_name": "VBoxView",
            "_dom_classes": [
              "widget-interact"
            ],
            "_model_name": "VBoxModel",
            "_view_module": "@jupyter-widgets/controls",
            "_model_module_version": "1.5.0",
            "_view_count": null,
            "_view_module_version": "1.5.0",
            "box_style": "",
            "layout": "IPY_MODEL_6bf7611d85154e68b53e6cc95a465f6d",
            "_model_module": "@jupyter-widgets/controls",
            "children": [
              "IPY_MODEL_6da5fe11718a4efd89359fe162c69c07",
              "IPY_MODEL_0f21aaf6f1d3495eb34c8e9bd1423712"
            ]
          }
        },
        "6bf7611d85154e68b53e6cc95a465f6d": {
          "model_module": "@jupyter-widgets/base",
          "model_name": "LayoutModel",
          "state": {
            "_view_name": "LayoutView",
            "grid_template_rows": null,
            "right": null,
            "justify_content": null,
            "_view_module": "@jupyter-widgets/base",
            "overflow": null,
            "_model_module_version": "1.2.0",
            "_view_count": null,
            "flex_flow": null,
            "width": null,
            "min_width": null,
            "border": null,
            "align_items": null,
            "bottom": null,
            "_model_module": "@jupyter-widgets/base",
            "top": null,
            "grid_column": null,
            "overflow_y": null,
            "overflow_x": null,
            "grid_auto_flow": null,
            "grid_area": null,
            "grid_template_columns": null,
            "flex": null,
            "_model_name": "LayoutModel",
            "justify_items": null,
            "grid_row": null,
            "max_height": null,
            "align_content": null,
            "visibility": null,
            "align_self": null,
            "height": null,
            "min_height": null,
            "padding": null,
            "grid_auto_rows": null,
            "grid_gap": null,
            "max_width": null,
            "order": null,
            "_view_module_version": "1.2.0",
            "grid_template_areas": null,
            "object_position": null,
            "object_fit": null,
            "grid_auto_columns": null,
            "margin": null,
            "display": null,
            "left": null
          }
        },
        "6da5fe11718a4efd89359fe162c69c07": {
          "model_module": "@jupyter-widgets/controls",
          "model_name": "FloatSliderModel",
          "state": {
            "_view_name": "FloatSliderView",
            "style": "IPY_MODEL_5767dc86073f4a87a4d72adea0f432f7",
            "_dom_classes": [],
            "description": "threshold",
            "step": 0.01,
            "_model_name": "FloatSliderModel",
            "orientation": "horizontal",
            "max": 1,
            "_view_module": "@jupyter-widgets/controls",
            "_model_module_version": "1.5.0",
            "value": 0.5,
            "_view_count": null,
            "disabled": false,
            "_view_module_version": "1.5.0",
            "min": 0,
            "continuous_update": true,
            "readout_format": ".2f",
            "description_tooltip": null,
            "readout": true,
            "_model_module": "@jupyter-widgets/controls",
            "layout": "IPY_MODEL_82fd78b501004ab09560e7ce4d1dff13"
          }
        },
        "0f21aaf6f1d3495eb34c8e9bd1423712": {
          "model_module": "@jupyter-widgets/output",
          "model_name": "OutputModel",
          "state": {
            "_view_name": "OutputView",
            "msg_id": "",
            "_dom_classes": [],
            "_model_name": "OutputModel",
            "outputs": [
              {
                "output_type": "display_data",
                "metadata": {
                  "tags": [],
                  "needs_background": "light"
                },
                "image/png": "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\n",
                "text/plain": "<Figure size 432x288 with 1 Axes>"
              },
              {
                "output_type": "stream",
                "metadata": {
                  "tags": []
                },
                "text": "              precision    recall  f1-score   support\n\n       False       0.95      0.72      0.82      5973\n        True       0.21      0.65      0.32       687\n\n    accuracy                           0.71      6660\n   macro avg       0.58      0.68      0.57      6660\nweighted avg       0.87      0.71      0.77      6660\n\n",
                "stream": "stdout"
              }
            ],
            "_view_module": "@jupyter-widgets/output",
            "_model_module_version": "1.0.0",
            "_view_count": null,
            "_view_module_version": "1.0.0",
            "layout": "IPY_MODEL_6d453dc4c2d84730a12a7ee5a31dc28d",
            "_model_module": "@jupyter-widgets/output"
          }
        },
        "5767dc86073f4a87a4d72adea0f432f7": {
          "model_module": "@jupyter-widgets/controls",
          "model_name": "SliderStyleModel",
          "state": {
            "_view_name": "StyleView",
            "handle_color": null,
            "_model_name": "SliderStyleModel",
            "description_width": "",
            "_view_module": "@jupyter-widgets/base",
            "_model_module_version": "1.5.0",
            "_view_count": null,
            "_view_module_version": "1.2.0",
            "_model_module": "@jupyter-widgets/controls"
          }
        },
        "82fd78b501004ab09560e7ce4d1dff13": {
          "model_module": "@jupyter-widgets/base",
          "model_name": "LayoutModel",
          "state": {
            "_view_name": "LayoutView",
            "grid_template_rows": null,
            "right": null,
            "justify_content": null,
            "_view_module": "@jupyter-widgets/base",
            "overflow": null,
            "_model_module_version": "1.2.0",
            "_view_count": null,
            "flex_flow": null,
            "width": null,
            "min_width": null,
            "border": null,
            "align_items": null,
            "bottom": null,
            "_model_module": "@jupyter-widgets/base",
            "top": null,
            "grid_column": null,
            "overflow_y": null,
            "overflow_x": null,
            "grid_auto_flow": null,
            "grid_area": null,
            "grid_template_columns": null,
            "flex": null,
            "_model_name": "LayoutModel",
            "justify_items": null,
            "grid_row": null,
            "max_height": null,
            "align_content": null,
            "visibility": null,
            "align_self": null,
            "height": null,
            "min_height": null,
            "padding": null,
            "grid_auto_rows": null,
            "grid_gap": null,
            "max_width": null,
            "order": null,
            "_view_module_version": "1.2.0",
            "grid_template_areas": null,
            "object_position": null,
            "object_fit": null,
            "grid_auto_columns": null,
            "margin": null,
            "display": null,
            "left": null
          }
        },
        "6d453dc4c2d84730a12a7ee5a31dc28d": {
          "model_module": "@jupyter-widgets/base",
          "model_name": "LayoutModel",
          "state": {
            "_view_name": "LayoutView",
            "grid_template_rows": null,
            "right": null,
            "justify_content": null,
            "_view_module": "@jupyter-widgets/base",
            "overflow": null,
            "_model_module_version": "1.2.0",
            "_view_count": null,
            "flex_flow": null,
            "width": null,
            "min_width": null,
            "border": null,
            "align_items": null,
            "bottom": null,
            "_model_module": "@jupyter-widgets/base",
            "top": null,
            "grid_column": null,
            "overflow_y": null,
            "overflow_x": null,
            "grid_auto_flow": null,
            "grid_area": null,
            "grid_template_columns": null,
            "flex": null,
            "_model_name": "LayoutModel",
            "justify_items": null,
            "grid_row": null,
            "max_height": null,
            "align_content": null,
            "visibility": null,
            "align_self": null,
            "height": null,
            "min_height": null,
            "padding": null,
            "grid_auto_rows": null,
            "grid_gap": null,
            "max_width": null,
            "order": null,
            "_view_module_version": "1.2.0",
            "grid_template_areas": null,
            "object_position": null,
            "object_fit": null,
            "grid_auto_columns": null,
            "margin": null,
            "display": null,
            "left": null
          }
        }
      }
    }
  },
  "cells": [
    {
      "cell_type": "markdown",
      "metadata": {
        "id": "mi52Cpg2z-BZ"
      },
      "source": [
        "# **1. 데이터 세팅**\n",
        "\n",
        "데이터 출처 : http://know.tour.go.kr (관광정보시스템)\n",
        "\n",
        "* 2018-2019년 자료\n",
        "* 총 응답자(N) : 34,746명"
      ]
    },
    {
      "cell_type": "markdown",
      "metadata": {
        "id": "3ghKtEUi0Dr9"
      },
      "source": [
        "###Data Describe"
      ]
    },
    {
      "cell_type": "markdown",
      "metadata": {
        "id": "YVDQiDOl0F6-"
      },
      "source": [
        "* ID 아이디\n",
        "\n",
        "* SMONTH 여행 시작 월\n",
        "* S_Day 여행일수(박)\n",
        "* TCOST 여행 총경비\n",
        "* TNUM 여행 인원\n",
        "* ONE_TCOST 1인 지출비용\n",
        "* CASE 여행유형\n",
        "* SPOT 1번째 여행 1번째 방문지\n",
        "---\n",
        "* AG 여행사상품구매여부\n",
        "* AGTYPE 여행사 상품 종류 (전체/부분)\n",
        "* A2_1~3 여행지선택 이유 1-3순위\n",
        "* A7B 동반자 유형\n",
        "---\n",
        "* PRE_TOTAL 여행전 지출 총합_1인\n",
        "* NA10A 여행사 지출비용_1인\n",
        "* NA10C 숙박비_1인\n",
        "* NA10D 식비_1인\n",
        "* NA10E 교통비_1인\n",
        "* NA10F 여행활동비_1인\n",
        "* NA10G 쇼핑비_1인\n",
        "* NA10_TOTAL 여행지 지출 총합_1인\n",
        "---\n",
        "* RATING 전반적 만족도\n",
        "* A13 재방문 의도\n",
        "* A14 타인추천의도\n",
        "---\n",
        "* DQ5 월평균 가구 소득\n",
        "* DQ6 월평균 본인 소득\n",
        "* SEX 성별\n",
        "* BAGE 연령대\n",
        "* BARA 거주지역"
      ]
    },
    {
      "cell_type": "code",
      "metadata": {
        "id": "ygdSBkCuKl8y"
      },
      "source": [
        "%%capture\n",
        "import sys\n",
        "\n",
        "if 'google.colab' in sys.modules:\n",
        "    !pip install category_encoders==2.*\n",
        "    !pip install eli5\n",
        "    !pip install pdpbox\n",
        "    !pip install shap\n",
        "!conda install -c conda-forge shap\n",
        "!conda install -c conda-forge shap"
      ],
      "execution_count": 204,
      "outputs": []
    },
    {
      "cell_type": "markdown",
      "metadata": {
        "id": "70qGw_Zr0JJM"
      },
      "source": [
        "## **1-1 raw data  전처리**"
      ]
    },
    {
      "cell_type": "code",
      "metadata": {
        "colab": {
          "base_uri": "https://localhost:8080/"
        },
        "id": "zy6WfmzOzSm8",
        "outputId": "5c147c12-3862-443b-baf8-a4d915df312f"
      },
      "source": [
        "!git clone https://github.com/kerobes97/Lets_Boot.git"
      ],
      "execution_count": 205,
      "outputs": [
        {
          "output_type": "stream",
          "text": [
            "fatal: destination path 'Lets_Boot' already exists and is not an empty directory.\n"
          ],
          "name": "stdout"
        }
      ]
    },
    {
      "cell_type": "code",
      "metadata": {
        "colab": {
          "base_uri": "https://localhost:8080/"
        },
        "id": "Awvvf0WzgzTH",
        "outputId": "1442261e-50a7-44d2-cb96-1ac71dcf6950"
      },
      "source": [
        "!ls /content/Lets_Boot/Travel_Data/Datasets"
      ],
      "execution_count": 206,
      "outputs": [
        {
          "output_type": "stream",
          "text": [
            "'2018 국민여행조사_국내여행.xlsx'  'Data Describe'\n",
            "'2019 국민여행조사_국내여행.xlsx'\n"
          ],
          "name": "stdout"
        }
      ]
    },
    {
      "cell_type": "code",
      "metadata": {
        "id": "V2P54fHSzWra",
        "colab": {
          "base_uri": "https://localhost:8080/"
        },
        "outputId": "bb475a5d-97b0-4176-9fcc-94f9afaf6240"
      },
      "source": [
        "import pandas as pd\n",
        "\n",
        "df18 = pd.read_excel('/content/Lets_Boot/Travel_Data/Datasets/2018 국민여행조사_국내여행.xlsx')\n",
        "df19 = pd.read_excel('/content/Lets_Boot/Travel_Data/Datasets/2019 국민여행조사_국내여행.xlsx') \n",
        "df18.shape,  df19.shape"
      ],
      "execution_count": 207,
      "outputs": [
        {
          "output_type": "execute_result",
          "data": {
            "text/plain": [
              "((24154, 43), (48269, 38))"
            ]
          },
          "metadata": {
            "tags": []
          },
          "execution_count": 207
        }
      ]
    },
    {
      "cell_type": "code",
      "metadata": {
        "id": "YTHx1M_I0MUk"
      },
      "source": [
        "# #만족도 조사가 완료된 데이터만 사용\n",
        "# 하려했으나 -> 만족도 편향이 너어어어무 심해서 안그러기로\n",
        "\n",
        "# df18=df18.dropna(subset=['RATING'])\n",
        "# df19=df19.dropna(subset=['RATING'])"
      ],
      "execution_count": 208,
      "outputs": []
    },
    {
      "cell_type": "code",
      "metadata": {
        "colab": {
          "base_uri": "https://localhost:8080/",
          "height": 438
        },
        "id": "w3oI8vG30T-X",
        "outputId": "47f18b99-cd9b-43bb-89f6-779d98aff45b"
      },
      "source": [
        "#18년도 데이터 S_Day\n",
        "df18['start'] = pd.to_datetime(dict(year=df18.D_TRA1_SYEAR, month=df18.D_TRA1_SMONTH, day=df18.D_TRA1_SDAY))\n",
        "df18['end'] = pd.to_datetime(dict(year=df18.D_TRA1_EYEAR, month=df18.D_TRA1_EMONTH, day=df18.D_TRA1_EDAY))\n",
        "\n",
        "df18['S_Day']= (df18['end'] - df18['start']).dt.days\n",
        "df18.head(10)"
      ],
      "execution_count": 209,
      "outputs": [
        {
          "output_type": "execute_result",
          "data": {
            "text/html": [
              "<div>\n",
              "<style scoped>\n",
              "    .dataframe tbody tr th:only-of-type {\n",
              "        vertical-align: middle;\n",
              "    }\n",
              "\n",
              "    .dataframe tbody tr th {\n",
              "        vertical-align: top;\n",
              "    }\n",
              "\n",
              "    .dataframe thead th {\n",
              "        text-align: right;\n",
              "    }\n",
              "</style>\n",
              "<table border=\"1\" class=\"dataframe\">\n",
              "  <thead>\n",
              "    <tr style=\"text-align: right;\">\n",
              "      <th></th>\n",
              "      <th>ID</th>\n",
              "      <th>MON_EXP_DOM_TOUR</th>\n",
              "      <th>MON_EXP_DOM_BUSIN</th>\n",
              "      <th>MON_EXP_DOM_FRI</th>\n",
              "      <th>D_TRA1_SYEAR</th>\n",
              "      <th>D_TRA1_SMONTH</th>\n",
              "      <th>D_TRA1_SDAY</th>\n",
              "      <th>D_TRA1_EYEAR</th>\n",
              "      <th>D_TRA1_EMONTH</th>\n",
              "      <th>D_TRA1_EDAY</th>\n",
              "      <th>TNUM</th>\n",
              "      <th>ONE_TCOST</th>\n",
              "      <th>CASE</th>\n",
              "      <th>SPOT</th>\n",
              "      <th>AG</th>\n",
              "      <th>AGTYPE</th>\n",
              "      <th>A2_1</th>\n",
              "      <th>A2_2</th>\n",
              "      <th>A2_3</th>\n",
              "      <th>A7B_1</th>\n",
              "      <th>A7B_2</th>\n",
              "      <th>A7B_3</th>\n",
              "      <th>A7B_4</th>\n",
              "      <th>A7B_5</th>\n",
              "      <th>A7B_6</th>\n",
              "      <th>PRE_TOTAL</th>\n",
              "      <th>NA10A</th>\n",
              "      <th>NA10C</th>\n",
              "      <th>NA10D</th>\n",
              "      <th>NA10E</th>\n",
              "      <th>NA10F</th>\n",
              "      <th>NA10G</th>\n",
              "      <th>NA_TOTAL</th>\n",
              "      <th>RATING</th>\n",
              "      <th>A13</th>\n",
              "      <th>A14</th>\n",
              "      <th>DQ5</th>\n",
              "      <th>DQ6</th>\n",
              "      <th>SEX</th>\n",
              "      <th>BAGE</th>\n",
              "      <th>BARA</th>\n",
              "      <th>EXP_NIGHT</th>\n",
              "      <th>EXP_ADAY</th>\n",
              "      <th>start</th>\n",
              "      <th>end</th>\n",
              "      <th>S_Day</th>\n",
              "    </tr>\n",
              "  </thead>\n",
              "  <tbody>\n",
              "    <tr>\n",
              "      <th>0</th>\n",
              "      <td>11010560291_702520</td>\n",
              "      <td>2</td>\n",
              "      <td>2</td>\n",
              "      <td>2</td>\n",
              "      <td>NaN</td>\n",
              "      <td>NaN</td>\n",
              "      <td>NaN</td>\n",
              "      <td>NaN</td>\n",
              "      <td>NaN</td>\n",
              "      <td>NaN</td>\n",
              "      <td>NaN</td>\n",
              "      <td>NaN</td>\n",
              "      <td>NaN</td>\n",
              "      <td>NaN</td>\n",
              "      <td>NaN</td>\n",
              "      <td>NaN</td>\n",
              "      <td>NaN</td>\n",
              "      <td>NaN</td>\n",
              "      <td>NaN</td>\n",
              "      <td>NaN</td>\n",
              "      <td>NaN</td>\n",
              "      <td>NaN</td>\n",
              "      <td>NaN</td>\n",
              "      <td>NaN</td>\n",
              "      <td>NaN</td>\n",
              "      <td>NaN</td>\n",
              "      <td>NaN</td>\n",
              "      <td>NaN</td>\n",
              "      <td>NaN</td>\n",
              "      <td>NaN</td>\n",
              "      <td>NaN</td>\n",
              "      <td>NaN</td>\n",
              "      <td>NaN</td>\n",
              "      <td>NaN</td>\n",
              "      <td>NaN</td>\n",
              "      <td>NaN</td>\n",
              "      <td>12</td>\n",
              "      <td>9</td>\n",
              "      <td>1</td>\n",
              "      <td>3</td>\n",
              "      <td>11</td>\n",
              "      <td>0</td>\n",
              "      <td>0</td>\n",
              "      <td>NaT</td>\n",
              "      <td>NaT</td>\n",
              "      <td>NaN</td>\n",
              "    </tr>\n",
              "    <tr>\n",
              "      <th>1</th>\n",
              "      <td>11010560291_702521</td>\n",
              "      <td>2</td>\n",
              "      <td>2</td>\n",
              "      <td>2</td>\n",
              "      <td>NaN</td>\n",
              "      <td>NaN</td>\n",
              "      <td>NaN</td>\n",
              "      <td>NaN</td>\n",
              "      <td>NaN</td>\n",
              "      <td>NaN</td>\n",
              "      <td>NaN</td>\n",
              "      <td>NaN</td>\n",
              "      <td>NaN</td>\n",
              "      <td>NaN</td>\n",
              "      <td>NaN</td>\n",
              "      <td>NaN</td>\n",
              "      <td>NaN</td>\n",
              "      <td>NaN</td>\n",
              "      <td>NaN</td>\n",
              "      <td>NaN</td>\n",
              "      <td>NaN</td>\n",
              "      <td>NaN</td>\n",
              "      <td>NaN</td>\n",
              "      <td>NaN</td>\n",
              "      <td>NaN</td>\n",
              "      <td>NaN</td>\n",
              "      <td>NaN</td>\n",
              "      <td>NaN</td>\n",
              "      <td>NaN</td>\n",
              "      <td>NaN</td>\n",
              "      <td>NaN</td>\n",
              "      <td>NaN</td>\n",
              "      <td>NaN</td>\n",
              "      <td>NaN</td>\n",
              "      <td>NaN</td>\n",
              "      <td>NaN</td>\n",
              "      <td>12</td>\n",
              "      <td>6</td>\n",
              "      <td>2</td>\n",
              "      <td>4</td>\n",
              "      <td>11</td>\n",
              "      <td>0</td>\n",
              "      <td>0</td>\n",
              "      <td>NaT</td>\n",
              "      <td>NaT</td>\n",
              "      <td>NaN</td>\n",
              "    </tr>\n",
              "    <tr>\n",
              "      <th>2</th>\n",
              "      <td>11010560291_702526</td>\n",
              "      <td>2</td>\n",
              "      <td>2</td>\n",
              "      <td>2</td>\n",
              "      <td>NaN</td>\n",
              "      <td>NaN</td>\n",
              "      <td>NaN</td>\n",
              "      <td>NaN</td>\n",
              "      <td>NaN</td>\n",
              "      <td>NaN</td>\n",
              "      <td>NaN</td>\n",
              "      <td>NaN</td>\n",
              "      <td>NaN</td>\n",
              "      <td>NaN</td>\n",
              "      <td>NaN</td>\n",
              "      <td>NaN</td>\n",
              "      <td>NaN</td>\n",
              "      <td>NaN</td>\n",
              "      <td>NaN</td>\n",
              "      <td>NaN</td>\n",
              "      <td>NaN</td>\n",
              "      <td>NaN</td>\n",
              "      <td>NaN</td>\n",
              "      <td>NaN</td>\n",
              "      <td>NaN</td>\n",
              "      <td>NaN</td>\n",
              "      <td>NaN</td>\n",
              "      <td>NaN</td>\n",
              "      <td>NaN</td>\n",
              "      <td>NaN</td>\n",
              "      <td>NaN</td>\n",
              "      <td>NaN</td>\n",
              "      <td>NaN</td>\n",
              "      <td>NaN</td>\n",
              "      <td>NaN</td>\n",
              "      <td>NaN</td>\n",
              "      <td>12</td>\n",
              "      <td>99</td>\n",
              "      <td>2</td>\n",
              "      <td>2</td>\n",
              "      <td>11</td>\n",
              "      <td>0</td>\n",
              "      <td>0</td>\n",
              "      <td>NaT</td>\n",
              "      <td>NaT</td>\n",
              "      <td>NaN</td>\n",
              "    </tr>\n",
              "    <tr>\n",
              "      <th>3</th>\n",
              "      <td>11010560291_702539</td>\n",
              "      <td>1</td>\n",
              "      <td>2</td>\n",
              "      <td>2</td>\n",
              "      <td>2018.0</td>\n",
              "      <td>7.0</td>\n",
              "      <td>6.0</td>\n",
              "      <td>2018.0</td>\n",
              "      <td>7.0</td>\n",
              "      <td>8.0</td>\n",
              "      <td>5.0</td>\n",
              "      <td>360000.0</td>\n",
              "      <td>2.0</td>\n",
              "      <td>39.0</td>\n",
              "      <td>2.0</td>\n",
              "      <td>NaN</td>\n",
              "      <td>5.0</td>\n",
              "      <td>3.0</td>\n",
              "      <td>2.0</td>\n",
              "      <td>NaN</td>\n",
              "      <td>NaN</td>\n",
              "      <td>3.0</td>\n",
              "      <td>NaN</td>\n",
              "      <td>NaN</td>\n",
              "      <td>NaN</td>\n",
              "      <td>0.0</td>\n",
              "      <td>0.0</td>\n",
              "      <td>55214.723926</td>\n",
              "      <td>123680.981595</td>\n",
              "      <td>149079.754601</td>\n",
              "      <td>5521.472393</td>\n",
              "      <td>26503.067485</td>\n",
              "      <td>360000.0</td>\n",
              "      <td>4.0</td>\n",
              "      <td>5.0</td>\n",
              "      <td>4.0</td>\n",
              "      <td>12</td>\n",
              "      <td>99</td>\n",
              "      <td>2</td>\n",
              "      <td>6</td>\n",
              "      <td>11</td>\n",
              "      <td>1</td>\n",
              "      <td>0</td>\n",
              "      <td>2018-07-06</td>\n",
              "      <td>2018-07-08</td>\n",
              "      <td>2.0</td>\n",
              "    </tr>\n",
              "    <tr>\n",
              "      <th>4</th>\n",
              "      <td>11010560291_702558</td>\n",
              "      <td>2</td>\n",
              "      <td>2</td>\n",
              "      <td>2</td>\n",
              "      <td>NaN</td>\n",
              "      <td>NaN</td>\n",
              "      <td>NaN</td>\n",
              "      <td>NaN</td>\n",
              "      <td>NaN</td>\n",
              "      <td>NaN</td>\n",
              "      <td>NaN</td>\n",
              "      <td>NaN</td>\n",
              "      <td>NaN</td>\n",
              "      <td>NaN</td>\n",
              "      <td>NaN</td>\n",
              "      <td>NaN</td>\n",
              "      <td>NaN</td>\n",
              "      <td>NaN</td>\n",
              "      <td>NaN</td>\n",
              "      <td>NaN</td>\n",
              "      <td>NaN</td>\n",
              "      <td>NaN</td>\n",
              "      <td>NaN</td>\n",
              "      <td>NaN</td>\n",
              "      <td>NaN</td>\n",
              "      <td>NaN</td>\n",
              "      <td>NaN</td>\n",
              "      <td>NaN</td>\n",
              "      <td>NaN</td>\n",
              "      <td>NaN</td>\n",
              "      <td>NaN</td>\n",
              "      <td>NaN</td>\n",
              "      <td>NaN</td>\n",
              "      <td>NaN</td>\n",
              "      <td>NaN</td>\n",
              "      <td>NaN</td>\n",
              "      <td>10</td>\n",
              "      <td>7</td>\n",
              "      <td>1</td>\n",
              "      <td>5</td>\n",
              "      <td>11</td>\n",
              "      <td>0</td>\n",
              "      <td>0</td>\n",
              "      <td>NaT</td>\n",
              "      <td>NaT</td>\n",
              "      <td>NaN</td>\n",
              "    </tr>\n",
              "    <tr>\n",
              "      <th>5</th>\n",
              "      <td>11010560321_500005</td>\n",
              "      <td>1</td>\n",
              "      <td>2</td>\n",
              "      <td>2</td>\n",
              "      <td>2018.0</td>\n",
              "      <td>5.0</td>\n",
              "      <td>19.0</td>\n",
              "      <td>2018.0</td>\n",
              "      <td>5.0</td>\n",
              "      <td>19.0</td>\n",
              "      <td>33.0</td>\n",
              "      <td>57200.0</td>\n",
              "      <td>2.0</td>\n",
              "      <td>34.0</td>\n",
              "      <td>2.0</td>\n",
              "      <td>NaN</td>\n",
              "      <td>2.0</td>\n",
              "      <td>14.0</td>\n",
              "      <td>NaN</td>\n",
              "      <td>NaN</td>\n",
              "      <td>NaN</td>\n",
              "      <td>NaN</td>\n",
              "      <td>NaN</td>\n",
              "      <td>5.0</td>\n",
              "      <td>NaN</td>\n",
              "      <td>0.0</td>\n",
              "      <td>0.0</td>\n",
              "      <td>0.000000</td>\n",
              "      <td>4200.000000</td>\n",
              "      <td>10000.000000</td>\n",
              "      <td>3000.000000</td>\n",
              "      <td>10000.000000</td>\n",
              "      <td>57200.0</td>\n",
              "      <td>4.0</td>\n",
              "      <td>4.0</td>\n",
              "      <td>3.0</td>\n",
              "      <td>10</td>\n",
              "      <td>5</td>\n",
              "      <td>2</td>\n",
              "      <td>5</td>\n",
              "      <td>11</td>\n",
              "      <td>0</td>\n",
              "      <td>1</td>\n",
              "      <td>2018-05-19</td>\n",
              "      <td>2018-05-19</td>\n",
              "      <td>0.0</td>\n",
              "    </tr>\n",
              "    <tr>\n",
              "      <th>6</th>\n",
              "      <td>11010560321_500010</td>\n",
              "      <td>1</td>\n",
              "      <td>2</td>\n",
              "      <td>2</td>\n",
              "      <td>2018.0</td>\n",
              "      <td>5.0</td>\n",
              "      <td>8.0</td>\n",
              "      <td>2018.0</td>\n",
              "      <td>5.0</td>\n",
              "      <td>8.0</td>\n",
              "      <td>5.0</td>\n",
              "      <td>90000.0</td>\n",
              "      <td>2.0</td>\n",
              "      <td>31.0</td>\n",
              "      <td>2.0</td>\n",
              "      <td>NaN</td>\n",
              "      <td>12.0</td>\n",
              "      <td>4.0</td>\n",
              "      <td>14.0</td>\n",
              "      <td>NaN</td>\n",
              "      <td>NaN</td>\n",
              "      <td>3.0</td>\n",
              "      <td>NaN</td>\n",
              "      <td>NaN</td>\n",
              "      <td>NaN</td>\n",
              "      <td>0.0</td>\n",
              "      <td>0.0</td>\n",
              "      <td>0.000000</td>\n",
              "      <td>51373.390558</td>\n",
              "      <td>7725.321888</td>\n",
              "      <td>11587.982833</td>\n",
              "      <td>19313.304721</td>\n",
              "      <td>90000.0</td>\n",
              "      <td>4.0</td>\n",
              "      <td>4.0</td>\n",
              "      <td>4.0</td>\n",
              "      <td>8</td>\n",
              "      <td>8</td>\n",
              "      <td>1</td>\n",
              "      <td>7</td>\n",
              "      <td>11</td>\n",
              "      <td>0</td>\n",
              "      <td>1</td>\n",
              "      <td>2018-05-08</td>\n",
              "      <td>2018-05-08</td>\n",
              "      <td>0.0</td>\n",
              "    </tr>\n",
              "    <tr>\n",
              "      <th>7</th>\n",
              "      <td>11010560321_500015</td>\n",
              "      <td>2</td>\n",
              "      <td>2</td>\n",
              "      <td>2</td>\n",
              "      <td>NaN</td>\n",
              "      <td>NaN</td>\n",
              "      <td>NaN</td>\n",
              "      <td>NaN</td>\n",
              "      <td>NaN</td>\n",
              "      <td>NaN</td>\n",
              "      <td>NaN</td>\n",
              "      <td>NaN</td>\n",
              "      <td>NaN</td>\n",
              "      <td>NaN</td>\n",
              "      <td>NaN</td>\n",
              "      <td>NaN</td>\n",
              "      <td>NaN</td>\n",
              "      <td>NaN</td>\n",
              "      <td>NaN</td>\n",
              "      <td>NaN</td>\n",
              "      <td>NaN</td>\n",
              "      <td>NaN</td>\n",
              "      <td>NaN</td>\n",
              "      <td>NaN</td>\n",
              "      <td>NaN</td>\n",
              "      <td>NaN</td>\n",
              "      <td>NaN</td>\n",
              "      <td>NaN</td>\n",
              "      <td>NaN</td>\n",
              "      <td>NaN</td>\n",
              "      <td>NaN</td>\n",
              "      <td>NaN</td>\n",
              "      <td>NaN</td>\n",
              "      <td>NaN</td>\n",
              "      <td>NaN</td>\n",
              "      <td>NaN</td>\n",
              "      <td>8</td>\n",
              "      <td>99</td>\n",
              "      <td>1</td>\n",
              "      <td>1</td>\n",
              "      <td>11</td>\n",
              "      <td>0</td>\n",
              "      <td>0</td>\n",
              "      <td>NaT</td>\n",
              "      <td>NaT</td>\n",
              "      <td>NaN</td>\n",
              "    </tr>\n",
              "    <tr>\n",
              "      <th>8</th>\n",
              "      <td>11010560321_500023</td>\n",
              "      <td>2</td>\n",
              "      <td>2</td>\n",
              "      <td>2</td>\n",
              "      <td>NaN</td>\n",
              "      <td>NaN</td>\n",
              "      <td>NaN</td>\n",
              "      <td>NaN</td>\n",
              "      <td>NaN</td>\n",
              "      <td>NaN</td>\n",
              "      <td>NaN</td>\n",
              "      <td>NaN</td>\n",
              "      <td>NaN</td>\n",
              "      <td>NaN</td>\n",
              "      <td>NaN</td>\n",
              "      <td>NaN</td>\n",
              "      <td>NaN</td>\n",
              "      <td>NaN</td>\n",
              "      <td>NaN</td>\n",
              "      <td>NaN</td>\n",
              "      <td>NaN</td>\n",
              "      <td>NaN</td>\n",
              "      <td>NaN</td>\n",
              "      <td>NaN</td>\n",
              "      <td>NaN</td>\n",
              "      <td>NaN</td>\n",
              "      <td>NaN</td>\n",
              "      <td>NaN</td>\n",
              "      <td>NaN</td>\n",
              "      <td>NaN</td>\n",
              "      <td>NaN</td>\n",
              "      <td>NaN</td>\n",
              "      <td>NaN</td>\n",
              "      <td>NaN</td>\n",
              "      <td>NaN</td>\n",
              "      <td>NaN</td>\n",
              "      <td>6</td>\n",
              "      <td>6</td>\n",
              "      <td>1</td>\n",
              "      <td>3</td>\n",
              "      <td>11</td>\n",
              "      <td>0</td>\n",
              "      <td>0</td>\n",
              "      <td>NaT</td>\n",
              "      <td>NaT</td>\n",
              "      <td>NaN</td>\n",
              "    </tr>\n",
              "    <tr>\n",
              "      <th>9</th>\n",
              "      <td>11010560321_500029</td>\n",
              "      <td>1</td>\n",
              "      <td>2</td>\n",
              "      <td>2</td>\n",
              "      <td>2018.0</td>\n",
              "      <td>5.0</td>\n",
              "      <td>4.0</td>\n",
              "      <td>2018.0</td>\n",
              "      <td>5.0</td>\n",
              "      <td>6.0</td>\n",
              "      <td>5.0</td>\n",
              "      <td>68500.0</td>\n",
              "      <td>2.0</td>\n",
              "      <td>35.0</td>\n",
              "      <td>2.0</td>\n",
              "      <td>NaN</td>\n",
              "      <td>5.0</td>\n",
              "      <td>4.0</td>\n",
              "      <td>8.0</td>\n",
              "      <td>1.0</td>\n",
              "      <td>NaN</td>\n",
              "      <td>NaN</td>\n",
              "      <td>NaN</td>\n",
              "      <td>NaN</td>\n",
              "      <td>NaN</td>\n",
              "      <td>0.0</td>\n",
              "      <td>0.0</td>\n",
              "      <td>0.000000</td>\n",
              "      <td>44500.000000</td>\n",
              "      <td>24000.000000</td>\n",
              "      <td>0.000000</td>\n",
              "      <td>0.000000</td>\n",
              "      <td>68500.0</td>\n",
              "      <td>4.0</td>\n",
              "      <td>4.0</td>\n",
              "      <td>3.0</td>\n",
              "      <td>4</td>\n",
              "      <td>4</td>\n",
              "      <td>2</td>\n",
              "      <td>6</td>\n",
              "      <td>11</td>\n",
              "      <td>1</td>\n",
              "      <td>0</td>\n",
              "      <td>2018-05-04</td>\n",
              "      <td>2018-05-06</td>\n",
              "      <td>2.0</td>\n",
              "    </tr>\n",
              "  </tbody>\n",
              "</table>\n",
              "</div>"
            ],
            "text/plain": [
              "                   ID  MON_EXP_DOM_TOUR  ...        end  S_Day\n",
              "0  11010560291_702520                 2  ...        NaT    NaN\n",
              "1  11010560291_702521                 2  ...        NaT    NaN\n",
              "2  11010560291_702526                 2  ...        NaT    NaN\n",
              "3  11010560291_702539                 1  ... 2018-07-08    2.0\n",
              "4  11010560291_702558                 2  ...        NaT    NaN\n",
              "5  11010560321_500005                 1  ... 2018-05-19    0.0\n",
              "6  11010560321_500010                 1  ... 2018-05-08    0.0\n",
              "7  11010560321_500015                 2  ...        NaT    NaN\n",
              "8  11010560321_500023                 2  ...        NaT    NaN\n",
              "9  11010560321_500029                 1  ... 2018-05-06    2.0\n",
              "\n",
              "[10 rows x 46 columns]"
            ]
          },
          "metadata": {
            "tags": []
          },
          "execution_count": 209
        }
      ]
    },
    {
      "cell_type": "code",
      "metadata": {
        "id": "72kewCV5Wyvv"
      },
      "source": [
        "#18년도 여행 안간사람 제외\n",
        "df18=df18[~df18['CASE'].isnull()]\n",
        "\n",
        "#19년도 여행 안간사람 제외\n",
        "df19=df19[~df19['CASE'].isnull()]"
      ],
      "execution_count": 210,
      "outputs": []
    },
    {
      "cell_type": "code",
      "metadata": {
        "id": "sLt1UVFa0VOB"
      },
      "source": [
        "#18년도 TCOST\n",
        "df18['TCOST']= df18['TNUM '] * df18['ONE_TCOST']"
      ],
      "execution_count": 211,
      "outputs": []
    },
    {
      "cell_type": "code",
      "metadata": {
        "colab": {
          "base_uri": "https://localhost:8080/"
        },
        "id": "ZBEAZtlA0b84",
        "outputId": "bdbcaea7-8d0c-480d-e50b-e713ea1e7cb1"
      },
      "source": [
        "#여행유형 확인\n",
        "df18['CASE'].unique(), df19['CASE'].unique()"
      ],
      "execution_count": 212,
      "outputs": [
        {
          "output_type": "execute_result",
          "data": {
            "text/plain": [
              "(array([2., 4., 3.]), array([1., 5., 3., 4., 2.]))"
            ]
          },
          "metadata": {
            "tags": []
          },
          "execution_count": 212
        }
      ]
    },
    {
      "cell_type": "code",
      "metadata": {
        "colab": {
          "base_uri": "https://localhost:8080/"
        },
        "id": "xV3P0xEl0d4y",
        "outputId": "f8d87bef-03f1-44dd-c014-18ca2aedec99"
      },
      "source": [
        "#여행유형 통일\n",
        "def case18(row):\n",
        "  if row['CASE']==2:\n",
        "    return 'trip'\n",
        "  elif row['CASE']==3:\n",
        "    return 'work'\n",
        "  elif row['CASE']==4:\n",
        "    return 'family'\n",
        "\n",
        "def case19(row):\n",
        "  if row['CASE']==1:\n",
        "    return 'trip'\n",
        "  elif row['CASE']==2:\n",
        "    return 'trip'\n",
        "  elif row['CASE']==3:\n",
        "    return 'family'\n",
        "  elif row['CASE']==4:\n",
        "    return 'work'\n",
        "  elif row['CASE']==5:\n",
        "    return 'work'\n",
        "\n",
        "\n",
        "df18['CASE'] = df18.apply(lambda row: case18(row), axis=1)\n",
        "df19['CASE'] = df19.apply(lambda row: case19(row), axis=1)\n",
        "\n",
        "df18['CASE'].unique(), df19['CASE'].unique()"
      ],
      "execution_count": 213,
      "outputs": [
        {
          "output_type": "execute_result",
          "data": {
            "text/plain": [
              "(array(['trip', 'family', 'work'], dtype=object),\n",
              " array(['trip', 'work', 'family'], dtype=object))"
            ]
          },
          "metadata": {
            "tags": []
          },
          "execution_count": 213
        }
      ]
    },
    {
      "cell_type": "code",
      "metadata": {
        "id": "bv_swOPp0gHd"
      },
      "source": [
        "#도시 번호 등록\n",
        "df19['SPOT'] = df19['SPOT']/1000\n",
        "df19['SPOT'] = df19['SPOT'].fillna(-1)\n",
        "df19['SPOT'] = df19['SPOT'].astype(int)\n",
        "df19['SPOT'] = df19['SPOT'].replace('-1', None)"
      ],
      "execution_count": 214,
      "outputs": []
    },
    {
      "cell_type": "code",
      "metadata": {
        "colab": {
          "base_uri": "https://localhost:8080/"
        },
        "id": "qjLCPj8C0ZG-",
        "outputId": "91356d5d-59a7-4819-a3d4-b246c3fa4586"
      },
      "source": [
        "df18.columns.unique(), df19.columns.unique()"
      ],
      "execution_count": 215,
      "outputs": [
        {
          "output_type": "execute_result",
          "data": {
            "text/plain": [
              "(Index(['ID', 'MON_EXP_DOM_TOUR', 'MON_EXP_DOM_BUSIN', 'MON_EXP_DOM_FRI',\n",
              "        'D_TRA1_SYEAR', 'D_TRA1_SMONTH', 'D_TRA1_SDAY', 'D_TRA1_EYEAR',\n",
              "        'D_TRA1_EMONTH', 'D_TRA1_EDAY', 'TNUM ', 'ONE_TCOST', 'CASE', 'SPOT',\n",
              "        'AG', 'AGTYPE', 'A2_1', 'A2_2', 'A2_3', 'A7B_1', 'A7B_2', 'A7B_3',\n",
              "        'A7B_4', 'A7B_5', 'A7B_6', 'PRE_TOTAL', 'NA10A', 'NA10C', 'NA10D',\n",
              "        'NA10E', 'NA10F', 'NA10G', 'NA_TOTAL', 'RATING', 'A13', 'A14', 'DQ5',\n",
              "        'DQ6', 'SEX', 'BAGE', 'BARA', 'EXP_NIGHT', 'EXP_ADAY', 'start', 'end',\n",
              "        'S_Day', 'TCOST'],\n",
              "       dtype='object'),\n",
              " Index(['ID', 'Q', 'SMONTH', 'S_Day', 'TCOST', 'TNUM', 'ONE_TCOST', 'CASE',\n",
              "        'SPOT', 'AG', 'AGTYPE', 'A2_1', 'A2_2', 'A2_3', 'A7B_1', 'A7B_2',\n",
              "        'A7B_3', 'A7B_4', 'A7B_5', 'A7B_6', 'PRE_TOTAL', 'NA10A', 'NA10C',\n",
              "        'NA10D', 'NA10E', 'NA10F', 'NA10G', 'NA_TOTAL', 'RATING', 'A13', 'A14',\n",
              "        'DQ5', 'DQ6', 'SEX', 'BAGE', 'BARA', 'EXP_NIGHT', 'EXP_ADAY'],\n",
              "       dtype='object'))"
            ]
          },
          "metadata": {
            "tags": []
          },
          "execution_count": 215
        }
      ]
    },
    {
      "cell_type": "code",
      "metadata": {
        "id": "1mqLDLwZ0aXr"
      },
      "source": [
        "#데이터 피쳐명 통일\n",
        "df18=df18[['ID', 'D_TRA1_SMONTH', 'S_Day', 'TCOST', 'TNUM ', 'ONE_TCOST', 'CASE', 'SPOT',\n",
        "          'A2_1', 'A2_2', 'A2_3', 'A7B_1', 'A7B_2', 'A7B_3', 'A7B_4', 'A7B_5', 'A7B_6',\n",
        "          'PRE_TOTAL', 'NA10A', 'NA10C', 'NA10D', 'NA10E', 'NA10F', 'NA10G', 'NA_TOTAL', \n",
        "          'RATING', 'A13', 'A14', 'DQ5', 'DQ6', 'SEX', 'BAGE', 'BARA',\n",
        "          'EXP_NIGHT', 'EXP_ADAY']]\n",
        "df18.rename(columns = {'D_TRA1_SMONTH':'SMONTH', 'TNUM ':'TNUM'}, inplace = True)\n",
        "\n",
        "df19=df19[['ID', 'SMONTH', 'S_Day', 'TCOST', 'TNUM', 'ONE_TCOST', 'CASE','SPOT', \n",
        "          'A2_1', 'A2_2', 'A2_3',  'A7B_1', 'A7B_2', 'A7B_3', 'A7B_4', 'A7B_5', 'A7B_6', \n",
        "          'PRE_TOTAL', 'NA10A', 'NA10C', 'NA10D', 'NA10E', 'NA10F', 'NA10G', 'NA_TOTAL', \n",
        "          'RATING', 'A13', 'A14', 'DQ5', 'DQ6', 'SEX', 'BAGE', 'BARA', \n",
        "          'EXP_NIGHT', 'EXP_ADAY']]"
      ],
      "execution_count": 216,
      "outputs": []
    },
    {
      "cell_type": "markdown",
      "metadata": {
        "id": "UtXAv-Pa0tKo"
      },
      "source": [
        "## **1-2 df data 전처리**"
      ]
    },
    {
      "cell_type": "code",
      "metadata": {
        "colab": {
          "base_uri": "https://localhost:8080/"
        },
        "id": "ye5SpR7T0iW6",
        "outputId": "21089910-a0e7-4362-dd25-d0e34ea81124"
      },
      "source": [
        "df=pd.concat([df18, df19])\n",
        "# df.head()\n",
        "df.info()"
      ],
      "execution_count": 541,
      "outputs": [
        {
          "output_type": "stream",
          "text": [
            "<class 'pandas.core.frame.DataFrame'>\n",
            "Int64Index: 41624 entries, 3 to 48267\n",
            "Data columns (total 35 columns):\n",
            " #   Column     Non-Null Count  Dtype  \n",
            "---  ------     --------------  -----  \n",
            " 0   ID         41624 non-null  object \n",
            " 1   SMONTH     41624 non-null  float64\n",
            " 2   S_Day      41624 non-null  float64\n",
            " 3   TCOST      39138 non-null  float64\n",
            " 4   TNUM       39138 non-null  float64\n",
            " 5   ONE_TCOST  41624 non-null  float64\n",
            " 6   CASE       41624 non-null  object \n",
            " 7   SPOT       41624 non-null  float64\n",
            " 8   A2_1       34615 non-null  float64\n",
            " 9   A2_2       31595 non-null  float64\n",
            " 10  A2_3       23594 non-null  float64\n",
            " 11  A7B_1      18364 non-null  float64\n",
            " 12  A7B_2      970 non-null    float64\n",
            " 13  A7B_3      12359 non-null  float64\n",
            " 14  A7B_4      775 non-null    float64\n",
            " 15  A7B_5      2039 non-null   float64\n",
            " 16  A7B_6      117 non-null    float64\n",
            " 17  PRE_TOTAL  34615 non-null  float64\n",
            " 18  NA10A      34615 non-null  float64\n",
            " 19  NA10C      34615 non-null  float64\n",
            " 20  NA10D      34615 non-null  float64\n",
            " 21  NA10E      34615 non-null  float64\n",
            " 22  NA10F      34615 non-null  float64\n",
            " 23  NA10G      34615 non-null  float64\n",
            " 24  NA_TOTAL   34615 non-null  float64\n",
            " 25  RATING     34615 non-null  float64\n",
            " 26  A13        34615 non-null  float64\n",
            " 27  A14        34615 non-null  float64\n",
            " 28  DQ5        41624 non-null  int64  \n",
            " 29  DQ6        41624 non-null  int64  \n",
            " 30  SEX        41624 non-null  int64  \n",
            " 31  BAGE       41624 non-null  int64  \n",
            " 32  BARA       41624 non-null  int64  \n",
            " 33  EXP_NIGHT  41624 non-null  int64  \n",
            " 34  EXP_ADAY   41624 non-null  int64  \n",
            "dtypes: float64(26), int64(7), object(2)\n",
            "memory usage: 11.4+ MB\n"
          ],
          "name": "stdout"
        }
      ]
    },
    {
      "cell_type": "code",
      "metadata": {
        "colab": {
          "base_uri": "https://localhost:8080/"
        },
        "id": "uw84bIDgnV9W",
        "outputId": "7738f773-d5c3-4a48-cebd-b2200225580e"
      },
      "source": [
        "df['CASE'].unique()"
      ],
      "execution_count": 542,
      "outputs": [
        {
          "output_type": "execute_result",
          "data": {
            "text/plain": [
              "array(['trip', 'family', 'work'], dtype=object)"
            ]
          },
          "metadata": {
            "tags": []
          },
          "execution_count": 542
        }
      ]
    },
    {
      "cell_type": "code",
      "metadata": {
        "colab": {
          "base_uri": "https://localhost:8080/",
          "height": 68
        },
        "id": "IFyIvoJU0tze",
        "outputId": "5bfa57dc-2bf5-416a-b8ef-aea4bddca7a4"
      },
      "source": [
        "#중복값\n",
        "df[df.duplicated()==True]\n",
        "\n",
        "df=df.reset_index(drop=True)\n",
        "df[df.index.duplicated()==True]"
      ],
      "execution_count": 543,
      "outputs": [
        {
          "output_type": "execute_result",
          "data": {
            "text/html": [
              "<div>\n",
              "<style scoped>\n",
              "    .dataframe tbody tr th:only-of-type {\n",
              "        vertical-align: middle;\n",
              "    }\n",
              "\n",
              "    .dataframe tbody tr th {\n",
              "        vertical-align: top;\n",
              "    }\n",
              "\n",
              "    .dataframe thead th {\n",
              "        text-align: right;\n",
              "    }\n",
              "</style>\n",
              "<table border=\"1\" class=\"dataframe\">\n",
              "  <thead>\n",
              "    <tr style=\"text-align: right;\">\n",
              "      <th></th>\n",
              "      <th>ID</th>\n",
              "      <th>SMONTH</th>\n",
              "      <th>S_Day</th>\n",
              "      <th>TCOST</th>\n",
              "      <th>TNUM</th>\n",
              "      <th>ONE_TCOST</th>\n",
              "      <th>CASE</th>\n",
              "      <th>SPOT</th>\n",
              "      <th>A2_1</th>\n",
              "      <th>A2_2</th>\n",
              "      <th>A2_3</th>\n",
              "      <th>A7B_1</th>\n",
              "      <th>A7B_2</th>\n",
              "      <th>A7B_3</th>\n",
              "      <th>A7B_4</th>\n",
              "      <th>A7B_5</th>\n",
              "      <th>A7B_6</th>\n",
              "      <th>PRE_TOTAL</th>\n",
              "      <th>NA10A</th>\n",
              "      <th>NA10C</th>\n",
              "      <th>NA10D</th>\n",
              "      <th>NA10E</th>\n",
              "      <th>NA10F</th>\n",
              "      <th>NA10G</th>\n",
              "      <th>NA_TOTAL</th>\n",
              "      <th>RATING</th>\n",
              "      <th>A13</th>\n",
              "      <th>A14</th>\n",
              "      <th>DQ5</th>\n",
              "      <th>DQ6</th>\n",
              "      <th>SEX</th>\n",
              "      <th>BAGE</th>\n",
              "      <th>BARA</th>\n",
              "      <th>EXP_NIGHT</th>\n",
              "      <th>EXP_ADAY</th>\n",
              "    </tr>\n",
              "  </thead>\n",
              "  <tbody>\n",
              "  </tbody>\n",
              "</table>\n",
              "</div>"
            ],
            "text/plain": [
              "Empty DataFrame\n",
              "Columns: [ID, SMONTH, S_Day, TCOST, TNUM, ONE_TCOST, CASE, SPOT, A2_1, A2_2, A2_3, A7B_1, A7B_2, A7B_3, A7B_4, A7B_5, A7B_6, PRE_TOTAL, NA10A, NA10C, NA10D, NA10E, NA10F, NA10G, NA_TOTAL, RATING, A13, A14, DQ5, DQ6, SEX, BAGE, BARA, EXP_NIGHT, EXP_ADAY]\n",
              "Index: []"
            ]
          },
          "metadata": {
            "tags": []
          },
          "execution_count": 543
        }
      ]
    },
    {
      "cell_type": "code",
      "metadata": {
        "colab": {
          "base_uri": "https://localhost:8080/"
        },
        "id": "ivAxiADy0y14",
        "outputId": "b1c311af-ff9a-45be-dccf-37658f9600c4"
      },
      "source": [
        "#동행 유형 생성\n",
        "def A7B (row):\n",
        "  if row['A7B_1']==1:\n",
        "    return 'Fam'\n",
        "  elif row['A7B_2']==2:\n",
        "    return 'B_Fam'\n",
        "  elif row['A7B_3']==3:\n",
        "    return 'Mate'\n",
        "  elif (row['A7B_4']==4) & (row['A7B_6']==6):\n",
        "    return 'Co'\n",
        "  elif row['A7B_5']==5:\n",
        "    return 'Crew'\n",
        "  else:\n",
        "    return 'Etc'\n",
        "\n",
        "df['A7B'] = df.apply(lambda row: A7B(row), axis=1)\n",
        "# df[df['A7B'].isnull()]\n",
        "df['A7B'].unique()"
      ],
      "execution_count": 544,
      "outputs": [
        {
          "output_type": "execute_result",
          "data": {
            "text/plain": [
              "array(['Mate', 'Crew', 'Fam', 'Etc', 'B_Fam'], dtype=object)"
            ]
          },
          "metadata": {
            "tags": []
          },
          "execution_count": 544
        }
      ]
    },
    {
      "cell_type": "code",
      "metadata": {
        "colab": {
          "base_uri": "https://localhost:8080/"
        },
        "id": "n8elzeQp02A8",
        "outputId": "d16cd578-913d-4945-b1a0-89872581978b"
      },
      "source": [
        "#여행 총지출 범주 생성\n",
        "df['M_TOTAL']=df['PRE_TOTAL']+df['NA_TOTAL']\n",
        "df['M_TOTAL']=df['M_TOTAL'].fillna(df['ONE_TCOST'])\n",
        "df['M_TOTAL'].isnull().sum()\n",
        "def money (row):\n",
        "  if (row['M_TOTAL']>0) & (row['M_TOTAL']<=30000):\n",
        "    return 1\n",
        "  elif (row['M_TOTAL']>30000) & (row['M_TOTAL']<=50000):\n",
        "    return 2\n",
        "  elif (row['M_TOTAL']>50000) & (row['M_TOTAL']<=80000):\n",
        "    return 3\n",
        "  elif (row['M_TOTAL']>80000) & (row['M_TOTAL']<=110000):\n",
        "    return 4\n",
        "  elif (row['M_TOTAL']>110000) & (row['M_TOTAL']<=150000):\n",
        "    return 5\n",
        "  elif (row['M_TOTAL']>150000) & (row['M_TOTAL']<=200000):\n",
        "    return 6\n",
        "  elif (row['M_TOTAL']>200000) & (row['M_TOTAL']<=300000):\n",
        "    return 7\n",
        "  elif (row['M_TOTAL']>300000):\n",
        "    return 8\n",
        "\n",
        "df['BNA'] = df.apply(lambda row: money(row), axis=1)\n",
        "# df[df['BNA'].isnull()]\n",
        "df=df[~df['BNA'].isnull()]\n",
        "df['BNA'].unique()"
      ],
      "execution_count": 545,
      "outputs": [
        {
          "output_type": "execute_result",
          "data": {
            "text/plain": [
              "array([8., 3., 4., 5., 2., 6., 7., 1.])"
            ]
          },
          "metadata": {
            "tags": []
          },
          "execution_count": 545
        }
      ]
    },
    {
      "cell_type": "code",
      "metadata": {
        "colab": {
          "base_uri": "https://localhost:8080/"
        },
        "id": "8MAchBSGybg1",
        "outputId": "2b0c1787-52f2-4f36-da47-1ca424ff077c"
      },
      "source": [
        "df['BNA'].value_counts()"
      ],
      "execution_count": 546,
      "outputs": [
        {
          "output_type": "execute_result",
          "data": {
            "text/plain": [
              "3.0    7642\n",
              "2.0    7510\n",
              "4.0    6801\n",
              "5.0    4923\n",
              "6.0    4417\n",
              "1.0    4128\n",
              "7.0    3496\n",
              "8.0    2704\n",
              "Name: BNA, dtype: int64"
            ]
          },
          "metadata": {
            "tags": []
          },
          "execution_count": 546
        }
      ]
    },
    {
      "cell_type": "code",
      "metadata": {
        "id": "5mGHP3I4082i",
        "colab": {
          "base_uri": "https://localhost:8080/"
        },
        "outputId": "6d0851e2-541f-4157-bb6e-3e94edbab92d"
      },
      "source": [
        "#숙박 여부 생성\n",
        "def DnN (row):\n",
        "  if row['EXP_NIGHT']==1:\n",
        "    return 1\n",
        "  elif row['EXP_ADAY']==1:\n",
        "    return 0\n",
        "\n",
        "df['DandN'] = df.apply(lambda row: DnN(row), axis=1)\n",
        "df['DandN'].unique()"
      ],
      "execution_count": 547,
      "outputs": [
        {
          "output_type": "execute_result",
          "data": {
            "text/plain": [
              "array([1, 0])"
            ]
          },
          "metadata": {
            "tags": []
          },
          "execution_count": 547
        }
      ]
    },
    {
      "cell_type": "code",
      "metadata": {
        "id": "r6joRB4phYvw"
      },
      "source": [
        "# import numpy as np\n",
        "# df['A2_1'] = df['A2_1'].replace(np.nan, '', regex=True)\n",
        "\n",
        "# df['A2_1'] = pd.to_numeric(df['A2_1'])\n",
        "# df['A2_1'].dtype"
      ],
      "execution_count": 548,
      "outputs": []
    },
    {
      "cell_type": "code",
      "metadata": {
        "colab": {
          "base_uri": "https://localhost:8080/"
        },
        "id": "u3kcq7BZ3Iey",
        "outputId": "c9424f3a-41d0-472c-a543-afd278f8e4b6"
      },
      "source": [
        "#여행지 선정 이유 생성\n",
        "def why (row):\n",
        "  if row['A2_1']==1:\n",
        "    return 'Famous'\n",
        "  elif (row['A2_1']==2) or (row['A2_1']==6):\n",
        "    return 'View'\n",
        "  elif row['A2_1']==3:\n",
        "    return 'Budget'\n",
        "  elif (row['A2_1']==4) or (row['A2_1']==5) or (row['A2_1']==9):\n",
        "    return 'Time/Trans'\n",
        "  elif row['A2_1']==7:\n",
        "    return 'Shopping'\n",
        "  elif row['A2_1']==8:\n",
        "    return 'Food'\n",
        "  elif (row['A2_1']==10) or (row['A2_1']==13) or (row['A2_1']==9):\n",
        "    return 'Edu'\n",
        "  elif (row['A2_1']==11) or (row['A2_1']==14):\n",
        "    return 'Rec'\n",
        "  elif row['A2_1']==15:\n",
        "    return 'Conv'\n",
        "  else: return 'etc'\n",
        "\n",
        "df['REASON'] = df.apply(lambda row: why(row), axis=1)\n",
        "# df['REASON'].isnull().sum()\n",
        "df['REASON'].unique()"
      ],
      "execution_count": 549,
      "outputs": [
        {
          "output_type": "execute_result",
          "data": {
            "text/plain": [
              "array(['Time/Trans', 'View', 'etc', 'Food', 'Rec', 'Famous', 'Budget',\n",
              "       'Edu', 'Conv', 'Shopping'], dtype=object)"
            ]
          },
          "metadata": {
            "tags": []
          },
          "execution_count": 549
        }
      ]
    },
    {
      "cell_type": "code",
      "metadata": {
        "colab": {
          "base_uri": "https://localhost:8080/"
        },
        "id": "dA7Pf_Ws-xNZ",
        "outputId": "01e2f44a-0905-4018-e596-831ac92e7e0a"
      },
      "source": [
        "#부산에 온 사람\n",
        "# df['Busan'] = df['SPOT'] == 21\n",
        "# df['Busan'].value_counts(normalize=True)\n",
        "\n",
        "#강원도에 온 사람\n",
        "df['Gangwon'] = (df['SPOT'] == 32) & (df['CASE'] == 'trip')\n",
        "df['Gangwon'].value_counts(normalize=True)"
      ],
      "execution_count": 550,
      "outputs": [
        {
          "output_type": "execute_result",
          "data": {
            "text/plain": [
              "False    0.89933\n",
              "True     0.10067\n",
              "Name: Gangwon, dtype: float64"
            ]
          },
          "metadata": {
            "tags": []
          },
          "execution_count": 550
        }
      ]
    },
    {
      "cell_type": "code",
      "metadata": {
        "colab": {
          "base_uri": "https://localhost:8080/"
        },
        "id": "DFAAukGYkQp-",
        "outputId": "c633119a-b9bf-45af-cf82-98f9a04d1919"
      },
      "source": [
        "#지방 단위 통합\n",
        "def area (row):\n",
        "  if (row['SPOT']==11) or (row['SPOT']==23):\n",
        "    return 'Seo/In'\n",
        "  elif (row['SPOT']==21) or (row['SPOT']==26):\n",
        "    return 'Bu/Wul'\n",
        "  elif (row['SPOT']==22) or (row['SPOT']==37):\n",
        "    return 'KB/Dae'\n",
        "  elif (row['SPOT']==24) or (row['SPOT']==36):\n",
        "    return 'JN/Gwa'\n",
        "  elif (row['SPOT']==25) or (row['SPOT']==29) or (row['SPOT']==34):\n",
        "    return 'CN/Dae'\n",
        "  elif row['SPOT']==31:\n",
        "    return 'Gyeongi'\n",
        "  elif row['SPOT']==32:\n",
        "    return 'Gangwon'\n",
        "  elif row['SPOT']==33:\n",
        "    return 'CB'\n",
        "  elif row['SPOT']==35:\n",
        "    return 'JB'\n",
        "  elif row['SPOT']==38:\n",
        "    return 'KN'\n",
        "  elif row['SPOT']==39:\n",
        "    return 'Jeju'\n",
        "\n",
        "df['SPOT'] = df.apply(lambda row: area(row), axis=1)\n",
        "df[df['SPOT'].isnull()]\n",
        "df['SPOT'].unique()"
      ],
      "execution_count": 551,
      "outputs": [
        {
          "output_type": "execute_result",
          "data": {
            "text/plain": [
              "array(['Jeju', 'CN/Dae', 'Gyeongi', 'JB', 'JN/Gwa', 'Gangwon', 'Seo/In',\n",
              "       'Bu/Wul', 'CB', 'KN', 'KB/Dae'], dtype=object)"
            ]
          },
          "metadata": {
            "tags": []
          },
          "execution_count": 551
        }
      ]
    },
    {
      "cell_type": "code",
      "metadata": {
        "colab": {
          "base_uri": "https://localhost:8080/"
        },
        "id": "1OXbqckw9sbC",
        "outputId": "35daa9f2-ef45-4bcb-c1d3-5797cd25fa27"
      },
      "source": [
        "df.isnull().sum()"
      ],
      "execution_count": 552,
      "outputs": [
        {
          "output_type": "execute_result",
          "data": {
            "text/plain": [
              "ID               0\n",
              "SMONTH           0\n",
              "S_Day            0\n",
              "TCOST         2486\n",
              "TNUM          2486\n",
              "ONE_TCOST        0\n",
              "CASE             0\n",
              "SPOT             0\n",
              "A2_1          7009\n",
              "A2_2         10028\n",
              "A2_3         18027\n",
              "A7B_1        23259\n",
              "A7B_2        40651\n",
              "A7B_3        29262\n",
              "A7B_4        40846\n",
              "A7B_5        39583\n",
              "A7B_6        41504\n",
              "PRE_TOTAL     7009\n",
              "NA10A         7009\n",
              "NA10C         7009\n",
              "NA10D         7009\n",
              "NA10E         7009\n",
              "NA10F         7009\n",
              "NA10G         7009\n",
              "NA_TOTAL      7009\n",
              "RATING        7009\n",
              "A13           7009\n",
              "A14           7009\n",
              "DQ5              0\n",
              "DQ6              0\n",
              "SEX              0\n",
              "BAGE             0\n",
              "BARA             0\n",
              "EXP_NIGHT        0\n",
              "EXP_ADAY         0\n",
              "A7B              0\n",
              "M_TOTAL          0\n",
              "BNA              0\n",
              "DandN            0\n",
              "REASON           0\n",
              "Gangwon          0\n",
              "dtype: int64"
            ]
          },
          "metadata": {
            "tags": []
          },
          "execution_count": 552
        }
      ]
    },
    {
      "cell_type": "markdown",
      "metadata": {
        "id": "tgOfbR4X1Oqr"
      },
      "source": [
        "# **2. EDA**"
      ]
    },
    {
      "cell_type": "code",
      "metadata": {
        "colab": {
          "base_uri": "https://localhost:8080/"
        },
        "id": "XecvxOPFkCUK",
        "outputId": "41bde442-fa8e-403e-9f87-671860a98121"
      },
      "source": [
        "df['SPOT'].value_counts()"
      ],
      "execution_count": 229,
      "outputs": [
        {
          "output_type": "execute_result",
          "data": {
            "text/plain": [
              "JN/Gwa     5132\n",
              "CN/Dae     5090\n",
              "KB/Dae     4985\n",
              "Gangwon    4592\n",
              "Gyeongi    4305\n",
              "KN         4098\n",
              "Seo/In     3364\n",
              "Bu/Wul     3232\n",
              "JB         3098\n",
              "CB         1925\n",
              "Jeju       1800\n",
              "Name: SPOT, dtype: int64"
            ]
          },
          "metadata": {
            "tags": []
          },
          "execution_count": 229
        }
      ]
    },
    {
      "cell_type": "code",
      "metadata": {
        "colab": {
          "base_uri": "https://localhost:8080/"
        },
        "id": "x7cO15Ys6TC9",
        "outputId": "53d9b0f4-73cd-45d5-834d-c4d8a5bfcef2"
      },
      "source": [
        "#사람들이 가장 자주 찾는 지방\n",
        "df['SPOT'].mode()"
      ],
      "execution_count": 230,
      "outputs": [
        {
          "output_type": "execute_result",
          "data": {
            "text/plain": [
              "0    JN/Gwa\n",
              "dtype: object"
            ]
          },
          "metadata": {
            "tags": []
          },
          "execution_count": 230
        }
      ]
    },
    {
      "cell_type": "code",
      "metadata": {
        "colab": {
          "base_uri": "https://localhost:8080/",
          "height": 287
        },
        "id": "4otxBv5E1P4g",
        "outputId": "a5e24fbf-1b1e-4df5-960a-9944e09c1482"
      },
      "source": [
        "#사람들이 많이 가는 지방\n",
        "df['SPOT'].value_counts().plot(kind='bar', alpha=0.75 ,rot=30);"
      ],
      "execution_count": 231,
      "outputs": [
        {
          "output_type": "display_data",
          "data": {
            "image/png": "[encoded data removed]",
            "text/plain": [
              "<Figure size 432x288 with 1 Axes>"
            ]
          },
          "metadata": {
            "tags": [],
            "needs_background": "light"
          }
        }
      ]
    },
    {
      "cell_type": "code",
      "metadata": {
        "colab": {
          "base_uri": "https://localhost:8080/",
          "height": 247
        },
        "id": "7lZphioa19kE",
        "outputId": "d7ea2c1b-1a00-42dd-e4e6-4b89d2beb1af"
      },
      "source": [
        "df['SPOT'].value_counts().head(7).plot(kind='pie');"
      ],
      "execution_count": 232,
      "outputs": [
        {
          "output_type": "display_data",
          "data": {
            "image/png": "[encoded data removed]",
            "text/plain": [
              "<Figure size 432x288 with 1 Axes>"
            ]
          },
          "metadata": {
            "tags": []
          }
        }
      ]
    },
    {
      "cell_type": "code",
      "metadata": {
        "colab": {
          "base_uri": "https://localhost:8080/",
          "height": 412
        },
        "id": "SwL9XZbG1Reg",
        "outputId": "04b2dae0-2a1c-4da2-a138-9050acf170a4"
      },
      "source": [
        "#사람들이 여행을 많이 가는 월\n",
        "df['SMONTH'].value_counts().head(5)\n",
        "\n",
        "smonth = df['SMONTH'].value_counts().sort_index()\n",
        "\n",
        "import matplotlib.pyplot as plt\n",
        "import seaborn as sns\n",
        "\n",
        "plt.rcParams['figure.figsize'] = [10, 6]\n",
        "\n",
        "plt.bar(smonth.index, smonth)\n",
        "plt.title('When People Travel', fontsize=20)\n",
        "plt.xlabel('Months', fontsize=15)\n",
        "plt.xlim(0,13)\n",
        "plt.ylim(2600, 4000)\n",
        "plt.show()"
      ],
      "execution_count": 233,
      "outputs": [
        {
          "output_type": "display_data",
          "data": {
            "image/png": "[encoded data removed]",
            "text/plain": [
              "<Figure size 720x432 with 1 Axes>"
            ]
          },
          "metadata": {
            "tags": [],
            "needs_background": "light"
          }
        }
      ]
    },
    {
      "cell_type": "code",
      "metadata": {
        "colab": {
          "base_uri": "https://localhost:8080/",
          "height": 140
        },
        "id": "PNCFgDDP1SfP",
        "outputId": "cd0c6f18-aabc-4de2-9da7-0a2a4ad3951e"
      },
      "source": [
        "df_dn=pd.crosstab(index=df['DandN'], columns=df['SPOT'])\n",
        "df_dn"
      ],
      "execution_count": 234,
      "outputs": [
        {
          "output_type": "execute_result",
          "data": {
            "text/html": [
              "<div>\n",
              "<style scoped>\n",
              "    .dataframe tbody tr th:only-of-type {\n",
              "        vertical-align: middle;\n",
              "    }\n",
              "\n",
              "    .dataframe tbody tr th {\n",
              "        vertical-align: top;\n",
              "    }\n",
              "\n",
              "    .dataframe thead th {\n",
              "        text-align: right;\n",
              "    }\n",
              "</style>\n",
              "<table border=\"1\" class=\"dataframe\">\n",
              "  <thead>\n",
              "    <tr style=\"text-align: right;\">\n",
              "      <th>SPOT</th>\n",
              "      <th>Bu/Wul</th>\n",
              "      <th>CB</th>\n",
              "      <th>CN/Dae</th>\n",
              "      <th>Gangwon</th>\n",
              "      <th>Gyeongi</th>\n",
              "      <th>JB</th>\n",
              "      <th>JN/Gwa</th>\n",
              "      <th>Jeju</th>\n",
              "      <th>KB/Dae</th>\n",
              "      <th>KN</th>\n",
              "      <th>Seo/In</th>\n",
              "    </tr>\n",
              "    <tr>\n",
              "      <th>DandN</th>\n",
              "      <th></th>\n",
              "      <th></th>\n",
              "      <th></th>\n",
              "      <th></th>\n",
              "      <th></th>\n",
              "      <th></th>\n",
              "      <th></th>\n",
              "      <th></th>\n",
              "      <th></th>\n",
              "      <th></th>\n",
              "      <th></th>\n",
              "    </tr>\n",
              "  </thead>\n",
              "  <tbody>\n",
              "    <tr>\n",
              "      <th>0</th>\n",
              "      <td>1434</td>\n",
              "      <td>1029</td>\n",
              "      <td>2926</td>\n",
              "      <td>1370</td>\n",
              "      <td>2715</td>\n",
              "      <td>1844</td>\n",
              "      <td>2651</td>\n",
              "      <td>240</td>\n",
              "      <td>2763</td>\n",
              "      <td>2188</td>\n",
              "      <td>1832</td>\n",
              "    </tr>\n",
              "    <tr>\n",
              "      <th>1</th>\n",
              "      <td>1798</td>\n",
              "      <td>896</td>\n",
              "      <td>2164</td>\n",
              "      <td>3222</td>\n",
              "      <td>1590</td>\n",
              "      <td>1254</td>\n",
              "      <td>2481</td>\n",
              "      <td>1560</td>\n",
              "      <td>2222</td>\n",
              "      <td>1910</td>\n",
              "      <td>1532</td>\n",
              "    </tr>\n",
              "  </tbody>\n",
              "</table>\n",
              "</div>"
            ],
            "text/plain": [
              "SPOT   Bu/Wul    CB  CN/Dae  Gangwon  ...  Jeju  KB/Dae    KN  Seo/In\n",
              "DandN                                 ...                            \n",
              "0        1434  1029    2926     1370  ...   240    2763  2188    1832\n",
              "1        1798   896    2164     3222  ...  1560    2222  1910    1532\n",
              "\n",
              "[2 rows x 11 columns]"
            ]
          },
          "metadata": {
            "tags": []
          },
          "execution_count": 234
        }
      ]
    },
    {
      "cell_type": "code",
      "metadata": {
        "colab": {
          "base_uri": "https://localhost:8080/",
          "height": 405
        },
        "id": "HCHBNP7Z1fuC",
        "outputId": "7c1687fb-19cf-4867-d5dc-3d51b87e642e"
      },
      "source": [
        "#당일치기 인기지역 TOP5\n",
        "df_d = df_dn.loc[0].sort_values(ascending=False).head(6)\n",
        "\n",
        "plt.rcParams['figure.figsize'] = [10, 6]\n",
        "ax = df_d.plot.bar(width = 0.6, stacked=False, rot=30)"
      ],
      "execution_count": 235,
      "outputs": [
        {
          "output_type": "display_data",
          "data": {
            "image/png": "[encoded data removed]",
            "text/plain": [
              "<Figure size 720x432 with 1 Axes>"
            ]
          },
          "metadata": {
            "tags": [],
            "needs_background": "light"
          }
        }
      ]
    },
    {
      "cell_type": "code",
      "metadata": {
        "colab": {
          "base_uri": "https://localhost:8080/",
          "height": 409
        },
        "id": "izj8mEoA1g58",
        "outputId": "99a60032-3eb2-4a36-ffb0-b037cdc253e0"
      },
      "source": [
        "#1박이상 인기지역 TOP5\n",
        "df_n =  df_dn.loc[1].sort_values(ascending=False).head(7)\n",
        "\n",
        "ax = df_n.plot.bar(width = 0.8, stacked=False, rot=30)"
      ],
      "execution_count": 236,
      "outputs": [
        {
          "output_type": "display_data",
          "data": {
            "image/png": "[encoded data removed]",
            "text/plain": [
              "<Figure size 720x432 with 1 Axes>"
            ]
          },
          "metadata": {
            "tags": [],
            "needs_background": "light"
          }
        }
      ]
    },
    {
      "cell_type": "code",
      "metadata": {
        "colab": {
          "base_uri": "https://localhost:8080/",
          "height": 414
        },
        "id": "GAIbaDU81h7_",
        "outputId": "54f5a6be-c95e-451a-8003-1d94a7599a5c"
      },
      "source": [
        "df.groupby('SPOT')['M_TOTAL'].agg(['min','max','mean','median'])"
      ],
      "execution_count": 237,
      "outputs": [
        {
          "output_type": "execute_result",
          "data": {
            "text/html": [
              "<div>\n",
              "<style scoped>\n",
              "    .dataframe tbody tr th:only-of-type {\n",
              "        vertical-align: middle;\n",
              "    }\n",
              "\n",
              "    .dataframe tbody tr th {\n",
              "        vertical-align: top;\n",
              "    }\n",
              "\n",
              "    .dataframe thead th {\n",
              "        text-align: right;\n",
              "    }\n",
              "</style>\n",
              "<table border=\"1\" class=\"dataframe\">\n",
              "  <thead>\n",
              "    <tr style=\"text-align: right;\">\n",
              "      <th></th>\n",
              "      <th>min</th>\n",
              "      <th>max</th>\n",
              "      <th>mean</th>\n",
              "      <th>median</th>\n",
              "    </tr>\n",
              "    <tr>\n",
              "      <th>SPOT</th>\n",
              "      <th></th>\n",
              "      <th></th>\n",
              "      <th></th>\n",
              "      <th></th>\n",
              "    </tr>\n",
              "  </thead>\n",
              "  <tbody>\n",
              "    <tr>\n",
              "      <th>Bu/Wul</th>\n",
              "      <td>4000.0</td>\n",
              "      <td>1275000.0</td>\n",
              "      <td>141758.134412</td>\n",
              "      <td>100000.0</td>\n",
              "    </tr>\n",
              "    <tr>\n",
              "      <th>CB</th>\n",
              "      <td>3750.0</td>\n",
              "      <td>875000.0</td>\n",
              "      <td>98621.315844</td>\n",
              "      <td>75000.0</td>\n",
              "    </tr>\n",
              "    <tr>\n",
              "      <th>CN/Dae</th>\n",
              "      <td>5000.0</td>\n",
              "      <td>1127500.0</td>\n",
              "      <td>95467.880157</td>\n",
              "      <td>74500.0</td>\n",
              "    </tr>\n",
              "    <tr>\n",
              "      <th>Gangwon</th>\n",
              "      <td>3000.0</td>\n",
              "      <td>1300000.0</td>\n",
              "      <td>151990.877178</td>\n",
              "      <td>133750.0</td>\n",
              "    </tr>\n",
              "    <tr>\n",
              "      <th>Gyeongi</th>\n",
              "      <td>4000.0</td>\n",
              "      <td>1300000.0</td>\n",
              "      <td>92080.048780</td>\n",
              "      <td>70000.0</td>\n",
              "    </tr>\n",
              "    <tr>\n",
              "      <th>JB</th>\n",
              "      <td>5000.0</td>\n",
              "      <td>975000.0</td>\n",
              "      <td>98416.720077</td>\n",
              "      <td>80000.0</td>\n",
              "    </tr>\n",
              "    <tr>\n",
              "      <th>JN/Gwa</th>\n",
              "      <td>3333.0</td>\n",
              "      <td>1430000.0</td>\n",
              "      <td>114787.786763</td>\n",
              "      <td>90000.0</td>\n",
              "    </tr>\n",
              "    <tr>\n",
              "      <th>Jeju</th>\n",
              "      <td>3330.0</td>\n",
              "      <td>1800000.0</td>\n",
              "      <td>391276.437593</td>\n",
              "      <td>370000.0</td>\n",
              "    </tr>\n",
              "    <tr>\n",
              "      <th>KB/Dae</th>\n",
              "      <td>2500.0</td>\n",
              "      <td>1060000.0</td>\n",
              "      <td>103683.719057</td>\n",
              "      <td>75000.0</td>\n",
              "    </tr>\n",
              "    <tr>\n",
              "      <th>KN</th>\n",
              "      <td>2500.0</td>\n",
              "      <td>1227500.0</td>\n",
              "      <td>107660.099642</td>\n",
              "      <td>80000.0</td>\n",
              "    </tr>\n",
              "    <tr>\n",
              "      <th>Seo/In</th>\n",
              "      <td>4750.0</td>\n",
              "      <td>2795000.0</td>\n",
              "      <td>123608.479033</td>\n",
              "      <td>98335.0</td>\n",
              "    </tr>\n",
              "  </tbody>\n",
              "</table>\n",
              "</div>"
            ],
            "text/plain": [
              "            min        max           mean    median\n",
              "SPOT                                               \n",
              "Bu/Wul   4000.0  1275000.0  141758.134412  100000.0\n",
              "CB       3750.0   875000.0   98621.315844   75000.0\n",
              "CN/Dae   5000.0  1127500.0   95467.880157   74500.0\n",
              "Gangwon  3000.0  1300000.0  151990.877178  133750.0\n",
              "Gyeongi  4000.0  1300000.0   92080.048780   70000.0\n",
              "JB       5000.0   975000.0   98416.720077   80000.0\n",
              "JN/Gwa   3333.0  1430000.0  114787.786763   90000.0\n",
              "Jeju     3330.0  1800000.0  391276.437593  370000.0\n",
              "KB/Dae   2500.0  1060000.0  103683.719057   75000.0\n",
              "KN       2500.0  1227500.0  107660.099642   80000.0\n",
              "Seo/In   4750.0  2795000.0  123608.479033   98335.0"
            ]
          },
          "metadata": {
            "tags": []
          },
          "execution_count": 237
        }
      ]
    },
    {
      "cell_type": "code",
      "metadata": {
        "colab": {
          "base_uri": "https://localhost:8080/"
        },
        "id": "qdDZ7aEvPGJu",
        "outputId": "9992b42d-a16d-4f78-a69b-26857c5a4041"
      },
      "source": [
        "df['M_TOTAL'].agg(['min','max','mean','median'])"
      ],
      "execution_count": 238,
      "outputs": [
        {
          "output_type": "execute_result",
          "data": {
            "text/plain": [
              "min       2.500000e+03\n",
              "max       2.795000e+06\n",
              "mean      1.249476e+05\n",
              "median    9.000000e+04\n",
              "Name: M_TOTAL, dtype: float64"
            ]
          },
          "metadata": {
            "tags": []
          },
          "execution_count": 238
        }
      ]
    },
    {
      "cell_type": "code",
      "metadata": {
        "colab": {
          "base_uri": "https://localhost:8080/",
          "height": 380
        },
        "id": "5pkPKflg1jRc",
        "outputId": "ea148eb7-71d9-4ac3-89e0-3ecffa54e4b3"
      },
      "source": [
        "#여행객의 지출이 가장 큰 도시\n",
        "money = pd.crosstab(index=df['SPOT'], columns=df['BNA'], aggfunc=None)\n",
        "# money = money.rename_axis(None, axis=1)\n",
        "# money = money.rename_axis(None, axis=0)\n",
        "money\n",
        "\n",
        "plt.rcParams['figure.figsize'] = [20, 8]\n",
        "ax = money.plot.bar(width = 0.8, stacked=False)"
      ],
      "execution_count": 239,
      "outputs": [
        {
          "output_type": "display_data",
          "data": {
            "image/png": "[encoded data removed]",
            "text/plain": [
              "<Figure size 1440x576 with 1 Axes>"
            ]
          },
          "metadata": {
            "tags": [],
            "needs_background": "light"
          }
        }
      ]
    },
    {
      "cell_type": "code",
      "metadata": {
        "id": "MAL86gZ91kff",
        "colab": {
          "base_uri": "https://localhost:8080/",
          "height": 517
        },
        "outputId": "a0b3b7d4-f565-4bb6-c786-a5fb7ca903af"
      },
      "source": [
        "plt.rcParams['figure.figsize'] = [12, 8]\n",
        "ax = money.plot.bar(width = 0.5, stacked=True, rot=30)"
      ],
      "execution_count": 240,
      "outputs": [
        {
          "output_type": "display_data",
          "data": {
            "image/png": "[encoded data removed]",
            "text/plain": [
              "<Figure size 864x576 with 1 Axes>"
            ]
          },
          "metadata": {
            "tags": [],
            "needs_background": "light"
          }
        }
      ]
    },
    {
      "cell_type": "code",
      "metadata": {
        "id": "63vuievN3PCB",
        "colab": {
          "base_uri": "https://localhost:8080/"
        },
        "outputId": "47254b5e-17e8-4311-f533-9202b4ef264a"
      },
      "source": [
        "#사람들이 여행가는 이유\n",
        "df['REASON'].value_counts()"
      ],
      "execution_count": 241,
      "outputs": [
        {
          "output_type": "execute_result",
          "data": {
            "text/plain": [
              "etc           8115\n",
              "View          7883\n",
              "Time/Trans    7770\n",
              "Famous        5928\n",
              "Rec           5283\n",
              "Food          3154\n",
              "Budget        1854\n",
              "Edu            704\n",
              "Shopping       513\n",
              "Conv           417\n",
              "Name: REASON, dtype: int64"
            ]
          },
          "metadata": {
            "tags": []
          },
          "execution_count": 241
        }
      ]
    },
    {
      "cell_type": "code",
      "metadata": {
        "id": "rqfLdkMZ3KQz",
        "colab": {
          "base_uri": "https://localhost:8080/",
          "height": 430
        },
        "outputId": "73bd337e-ba22-461d-ec54-582179b9d31e"
      },
      "source": [
        "#강원도 여행 이유\n",
        "reason = pd.crosstab((df['SPOT']=='Gangwon'), df['REASON'])\n",
        "reason\n",
        "\n",
        "plt.rcParams['figure.figsize'] = [8, 6]\n",
        "ax = reason.iloc[0].plot.bar(width = 0.6, stacked=True)"
      ],
      "execution_count": 242,
      "outputs": [
        {
          "output_type": "display_data",
          "data": {
            "image/png": "[encoded data removed]",
            "text/plain": [
              "<Figure size 576x432 with 1 Axes>"
            ]
          },
          "metadata": {
            "tags": [],
            "needs_background": "light"
          }
        }
      ]
    },
    {
      "cell_type": "code",
      "metadata": {
        "colab": {
          "base_uri": "https://localhost:8080/",
          "height": 430
        },
        "id": "L1w6R2hOrfxF",
        "outputId": "ad3061da-8115-44b5-c916-6804ff14c71f"
      },
      "source": [
        "#제주도 여행 이유\n",
        "reason = pd.crosstab((df['SPOT']=='Jeju'), df['REASON'])\n",
        "reason\n",
        "\n",
        "plt.rcParams['figure.figsize'] = [8, 6]\n",
        "ax = reason.iloc[0].plot.bar(width = 0.6, stacked=True)"
      ],
      "execution_count": 243,
      "outputs": [
        {
          "output_type": "display_data",
          "data": {
            "image/png": "[encoded data removed]",
            "text/plain": [
              "<Figure size 576x432 with 1 Axes>"
            ]
          },
          "metadata": {
            "tags": [],
            "needs_background": "light"
          }
        }
      ]
    },
    {
      "cell_type": "code",
      "metadata": {
        "colab": {
          "base_uri": "https://localhost:8080/",
          "height": 430
        },
        "id": "eC0R5sbFsNcw",
        "outputId": "6404f1ad-3204-410e-c0b2-4ad55a5e0baa"
      },
      "source": [
        "#충남 여행 이유\n",
        "reason = pd.crosstab((df['SPOT']=='CN/Dae'), df['REASON'])\n",
        "reason\n",
        "\n",
        "plt.rcParams['figure.figsize'] = [8, 6]\n",
        "ax = reason.iloc[0].plot.bar(width = 0.6, stacked=True)"
      ],
      "execution_count": 244,
      "outputs": [
        {
          "output_type": "display_data",
          "data": {
            "image/png": "[encoded data removed]",
            "text/plain": [
              "<Figure size 576x432 with 1 Axes>"
            ]
          },
          "metadata": {
            "tags": [],
            "needs_background": "light"
          }
        }
      ]
    },
    {
      "cell_type": "code",
      "metadata": {
        "colab": {
          "base_uri": "https://localhost:8080/",
          "height": 430
        },
        "id": "AOGaQrgtsh78",
        "outputId": "182c159c-ea6e-421c-d739-62cf670bc4a0"
      },
      "source": [
        "#경북 여행 이유\n",
        "reason = pd.crosstab((df['SPOT']=='KB/Dae'), df['REASON'])\n",
        "reason\n",
        "\n",
        "plt.rcParams['figure.figsize'] = [8, 6]\n",
        "ax = reason.iloc[0].plot.bar(width = 0.6, stacked=True)"
      ],
      "execution_count": 245,
      "outputs": [
        {
          "output_type": "display_data",
          "data": {
            "image/png": "[encoded data removed]",
            "text/plain": [
              "<Figure size 576x432 with 1 Axes>"
            ]
          },
          "metadata": {
            "tags": [],
            "needs_background": "light"
          }
        }
      ]
    },
    {
      "cell_type": "code",
      "metadata": {
        "colab": {
          "base_uri": "https://localhost:8080/"
        },
        "id": "H_x3zC6MjQr0",
        "outputId": "1c9d6c0f-7cb2-430c-f1ea-3866ac2b4c1c"
      },
      "source": [
        "!pip install -U pandas"
      ],
      "execution_count": 246,
      "outputs": [
        {
          "output_type": "stream",
          "text": [
            "Requirement already up-to-date: pandas in /usr/local/lib/python3.7/dist-packages (1.2.5)\n",
            "Requirement already satisfied, skipping upgrade: pytz>=2017.3 in /usr/local/lib/python3.7/dist-packages (from pandas) (2018.9)\n",
            "Requirement already satisfied, skipping upgrade: python-dateutil>=2.7.3 in /usr/local/lib/python3.7/dist-packages (from pandas) (2.8.1)\n",
            "Requirement already satisfied, skipping upgrade: numpy>=1.16.5 in /usr/local/lib/python3.7/dist-packages (from pandas) (1.19.5)\n",
            "Requirement already satisfied, skipping upgrade: six>=1.5 in /usr/local/lib/python3.7/dist-packages (from python-dateutil>=2.7.3->pandas) (1.15.0)\n"
          ],
          "name": "stdout"
        }
      ]
    },
    {
      "cell_type": "code",
      "metadata": {
        "colab": {
          "base_uri": "https://localhost:8080/",
          "height": 352
        },
        "id": "H_wyUf-kjzzq",
        "outputId": "754fd8c6-d1aa-45ee-be7c-6f82de79fa0d"
      },
      "source": [
        "df_why=pd.crosstab(df['REASON'], df['SPOT'])\n",
        "df_why.index.name = None\n",
        "df_why"
      ],
      "execution_count": 247,
      "outputs": [
        {
          "output_type": "execute_result",
          "data": {
            "text/html": [
              "<div>\n",
              "<style scoped>\n",
              "    .dataframe tbody tr th:only-of-type {\n",
              "        vertical-align: middle;\n",
              "    }\n",
              "\n",
              "    .dataframe tbody tr th {\n",
              "        vertical-align: top;\n",
              "    }\n",
              "\n",
              "    .dataframe thead th {\n",
              "        text-align: right;\n",
              "    }\n",
              "</style>\n",
              "<table border=\"1\" class=\"dataframe\">\n",
              "  <thead>\n",
              "    <tr style=\"text-align: right;\">\n",
              "      <th>SPOT</th>\n",
              "      <th>Bu/Wul</th>\n",
              "      <th>CB</th>\n",
              "      <th>CN/Dae</th>\n",
              "      <th>Gangwon</th>\n",
              "      <th>Gyeongi</th>\n",
              "      <th>JB</th>\n",
              "      <th>JN/Gwa</th>\n",
              "      <th>Jeju</th>\n",
              "      <th>KB/Dae</th>\n",
              "      <th>KN</th>\n",
              "      <th>Seo/In</th>\n",
              "    </tr>\n",
              "  </thead>\n",
              "  <tbody>\n",
              "    <tr>\n",
              "      <th>Budget</th>\n",
              "      <td>131</td>\n",
              "      <td>84</td>\n",
              "      <td>248</td>\n",
              "      <td>179</td>\n",
              "      <td>220</td>\n",
              "      <td>136</td>\n",
              "      <td>231</td>\n",
              "      <td>59</td>\n",
              "      <td>232</td>\n",
              "      <td>223</td>\n",
              "      <td>111</td>\n",
              "    </tr>\n",
              "    <tr>\n",
              "      <th>Conv</th>\n",
              "      <td>20</td>\n",
              "      <td>15</td>\n",
              "      <td>44</td>\n",
              "      <td>73</td>\n",
              "      <td>53</td>\n",
              "      <td>16</td>\n",
              "      <td>34</td>\n",
              "      <td>16</td>\n",
              "      <td>49</td>\n",
              "      <td>31</td>\n",
              "      <td>66</td>\n",
              "    </tr>\n",
              "    <tr>\n",
              "      <th>Edu</th>\n",
              "      <td>40</td>\n",
              "      <td>34</td>\n",
              "      <td>86</td>\n",
              "      <td>73</td>\n",
              "      <td>98</td>\n",
              "      <td>57</td>\n",
              "      <td>51</td>\n",
              "      <td>35</td>\n",
              "      <td>92</td>\n",
              "      <td>66</td>\n",
              "      <td>72</td>\n",
              "    </tr>\n",
              "    <tr>\n",
              "      <th>Famous</th>\n",
              "      <td>532</td>\n",
              "      <td>241</td>\n",
              "      <td>584</td>\n",
              "      <td>837</td>\n",
              "      <td>458</td>\n",
              "      <td>434</td>\n",
              "      <td>683</td>\n",
              "      <td>434</td>\n",
              "      <td>736</td>\n",
              "      <td>679</td>\n",
              "      <td>310</td>\n",
              "    </tr>\n",
              "    <tr>\n",
              "      <th>Food</th>\n",
              "      <td>287</td>\n",
              "      <td>90</td>\n",
              "      <td>338</td>\n",
              "      <td>372</td>\n",
              "      <td>226</td>\n",
              "      <td>342</td>\n",
              "      <td>563</td>\n",
              "      <td>115</td>\n",
              "      <td>363</td>\n",
              "      <td>307</td>\n",
              "      <td>151</td>\n",
              "    </tr>\n",
              "    <tr>\n",
              "      <th>Rec</th>\n",
              "      <td>412</td>\n",
              "      <td>223</td>\n",
              "      <td>594</td>\n",
              "      <td>639</td>\n",
              "      <td>486</td>\n",
              "      <td>382</td>\n",
              "      <td>710</td>\n",
              "      <td>260</td>\n",
              "      <td>646</td>\n",
              "      <td>562</td>\n",
              "      <td>369</td>\n",
              "    </tr>\n",
              "    <tr>\n",
              "      <th>Shopping</th>\n",
              "      <td>54</td>\n",
              "      <td>22</td>\n",
              "      <td>59</td>\n",
              "      <td>30</td>\n",
              "      <td>51</td>\n",
              "      <td>28</td>\n",
              "      <td>43</td>\n",
              "      <td>20</td>\n",
              "      <td>66</td>\n",
              "      <td>30</td>\n",
              "      <td>110</td>\n",
              "    </tr>\n",
              "    <tr>\n",
              "      <th>Time/Trans</th>\n",
              "      <td>555</td>\n",
              "      <td>348</td>\n",
              "      <td>995</td>\n",
              "      <td>904</td>\n",
              "      <td>1000</td>\n",
              "      <td>522</td>\n",
              "      <td>948</td>\n",
              "      <td>267</td>\n",
              "      <td>895</td>\n",
              "      <td>782</td>\n",
              "      <td>554</td>\n",
              "    </tr>\n",
              "    <tr>\n",
              "      <th>View</th>\n",
              "      <td>654</td>\n",
              "      <td>370</td>\n",
              "      <td>922</td>\n",
              "      <td>985</td>\n",
              "      <td>634</td>\n",
              "      <td>740</td>\n",
              "      <td>1056</td>\n",
              "      <td>411</td>\n",
              "      <td>825</td>\n",
              "      <td>772</td>\n",
              "      <td>514</td>\n",
              "    </tr>\n",
              "    <tr>\n",
              "      <th>etc</th>\n",
              "      <td>547</td>\n",
              "      <td>498</td>\n",
              "      <td>1220</td>\n",
              "      <td>500</td>\n",
              "      <td>1079</td>\n",
              "      <td>441</td>\n",
              "      <td>813</td>\n",
              "      <td>183</td>\n",
              "      <td>1081</td>\n",
              "      <td>646</td>\n",
              "      <td>1107</td>\n",
              "    </tr>\n",
              "  </tbody>\n",
              "</table>\n",
              "</div>"
            ],
            "text/plain": [
              "SPOT        Bu/Wul   CB  CN/Dae  Gangwon  ...  Jeju  KB/Dae   KN  Seo/In\n",
              "Budget         131   84     248      179  ...    59     232  223     111\n",
              "Conv            20   15      44       73  ...    16      49   31      66\n",
              "Edu             40   34      86       73  ...    35      92   66      72\n",
              "Famous         532  241     584      837  ...   434     736  679     310\n",
              "Food           287   90     338      372  ...   115     363  307     151\n",
              "Rec            412  223     594      639  ...   260     646  562     369\n",
              "Shopping        54   22      59       30  ...    20      66   30     110\n",
              "Time/Trans     555  348     995      904  ...   267     895  782     554\n",
              "View           654  370     922      985  ...   411     825  772     514\n",
              "etc            547  498    1220      500  ...   183    1081  646    1107\n",
              "\n",
              "[10 rows x 11 columns]"
            ]
          },
          "metadata": {
            "tags": []
          },
          "execution_count": 247
        }
      ]
    },
    {
      "cell_type": "code",
      "metadata": {
        "colab": {
          "base_uri": "https://localhost:8080/",
          "height": 420
        },
        "id": "f6v-INp_0F5y",
        "outputId": "39f8d19b-1ca8-45d2-ca11-e2110a7be8c7"
      },
      "source": [
        "#쇼핑하러가는 도시\n",
        "df_why2=df_why.loc['Shopping', : ].sort_values(ascending=False)\n",
        "# df_why3.head(5).plot(kind='pie');\n",
        "df_why3.plot(kind='bar', rot=50);\n",
        "#경남>경기도>전남>경북>충남"
      ],
      "execution_count": 256,
      "outputs": [
        {
          "output_type": "display_data",
          "data": {
            "image/png": "[encoded data removed]",
            "text/plain": [
              "<Figure size 576x432 with 1 Axes>"
            ]
          },
          "metadata": {
            "tags": [],
            "needs_background": "light"
          }
        }
      ]
    },
    {
      "cell_type": "code",
      "metadata": {
        "colab": {
          "base_uri": "https://localhost:8080/",
          "height": 420
        },
        "id": "Dy4WxeiL5EZ9",
        "outputId": "4fe92ded-3382-4a5a-edf1-f306cdef159e"
      },
      "source": [
        "#저렴해서 방문하는 도시\n",
        "df_why3=df_why.loc['Budget', : ].sort_values(ascending=False)\n",
        "# df_why3.head(5).plot(kind='pie');\n",
        "df_why3.plot(kind='bar', rot=50);\n",
        "#경남>경기도>전남>경북>충남"
      ],
      "execution_count": 257,
      "outputs": [
        {
          "output_type": "display_data",
          "data": {
            "image/png": "[encoded data removed]",
            "text/plain": [
              "<Figure size 576x432 with 1 Axes>"
            ]
          },
          "metadata": {
            "tags": [],
            "needs_background": "light"
          }
        }
      ]
    },
    {
      "cell_type": "code",
      "metadata": {
        "colab": {
          "base_uri": "https://localhost:8080/",
          "height": 385
        },
        "id": "7W8ZzVnCKl9a",
        "outputId": "e4e49849-6660-4b9f-d710-a858e8dc7143"
      },
      "source": [
        "# 강원도 방문 여부에 따른 사용액 범주\n",
        "non_visit = df[df.Gangwon==False]['BNA']\n",
        "visit = df[df.Gangwon==True]['BNA']\n",
        "\n",
        "\n",
        "import seaborn as sns\n",
        "import matplotlib.pyplot as plt\n",
        "\n",
        "fig, ax = plt.subplots(1, 2, figsize=(15,6))\n",
        "sns.histplot(non_visit, ax=ax[0]);\n",
        "sns.histplot(visit, ax=ax[1]);\n",
        "\n",
        "ax[0].set(xlabel='Cost Category', title=\"Non-visitor\")\n",
        "ax[1].set(xlabel='Cost Category', title=\"Visitor\")"
      ],
      "execution_count": 259,
      "outputs": [
        {
          "output_type": "execute_result",
          "data": {
            "text/plain": [
              "[Text(0.5, 0, 'Cost Category'), Text(0.5, 1.0, 'Visitor')]"
            ]
          },
          "metadata": {
            "tags": []
          },
          "execution_count": 259
        },
        {
          "output_type": "display_data",
          "data": {
            "image/png": "[encoded data removed]",
            "text/plain": [
              "<Figure size 1080x432 with 2 Axes>"
            ]
          },
          "metadata": {
            "tags": [],
            "needs_background": "light"
          }
        }
      ]
    },
    {
      "cell_type": "code",
      "metadata": {
        "id": "BTjHy0qYBA9T",
        "colab": {
          "base_uri": "https://localhost:8080/",
          "height": 140
        },
        "outputId": "2f5b0063-ec9f-4ebc-f4a5-299e56c35f82"
      },
      "source": [
        "df.groupby('Gangwon')['ONE_TCOST'].agg(['count','mean','median','max','min'])\n",
        "#강원도에 다녀온 사람의 평균 지출이 그렇지 않은 사람보다 높다."
      ],
      "execution_count": 260,
      "outputs": [
        {
          "output_type": "execute_result",
          "data": {
            "text/html": [
              "<div>\n",
              "<style scoped>\n",
              "    .dataframe tbody tr th:only-of-type {\n",
              "        vertical-align: middle;\n",
              "    }\n",
              "\n",
              "    .dataframe tbody tr th {\n",
              "        vertical-align: top;\n",
              "    }\n",
              "\n",
              "    .dataframe thead th {\n",
              "        text-align: right;\n",
              "    }\n",
              "</style>\n",
              "<table border=\"1\" class=\"dataframe\">\n",
              "  <thead>\n",
              "    <tr style=\"text-align: right;\">\n",
              "      <th></th>\n",
              "      <th>count</th>\n",
              "      <th>mean</th>\n",
              "      <th>median</th>\n",
              "      <th>max</th>\n",
              "      <th>min</th>\n",
              "    </tr>\n",
              "    <tr>\n",
              "      <th>Gangwon</th>\n",
              "      <th></th>\n",
              "      <th></th>\n",
              "      <th></th>\n",
              "      <th></th>\n",
              "      <th></th>\n",
              "    </tr>\n",
              "  </thead>\n",
              "  <tbody>\n",
              "    <tr>\n",
              "      <th>False</th>\n",
              "      <td>37431</td>\n",
              "      <td>128701.913268</td>\n",
              "      <td>94000.0</td>\n",
              "      <td>3500000.0</td>\n",
              "      <td>2500.0</td>\n",
              "    </tr>\n",
              "    <tr>\n",
              "      <th>True</th>\n",
              "      <td>4190</td>\n",
              "      <td>165765.443357</td>\n",
              "      <td>150000.0</td>\n",
              "      <td>2500000.0</td>\n",
              "      <td>3000.0</td>\n",
              "    </tr>\n",
              "  </tbody>\n",
              "</table>\n",
              "</div>"
            ],
            "text/plain": [
              "         count           mean    median        max     min\n",
              "Gangwon                                                   \n",
              "False    37431  128701.913268   94000.0  3500000.0  2500.0\n",
              "True      4190  165765.443357  150000.0  2500000.0  3000.0"
            ]
          },
          "metadata": {
            "tags": []
          },
          "execution_count": 260
        }
      ]
    },
    {
      "cell_type": "code",
      "metadata": {
        "colab": {
          "base_uri": "https://localhost:8080/",
          "height": 341
        },
        "id": "sKK_UnN5K-sr",
        "outputId": "9eae59a0-60d5-4f6a-de6b-eafacc58e136"
      },
      "source": [
        "#강원도에 가장 많이 가는 월\n",
        "non_vmonth = df[df.Gangwon==False]['SMONTH'].value_counts()\n",
        "vmonth = df[df.Gangwon==True]['SMONTH'].value_counts()\n",
        "\n",
        "nvm = non_vmonth.sort_index()\n",
        "vn = vmonth.sort_index()\n",
        "\n",
        "fig, ax = plt.subplots(1,2,figsize=(15,5))\n",
        "sns.barplot(x=nvm.index, y=nvm.values, ax=ax[0]);\n",
        "sns.barplot(x=vn.index, y=vn.values, ax=ax[1]);\n",
        "\n",
        "ax[0].set(xlabel='Month', title=\"Non-visitor\")\n",
        "ax[1].set(xlabel='Month', title=\"Visitor\")"
      ],
      "execution_count": 261,
      "outputs": [
        {
          "output_type": "execute_result",
          "data": {
            "text/plain": [
              "[Text(0.5, 0, 'Month'), Text(0.5, 1.0, 'Visitor')]"
            ]
          },
          "metadata": {
            "tags": []
          },
          "execution_count": 261
        },
        {
          "output_type": "display_data",
          "data": {
            "image/png": "[encoded data removed]",
            "text/plain": [
              "<Figure size 1080x360 with 2 Axes>"
            ]
          },
          "metadata": {
            "tags": [],
            "needs_background": "light"
          }
        }
      ]
    },
    {
      "cell_type": "code",
      "metadata": {
        "colab": {
          "base_uri": "https://localhost:8080/",
          "height": 440
        },
        "id": "36lF6fjZ_OlB",
        "outputId": "ae74783b-5e36-4854-f1ac-0cf511a0daf8"
      },
      "source": [
        "sns.displot(data=df['BNA'].sort_values(), height=6, aspect=1.2, kde=True);"
      ],
      "execution_count": 262,
      "outputs": [
        {
          "output_type": "display_data",
          "data": {
            "image/png": "[encoded data removed]",
            "text/plain": [
              "<Figure size 518.4x432 with 1 Axes>"
            ]
          },
          "metadata": {
            "tags": [],
            "needs_background": "light"
          }
        }
      ]
    },
    {
      "cell_type": "code",
      "metadata": {
        "colab": {
          "base_uri": "https://localhost:8080/",
          "height": 368
        },
        "id": "sc7g41_l_M7-",
        "outputId": "c1a50c2d-b698-443e-f071-3b77a4efa7c1"
      },
      "source": [
        "#만족도는 응답자 편향이 너무 심해서 분석에 쓰기 어렵겠다...\n",
        "sns.displot(df['RATING'],kde=True);\n",
        "# plt.axvline(3.7, color='red');"
      ],
      "execution_count": 263,
      "outputs": [
        {
          "output_type": "display_data",
          "data": {
            "image/png": "[encoded data removed]",
            "text/plain": [
              "<Figure size 360x360 with 1 Axes>"
            ]
          },
          "metadata": {
            "tags": [],
            "needs_background": "light"
          }
        }
      ]
    },
    {
      "cell_type": "code",
      "metadata": {
        "colab": {
          "base_uri": "https://localhost:8080/",
          "height": 368
        },
        "id": "Eq1nNPo1wBoU",
        "outputId": "fd1b26c2-1a3e-433b-b028-df8fafea216b"
      },
      "source": [
        "#재방문의사\n",
        "sns.displot(df['A13'],kde=True);"
      ],
      "execution_count": 264,
      "outputs": [
        {
          "output_type": "display_data",
          "data": {
            "image/png": "[encoded data removed]",
            "text/plain": [
              "<Figure size 360x360 with 1 Axes>"
            ]
          },
          "metadata": {
            "tags": [],
            "needs_background": "light"
          }
        }
      ]
    },
    {
      "cell_type": "code",
      "metadata": {
        "colab": {
          "base_uri": "https://localhost:8080/",
          "height": 368
        },
        "id": "Ki2p9wDPwJE6",
        "outputId": "27be1760-ecf9-4470-fa77-12253d78e5cf"
      },
      "source": [
        "#추천의도\n",
        "sns.displot(df['A14'],kde=True);"
      ],
      "execution_count": 265,
      "outputs": [
        {
          "output_type": "display_data",
          "data": {
            "image/png": "[encoded data removed]",
            "text/plain": [
              "<Figure size 360x360 with 1 Axes>"
            ]
          },
          "metadata": {
            "tags": [],
            "needs_background": "light"
          }
        }
      ]
    },
    {
      "cell_type": "markdown",
      "metadata": {
        "id": "ic9tIRH__K03"
      },
      "source": [
        "# **3. 데이터 모델링**"
      ]
    },
    {
      "cell_type": "markdown",
      "metadata": {
        "id": "TkqxlHFwrcRV"
      },
      "source": [
        "## **3-1 모델링 데이터(mdf) engineering**"
      ]
    },
    {
      "cell_type": "code",
      "metadata": {
        "colab": {
          "base_uri": "https://localhost:8080/"
        },
        "id": "WFiQlWIm_ar7",
        "outputId": "456b105e-a644-4018-df3f-3e17a98f08cd"
      },
      "source": [
        "df.columns.unique()"
      ],
      "execution_count": 560,
      "outputs": [
        {
          "output_type": "execute_result",
          "data": {
            "text/plain": [
              "Index(['ID', 'SMONTH', 'S_Day', 'TCOST', 'TNUM', 'ONE_TCOST', 'CASE', 'SPOT',\n",
              "       'A2_1', 'A2_2', 'A2_3', 'A7B_1', 'A7B_2', 'A7B_3', 'A7B_4', 'A7B_5',\n",
              "       'A7B_6', 'PRE_TOTAL', 'NA10A', 'NA10C', 'NA10D', 'NA10E', 'NA10F',\n",
              "       'NA10G', 'NA_TOTAL', 'RATING', 'A13', 'A14', 'DQ5', 'DQ6', 'SEX',\n",
              "       'BAGE', 'BARA', 'EXP_NIGHT', 'EXP_ADAY', 'A7B', 'M_TOTAL', 'BNA',\n",
              "       'DandN', 'REASON', 'Gangwon'],\n",
              "      dtype='object')"
            ]
          },
          "metadata": {
            "tags": []
          },
          "execution_count": 560
        }
      ]
    },
    {
      "cell_type": "code",
      "metadata": {
        "id": "RJLpgZ9D5NhP"
      },
      "source": [
        "mdf=df[['SMONTH', 'S_Day', 'TNUM', 'A7B', 'SPOT', 'DandN', 'REASON', 'BNA', 'M_TOTAL',\n",
        "        'SEX', 'BAGE', 'Gangwon']]"
      ],
      "execution_count": 561,
      "outputs": []
    },
    {
      "cell_type": "code",
      "metadata": {
        "colab": {
          "base_uri": "https://localhost:8080/"
        },
        "id": "Rmc-uWiBu5T5",
        "outputId": "f4dd35e2-597f-4efb-bab5-9038c4960d5f"
      },
      "source": [
        "mdf.shape"
      ],
      "execution_count": 562,
      "outputs": [
        {
          "output_type": "execute_result",
          "data": {
            "text/plain": [
              "(41621, 12)"
            ]
          },
          "metadata": {
            "tags": []
          },
          "execution_count": 562
        }
      ]
    },
    {
      "cell_type": "code",
      "metadata": {
        "colab": {
          "base_uri": "https://localhost:8080/"
        },
        "id": "CjPSlOAy-4OO",
        "outputId": "b4039210-3e1a-43c9-964b-f50b985ff3d2"
      },
      "source": [
        "mdf['TNUM'].fillna(mdf['TNUM'].mean(), inplace=True)\n",
        "mdf.isnull().sum()"
      ],
      "execution_count": 563,
      "outputs": [
        {
          "output_type": "execute_result",
          "data": {
            "text/plain": [
              "SMONTH     0\n",
              "S_Day      0\n",
              "TNUM       0\n",
              "A7B        0\n",
              "SPOT       0\n",
              "DandN      0\n",
              "REASON     0\n",
              "BNA        0\n",
              "M_TOTAL    0\n",
              "SEX        0\n",
              "BAGE       0\n",
              "Gangwon    0\n",
              "dtype: int64"
            ]
          },
          "metadata": {
            "tags": []
          },
          "execution_count": 563
        }
      ]
    },
    {
      "cell_type": "code",
      "metadata": {
        "colab": {
          "base_uri": "https://localhost:8080/",
          "height": 201
        },
        "id": "WHNDwY8lioIb",
        "outputId": "e4846ccb-b13e-459d-eb75-1fb7dc732856"
      },
      "source": [
        "mdf.head()"
      ],
      "execution_count": 564,
      "outputs": [
        {
          "output_type": "execute_result",
          "data": {
            "text/html": [
              "<div>\n",
              "<style scoped>\n",
              "    .dataframe tbody tr th:only-of-type {\n",
              "        vertical-align: middle;\n",
              "    }\n",
              "\n",
              "    .dataframe tbody tr th {\n",
              "        vertical-align: top;\n",
              "    }\n",
              "\n",
              "    .dataframe thead th {\n",
              "        text-align: right;\n",
              "    }\n",
              "</style>\n",
              "<table border=\"1\" class=\"dataframe\">\n",
              "  <thead>\n",
              "    <tr style=\"text-align: right;\">\n",
              "      <th></th>\n",
              "      <th>SMONTH</th>\n",
              "      <th>S_Day</th>\n",
              "      <th>TNUM</th>\n",
              "      <th>A7B</th>\n",
              "      <th>SPOT</th>\n",
              "      <th>DandN</th>\n",
              "      <th>REASON</th>\n",
              "      <th>BNA</th>\n",
              "      <th>M_TOTAL</th>\n",
              "      <th>SEX</th>\n",
              "      <th>BAGE</th>\n",
              "      <th>Gangwon</th>\n",
              "    </tr>\n",
              "  </thead>\n",
              "  <tbody>\n",
              "    <tr>\n",
              "      <th>0</th>\n",
              "      <td>7.0</td>\n",
              "      <td>2.0</td>\n",
              "      <td>5.0</td>\n",
              "      <td>Mate</td>\n",
              "      <td>Jeju</td>\n",
              "      <td>1</td>\n",
              "      <td>Time/Trans</td>\n",
              "      <td>8.0</td>\n",
              "      <td>360000.0</td>\n",
              "      <td>2</td>\n",
              "      <td>6</td>\n",
              "      <td>False</td>\n",
              "    </tr>\n",
              "    <tr>\n",
              "      <th>1</th>\n",
              "      <td>5.0</td>\n",
              "      <td>0.0</td>\n",
              "      <td>33.0</td>\n",
              "      <td>Crew</td>\n",
              "      <td>CN/Dae</td>\n",
              "      <td>0</td>\n",
              "      <td>View</td>\n",
              "      <td>3.0</td>\n",
              "      <td>57200.0</td>\n",
              "      <td>2</td>\n",
              "      <td>5</td>\n",
              "      <td>False</td>\n",
              "    </tr>\n",
              "    <tr>\n",
              "      <th>2</th>\n",
              "      <td>5.0</td>\n",
              "      <td>0.0</td>\n",
              "      <td>5.0</td>\n",
              "      <td>Mate</td>\n",
              "      <td>Gyeongi</td>\n",
              "      <td>0</td>\n",
              "      <td>etc</td>\n",
              "      <td>4.0</td>\n",
              "      <td>90000.0</td>\n",
              "      <td>1</td>\n",
              "      <td>7</td>\n",
              "      <td>False</td>\n",
              "    </tr>\n",
              "    <tr>\n",
              "      <th>3</th>\n",
              "      <td>5.0</td>\n",
              "      <td>2.0</td>\n",
              "      <td>5.0</td>\n",
              "      <td>Fam</td>\n",
              "      <td>JB</td>\n",
              "      <td>1</td>\n",
              "      <td>Time/Trans</td>\n",
              "      <td>3.0</td>\n",
              "      <td>68500.0</td>\n",
              "      <td>2</td>\n",
              "      <td>6</td>\n",
              "      <td>False</td>\n",
              "    </tr>\n",
              "    <tr>\n",
              "      <th>4</th>\n",
              "      <td>9.0</td>\n",
              "      <td>1.0</td>\n",
              "      <td>5.0</td>\n",
              "      <td>Mate</td>\n",
              "      <td>JN/Gwa</td>\n",
              "      <td>1</td>\n",
              "      <td>View</td>\n",
              "      <td>4.0</td>\n",
              "      <td>100000.0</td>\n",
              "      <td>2</td>\n",
              "      <td>6</td>\n",
              "      <td>False</td>\n",
              "    </tr>\n",
              "  </tbody>\n",
              "</table>\n",
              "</div>"
            ],
            "text/plain": [
              "   SMONTH  S_Day  TNUM   A7B     SPOT  ...  BNA   M_TOTAL  SEX  BAGE  Gangwon\n",
              "0     7.0    2.0   5.0  Mate     Jeju  ...  8.0  360000.0    2     6    False\n",
              "1     5.0    0.0  33.0  Crew   CN/Dae  ...  3.0   57200.0    2     5    False\n",
              "2     5.0    0.0   5.0  Mate  Gyeongi  ...  4.0   90000.0    1     7    False\n",
              "3     5.0    2.0   5.0   Fam       JB  ...  3.0   68500.0    2     6    False\n",
              "4     9.0    1.0   5.0  Mate   JN/Gwa  ...  4.0  100000.0    2     6    False\n",
              "\n",
              "[5 rows x 12 columns]"
            ]
          },
          "metadata": {
            "tags": []
          },
          "execution_count": 564
        }
      ]
    },
    {
      "cell_type": "markdown",
      "metadata": {
        "id": "sQX6E36Yrmo_"
      },
      "source": [
        "## **3-2 기준모델 _ Gangwon**\n"
      ]
    },
    {
      "cell_type": "code",
      "metadata": {
        "colab": {
          "base_uri": "https://localhost:8080/"
        },
        "id": "1cxL4u8oAVy1",
        "outputId": "27c1d532-3a35-4bc7-9945-942ec26139e3"
      },
      "source": [
        "from sklearn.model_selection import train_test_split\n",
        "train, test = train_test_split(mdf, test_size=0.2, random_state=2)\n",
        "train.shape, test.shape"
      ],
      "execution_count": 565,
      "outputs": [
        {
          "output_type": "execute_result",
          "data": {
            "text/plain": [
              "((33296, 12), (8325, 12))"
            ]
          },
          "metadata": {
            "tags": []
          },
          "execution_count": 565
        }
      ]
    },
    {
      "cell_type": "code",
      "metadata": {
        "colab": {
          "base_uri": "https://localhost:8080/"
        },
        "id": "57LuBASaVhPF",
        "outputId": "2f2c8d9b-25df-454a-9f32-d6340a065f99"
      },
      "source": [
        "target = 'Gangwon'\n",
        "features = mdf.columns.drop([target, 'SPOT'])\n",
        "\n",
        "X_train = train[features]\n",
        "y_train = train[target]\n",
        "X_test = test[features]\n",
        "y_test = test[target]\n",
        "X_train.columns"
      ],
      "execution_count": 566,
      "outputs": [
        {
          "output_type": "execute_result",
          "data": {
            "text/plain": [
              "Index(['SMONTH', 'S_Day', 'TNUM', 'A7B', 'DandN', 'REASON', 'BNA', 'M_TOTAL',\n",
              "       'SEX', 'BAGE'],\n",
              "      dtype='object')"
            ]
          },
          "metadata": {
            "tags": []
          },
          "execution_count": 566
        }
      ]
    },
    {
      "cell_type": "code",
      "metadata": {
        "colab": {
          "base_uri": "https://localhost:8080/",
          "height": 277
        },
        "cellView": "code",
        "id": "4PHmOvZOeFMO",
        "outputId": "25743183-2319-4a04-dfc0-a4c31eebb3b3"
      },
      "source": [
        "import seaborn as sns\n",
        "import matplotlib.pyplot as plt\n",
        "%matplotlib inline\n",
        "sns.countplot(x=y_train);\n",
        "\n",
        "# 분류문제,  타겟 클래스비율이 70% 이상 차이나서 정확도 만으로는 판단할 수 없음\n",
        "# 정밀도, 재현율, ROC curve, AUC 등을 같이 사용해야 함"
      ],
      "execution_count": 567,
      "outputs": [
        {
          "output_type": "display_data",
          "data": {
            "image/png": "[encoded data removed]",
            "text/plain": [
              "<Figure size 432x288 with 1 Axes>"
            ]
          },
          "metadata": {
            "tags": [],
            "needs_background": "light"
          }
        }
      ]
    },
    {
      "cell_type": "code",
      "metadata": {
        "colab": {
          "base_uri": "https://localhost:8080/"
        },
        "id": "V4SgNSWau-wJ",
        "outputId": "3f55dc16-96e3-4841-a61d-b4a428898793"
      },
      "source": [
        "#기준모델_최빈값\n",
        "major = y_train.mode()[0]\n",
        "y_pred = [major] * len(y_train)\n",
        "\n",
        "from sklearn.metrics import accuracy_score\n",
        "print(\"훈련 정확도: \", accuracy_score(y_train, y_pred))\n",
        "print(classification_report(y_train, y_pred))\n",
        "\n",
        "y_val = val[target]\n",
        "y_pred = [major] * len(y_val)\n",
        "print(\"검증 정확도: \", accuracy_score(y_val, y_pred))"
      ],
      "execution_count": 568,
      "outputs": [
        {
          "output_type": "stream",
          "text": [
            "훈련 정확도:  0.8990869774147044\n",
            "              precision    recall  f1-score   support\n",
            "\n",
            "       False       0.90      1.00      0.95     29936\n",
            "        True       0.00      0.00      0.00      3360\n",
            "\n",
            "    accuracy                           0.90     33296\n",
            "   macro avg       0.45      0.50      0.47     33296\n",
            "weighted avg       0.81      0.90      0.85     33296\n",
            "\n",
            "검증 정확도:  0.8968468468468469\n"
          ],
          "name": "stdout"
        }
      ]
    },
    {
      "cell_type": "markdown",
      "metadata": {
        "id": "ydUmbUtR1OB5"
      },
      "source": [
        "## (열지 마시오) 수치형 특성만 / 선형회귀모델 (열지 마시오)"
      ]
    },
    {
      "cell_type": "code",
      "metadata": {
        "colab": {
          "base_uri": "https://localhost:8080/"
        },
        "id": "6t_Jol875l43",
        "outputId": "304c52b6-0451-46a2-961a-53cbe084346f"
      },
      "source": [
        "mdf.info()"
      ],
      "execution_count": null,
      "outputs": [
        {
          "output_type": "stream",
          "text": [
            "<class 'pandas.core.frame.DataFrame'>\n",
            "Int64Index: 41621 entries, 0 to 41623\n",
            "Data columns (total 14 columns):\n",
            " #   Column   Non-Null Count  Dtype  \n",
            "---  ------   --------------  -----  \n",
            " 0   SMONTH   41621 non-null  float64\n",
            " 1   S_Day    41621 non-null  float64\n",
            " 2   TNUM     39135 non-null  float64\n",
            " 3   A7B      41621 non-null  int64  \n",
            " 4   SPOT     41621 non-null  int64  \n",
            " 5   DandN    41621 non-null  int64  \n",
            " 6   REASON   41621 non-null  int64  \n",
            " 7   BNA      41621 non-null  float64\n",
            " 8   M_TOTAL  41621 non-null  float64\n",
            " 9   SEX      41621 non-null  int64  \n",
            " 10  BAGE     41621 non-null  int64  \n",
            " 11  BARA     41621 non-null  int64  \n",
            " 12  DQ5      41621 non-null  int64  \n",
            " 13  Gangwon  41621 non-null  bool   \n",
            "dtypes: bool(1), float64(5), int64(8)\n",
            "memory usage: 4.5 MB\n"
          ],
          "name": "stdout"
        }
      ]
    },
    {
      "cell_type": "code",
      "metadata": {
        "id": "OGjYHGBBvlNL"
      },
      "source": [
        "from sklearn.linear_model import LinearRegression\n",
        "\n",
        "linear_model = LinearRegression()\n",
        "\n",
        "# 숫자형 특성\n",
        "features = ['SMONTH', 'S_Day', 'TNUM', 'M_TOTAL']\n",
        "X_train = train[features]\n",
        "X_val = val[features]\n",
        "\n",
        "\n",
        "from sklearn.impute import SimpleImputer\n",
        "\n",
        "imputer = SimpleImputer() \n",
        "X_train_imputed = imputer.fit_transform(X_train)\n",
        "X_val_imputed = imputer.transform(X_val)\n",
        "\n",
        "linear_model.fit(X_train_imputed, y_train)\n",
        "pred = linear_model.predict(X_val_imputed)"
      ],
      "execution_count": null,
      "outputs": []
    },
    {
      "cell_type": "code",
      "metadata": {
        "colab": {
          "base_uri": "https://localhost:8080/"
        },
        "id": "ZSESz_3NwGjC",
        "outputId": "2fe14e19-9110-42ff-ae00-c9ad96116075"
      },
      "source": [
        "pd.Series(linear_model.coef_, features)\n",
        "#연말 / 장기 / 다수 / 고액 일수록 강원도에"
      ],
      "execution_count": null,
      "outputs": [
        {
          "output_type": "execute_result",
          "data": {
            "text/plain": [
              "SMONTH     2.108374e-03\n",
              "S_Day      1.454110e-02\n",
              "TNUM       2.108440e-03\n",
              "M_TOTAL    1.631762e-07\n",
              "dtype: float64"
            ]
          },
          "metadata": {
            "tags": []
          },
          "execution_count": 969
        }
      ]
    },
    {
      "cell_type": "code",
      "metadata": {
        "colab": {
          "base_uri": "https://localhost:8080/",
          "height": 52
        },
        "id": "zCmKzI6C0GGg",
        "outputId": "f75e9aa8-833f-436d-d347-27692d588f1c"
      },
      "source": [
        "plt.figure(figsize=(12, 10))\n",
        "coefficients.sort_values().plot.barh();"
      ],
      "execution_count": null,
      "outputs": [
        {
          "output_type": "display_data",
          "data": {
            "image/png": "[encoded data removed]",
            "text/plain": [
              "<Figure size 864x720 with 1 Axes>"
            ]
          },
          "metadata": {
            "tags": [],
            "needs_background": "light"
          }
        }
      ]
    },
    {
      "cell_type": "code",
      "metadata": {
        "colab": {
          "base_uri": "https://localhost:8080/"
        },
        "id": "V83dj22A6NQ_",
        "outputId": "4c334ac9-cfba-42d9-9b59-d45d756a54ac"
      },
      "source": [
        "#12월, 5일간, 5명이, 50만원\n",
        "test_case = [[12, 5, 120, 10000000]]\n",
        "linear_model.predict(test_case)"
      ],
      "execution_count": null,
      "outputs": [
        {
          "output_type": "execute_result",
          "data": {
            "text/plain": [
              "array([2.03162264])"
            ]
          },
          "metadata": {
            "tags": []
          },
          "execution_count": 971
        }
      ]
    },
    {
      "cell_type": "code",
      "metadata": {
        "colab": {
          "base_uri": "https://localhost:8080/"
        },
        "id": "xPbJlUdcxHrD",
        "outputId": "2a1eebe6-8457-49e6-9edf-6b8e311edff9"
      },
      "source": [
        "from sklearn.linear_model import LogisticRegression\n",
        "\n",
        "logistic = LogisticRegression()\n",
        "logistic.fit(X_train_imputed, y_train)\n",
        "\n",
        "print('검증세트 정확도', logistic.score(X_val_imputed, y_val))"
      ],
      "execution_count": null,
      "outputs": [
        {
          "output_type": "stream",
          "text": [
            "검증세트 정확도 0.8968468468468469\n"
          ],
          "name": "stdout"
        }
      ]
    },
    {
      "cell_type": "code",
      "metadata": {
        "colab": {
          "base_uri": "https://localhost:8080/"
        },
        "id": "6MWetMlB6oJD",
        "outputId": "dcb2d510-ee3f-477e-c418-1d9542d76305"
      },
      "source": [
        "pred = logistic.predict(X_val_imputed)\n",
        "pred\n",
        "\n",
        "logistic.predict(test_case)\n",
        "#틀렸네..?"
      ],
      "execution_count": null,
      "outputs": [
        {
          "output_type": "execute_result",
          "data": {
            "text/plain": [
              "array([False])"
            ]
          },
          "metadata": {
            "tags": []
          },
          "execution_count": 973
        }
      ]
    },
    {
      "cell_type": "code",
      "metadata": {
        "colab": {
          "base_uri": "https://localhost:8080/"
        },
        "id": "v3Z0wVoK8DVg",
        "outputId": "d82add6f-6c60-4ea9-8835-dbe17c6bd6bd"
      },
      "source": [
        "print(features)\n",
        "print(logistic.coef_)\n",
        "#수치도 변하고 방향도 변했네...?"
      ],
      "execution_count": null,
      "outputs": [
        {
          "output_type": "stream",
          "text": [
            "['SMONTH', 'S_Day', 'TNUM', 'M_TOTAL']\n",
            "[[-6.95732778e-09 -3.91356759e-11 -2.98490505e-09 -1.30353780e-05]]\n"
          ],
          "name": "stdout"
        }
      ]
    },
    {
      "cell_type": "markdown",
      "metadata": {
        "id": "sxs_DruHvTyQ"
      },
      "source": [
        "## **3-3 파이프라인_홀드아웃(8:2)**"
      ]
    },
    {
      "cell_type": "code",
      "metadata": {
        "colab": {
          "base_uri": "https://localhost:8080/"
        },
        "id": "RalFfuYg_q6u",
        "outputId": "9d81e76a-850b-4e36-f5f9-bfa216ecb041"
      },
      "source": [
        "from sklearn.model_selection import train_test_split\n",
        "train, test = train_test_split(mdf, test_size=0.2, random_state=2)\n",
        "train.shape, test.shape\n",
        "\n",
        "train, val = train_test_split(train, test_size=0.2, random_state=2)\n",
        "train.shape, val.shape\n",
        "\n",
        "target = 'Gangwon'\n",
        "features = mdf.columns.drop([target, 'SPOT', 'BNA'])\n",
        "\n",
        "X_train = train[features]\n",
        "y_train = train[target]\n",
        "X_val = val[features]\n",
        "y_val = val[target]\n",
        "X_test = test[features]\n",
        "X_train.shape"
      ],
      "execution_count": 569,
      "outputs": [
        {
          "output_type": "execute_result",
          "data": {
            "text/plain": [
              "(26636, 9)"
            ]
          },
          "metadata": {
            "tags": []
          },
          "execution_count": 569
        }
      ]
    },
    {
      "cell_type": "code",
      "metadata": {
        "colab": {
          "base_uri": "https://localhost:8080/"
        },
        "id": "j1B1bFpzaLWt",
        "outputId": "5f6dadc9-a9fc-4d20-f6db-b2d241c2ca54"
      },
      "source": [
        "X_train.columns"
      ],
      "execution_count": 570,
      "outputs": [
        {
          "output_type": "execute_result",
          "data": {
            "text/plain": [
              "Index(['SMONTH', 'S_Day', 'TNUM', 'A7B', 'DandN', 'REASON', 'M_TOTAL', 'SEX',\n",
              "       'BAGE'],\n",
              "      dtype='object')"
            ]
          },
          "metadata": {
            "tags": []
          },
          "execution_count": 570
        }
      ]
    },
    {
      "cell_type": "code",
      "metadata": {
        "colab": {
          "base_uri": "https://localhost:8080/"
        },
        "id": "NN3xsd_jZAlP",
        "outputId": "89a96384-d179-4770-e8d2-9b5b53b84f3b"
      },
      "source": [
        "from sklearn.pipeline import make_pipeline\n",
        "from category_encoders import TargetEncoder\n",
        "from sklearn.impute import SimpleImputer\n",
        "from sklearn.preprocessing import StandardScaler\n",
        "from sklearn.ensemble import RandomForestClassifier\n",
        "from sklearn.metrics import accuracy_score\n",
        "\n",
        "pipe1 = make_pipeline(\n",
        "    TargetEncoder(), \n",
        "    SimpleImputer(), #결측치 TNUM\n",
        "    RandomForestClassifier(#max_depth=10, class_weight='balanced', \n",
        "                           n_estimators=50, random_state=2, n_jobs=-1)\n",
        ")\n",
        "\n",
        "pipe1.fit(X_train, y_train)\n",
        "print('훈련 정확도: ', pipe1.score(X_train, y_train))\n",
        "print('검증 정확도: ', pipe1.score(X_val, y_val))"
      ],
      "execution_count": 571,
      "outputs": [
        {
          "output_type": "stream",
          "text": [
            "훈련 정확도:  0.9968088301546779\n",
            "검증 정확도:  0.8884384384384384\n"
          ],
          "name": "stdout"
        }
      ]
    },
    {
      "cell_type": "code",
      "metadata": {
        "colab": {
          "base_uri": "https://localhost:8080/",
          "height": 312
        },
        "id": "iq1JmamPyYfQ",
        "outputId": "04b127b2-c922-4647-99a6-5ae0579bf6aa"
      },
      "source": [
        "# 타겟의 경우 진짜 강원도임을 찾는 정밀도(precision)가 중요하다\n",
        "\n",
        "from sklearn.metrics import plot_confusion_matrix\n",
        "import matplotlib.pyplot as plt\n",
        "\n",
        "fig, ax = plt.subplots()\n",
        "pcm = plot_confusion_matrix(pipe1, X_val, y_val,\n",
        "                            cmap=plt.cm.Blues,\n",
        "                            ax=ax);\n",
        "plt.title(f'Confusion matrix, n = {len(y_val)}', fontsize=15)\n",
        "#아닌게 실제로 많아서, 일단 아니라고 하면 아닐 확률이 높은 상태"
      ],
      "execution_count": 572,
      "outputs": [
        {
          "output_type": "execute_result",
          "data": {
            "text/plain": [
              "Text(0.5, 1.0, 'Confusion matrix, n = 6660')"
            ]
          },
          "metadata": {
            "tags": []
          },
          "execution_count": 572
        },
        {
          "output_type": "display_data",
          "data": {
            "image/png": "[encoded data removed]",
            "text/plain": [
              "<Figure size 432x288 with 2 Axes>"
            ]
          },
          "metadata": {
            "tags": [],
            "needs_background": "light"
          }
        }
      ]
    },
    {
      "cell_type": "code",
      "metadata": {
        "colab": {
          "base_uri": "https://localhost:8080/"
        },
        "id": "rbhD22rqzQds",
        "outputId": "bbdbc688-e0ca-46b4-8d2d-c02c11a0c489"
      },
      "source": [
        "pipe2 = make_pipeline(\n",
        "    TargetEncoder(), \n",
        "    SimpleImputer(), \n",
        "    StandardScaler(),\n",
        "    RandomForestClassifier(max_depth=10, class_weight='balanced', \n",
        "                           n_estimators=50, random_state=2, n_jobs=-1)\n",
        ")\n",
        "\n",
        "pipe2.fit(X_train, y_train)\n",
        "\n",
        "#True 범주의 수치\n",
        "from sklearn.metrics import classification_report\n",
        "\n",
        "y_pred = pipe2.predict(X_val)\n",
        "print(classification_report(y_val, y_pred))"
      ],
      "execution_count": 573,
      "outputs": [
        {
          "output_type": "stream",
          "text": [
            "              precision    recall  f1-score   support\n",
            "\n",
            "       False       0.95      0.72      0.82      5973\n",
            "        True       0.21      0.65      0.32       687\n",
            "\n",
            "    accuracy                           0.71      6660\n",
            "   macro avg       0.58      0.68      0.57      6660\n",
            "weighted avg       0.87      0.71      0.77      6660\n",
            "\n"
          ],
          "name": "stdout"
        }
      ]
    },
    {
      "cell_type": "code",
      "metadata": {
        "colab": {
          "base_uri": "https://localhost:8080/",
          "height": 296
        },
        "id": "FTC5o22y_Rr_",
        "outputId": "194bb9c4-f485-4bab-e47a-783ef3f1bf31"
      },
      "source": [
        "from sklearn.metrics import plot_confusion_matrix\n",
        "import matplotlib.pyplot as plt\n",
        "\n",
        "fig, ax = plt.subplots()\n",
        "pcm = plot_confusion_matrix(pipe2, X_val, y_val,\n",
        "                            cmap=plt.cm.Blues,\n",
        "                            ax=ax);\n",
        "plt.title(f'Confusion matrix, n = {len(y_val)}', fontsize=15)\n",
        "plt.show()"
      ],
      "execution_count": 574,
      "outputs": [
        {
          "output_type": "display_data",
          "data": {
            "image/png": "[encoded data removed]",
            "text/plain": [
              "<Figure size 432x288 with 2 Axes>"
            ]
          },
          "metadata": {
            "tags": [],
            "needs_background": "light"
          }
        }
      ]
    },
    {
      "cell_type": "code",
      "metadata": {
        "colab": {
          "base_uri": "https://localhost:8080/"
        },
        "id": "WTBV6Ehs_1BE",
        "outputId": "a3ca9be4-8ecd-4d27-8e67-78bcfbed4161"
      },
      "source": [
        "import numpy as np\n",
        "\n",
        "cm = pcm.confusion_matrix\n",
        "cm\n",
        "\n",
        "correct_predictions = np.diag(cm).sum()\n",
        "correct_predictions\n",
        "\n",
        "total_predictions = cm.sum()\n",
        "total_predictions\n",
        "\n",
        "print(correct_predictions/total_predictions) #분류 정확도\n",
        "print('검증 정확도: ', accuracy_score(y_val, y_pred))"
      ],
      "execution_count": 575,
      "outputs": [
        {
          "output_type": "stream",
          "text": [
            "0.7145645645645645\n",
            "검증 정확도:  0.7145645645645645\n"
          ],
          "name": "stdout"
        }
      ]
    },
    {
      "cell_type": "code",
      "metadata": {
        "colab": {
          "base_uri": "https://localhost:8080/",
          "height": 411
        },
        "id": "v92nPQLaAy68",
        "outputId": "681d8909-ba38-4c11-de5b-af6509404749"
      },
      "source": [
        "from sklearn.metrics import roc_curve\n",
        "\n",
        "# roc_curve(타겟값, prob of 1)\n",
        "fpr, tpr, thresholds = roc_curve(y_val, y_pred_proba)\n",
        "\n",
        "roc = pd.DataFrame({\n",
        "    'FPR(Fall-out)': fpr, \n",
        "    'TPRate(Recall)': tpr, \n",
        "    'Threshold': thresholds\n",
        "})\n",
        "roc"
      ],
      "execution_count": 576,
      "outputs": [
        {
          "output_type": "execute_result",
          "data": {
            "text/html": [
              "<div>\n",
              "<style scoped>\n",
              "    .dataframe tbody tr th:only-of-type {\n",
              "        vertical-align: middle;\n",
              "    }\n",
              "\n",
              "    .dataframe tbody tr th {\n",
              "        vertical-align: top;\n",
              "    }\n",
              "\n",
              "    .dataframe thead th {\n",
              "        text-align: right;\n",
              "    }\n",
              "</style>\n",
              "<table border=\"1\" class=\"dataframe\">\n",
              "  <thead>\n",
              "    <tr style=\"text-align: right;\">\n",
              "      <th></th>\n",
              "      <th>FPR(Fall-out)</th>\n",
              "      <th>TPRate(Recall)</th>\n",
              "      <th>Threshold</th>\n",
              "    </tr>\n",
              "  </thead>\n",
              "  <tbody>\n",
              "    <tr>\n",
              "      <th>0</th>\n",
              "      <td>0.000000</td>\n",
              "      <td>0.000000</td>\n",
              "      <td>1.830054</td>\n",
              "    </tr>\n",
              "    <tr>\n",
              "      <th>1</th>\n",
              "      <td>0.000167</td>\n",
              "      <td>0.000000</td>\n",
              "      <td>0.830054</td>\n",
              "    </tr>\n",
              "    <tr>\n",
              "      <th>2</th>\n",
              "      <td>0.000167</td>\n",
              "      <td>0.001456</td>\n",
              "      <td>0.829528</td>\n",
              "    </tr>\n",
              "    <tr>\n",
              "      <th>3</th>\n",
              "      <td>0.000335</td>\n",
              "      <td>0.001456</td>\n",
              "      <td>0.827115</td>\n",
              "    </tr>\n",
              "    <tr>\n",
              "      <th>4</th>\n",
              "      <td>0.000335</td>\n",
              "      <td>0.004367</td>\n",
              "      <td>0.821133</td>\n",
              "    </tr>\n",
              "    <tr>\n",
              "      <th>...</th>\n",
              "      <td>...</td>\n",
              "      <td>...</td>\n",
              "      <td>...</td>\n",
              "    </tr>\n",
              "    <tr>\n",
              "      <th>1291</th>\n",
              "      <td>0.885150</td>\n",
              "      <td>1.000000</td>\n",
              "      <td>0.000790</td>\n",
              "    </tr>\n",
              "    <tr>\n",
              "      <th>1292</th>\n",
              "      <td>0.889001</td>\n",
              "      <td>1.000000</td>\n",
              "      <td>0.000629</td>\n",
              "    </tr>\n",
              "    <tr>\n",
              "      <th>1293</th>\n",
              "      <td>0.894860</td>\n",
              "      <td>1.000000</td>\n",
              "      <td>0.000566</td>\n",
              "    </tr>\n",
              "    <tr>\n",
              "      <th>1294</th>\n",
              "      <td>0.910263</td>\n",
              "      <td>1.000000</td>\n",
              "      <td>0.000253</td>\n",
              "    </tr>\n",
              "    <tr>\n",
              "      <th>1295</th>\n",
              "      <td>1.000000</td>\n",
              "      <td>1.000000</td>\n",
              "      <td>0.000000</td>\n",
              "    </tr>\n",
              "  </tbody>\n",
              "</table>\n",
              "<p>1296 rows × 3 columns</p>\n",
              "</div>"
            ],
            "text/plain": [
              "      FPR(Fall-out)  TPRate(Recall)  Threshold\n",
              "0          0.000000        0.000000   1.830054\n",
              "1          0.000167        0.000000   0.830054\n",
              "2          0.000167        0.001456   0.829528\n",
              "3          0.000335        0.001456   0.827115\n",
              "4          0.000335        0.004367   0.821133\n",
              "...             ...             ...        ...\n",
              "1291       0.885150        1.000000   0.000790\n",
              "1292       0.889001        1.000000   0.000629\n",
              "1293       0.894860        1.000000   0.000566\n",
              "1294       0.910263        1.000000   0.000253\n",
              "1295       1.000000        1.000000   0.000000\n",
              "\n",
              "[1296 rows x 3 columns]"
            ]
          },
          "metadata": {
            "tags": []
          },
          "execution_count": 576
        }
      ]
    },
    {
      "cell_type": "code",
      "metadata": {
        "colab": {
          "base_uri": "https://localhost:8080/",
          "height": 327
        },
        "id": "yeyKRP11zSlU",
        "outputId": "e5116453-8b39-471e-c78c-5f45daa5e25e"
      },
      "source": [
        "from sklearn.metrics import roc_auc_score\n",
        "\n",
        "y_pred_proba = pipe2.predict_proba(X_val)[:, -1]\n",
        "print('AUC score: ', roc_auc_score(y_val, y_pred_proba))\n",
        "\n",
        "fpr, tpr, thresholds = roc_curve(y_val, y_pred_proba)\n",
        "plt.scatter(fpr, tpr, color='blue')\n",
        "plt.plot(fpr, tpr, color='green')\n",
        "plt.title('ROC curve')\n",
        "plt.xlabel('FPR')\n",
        "plt.ylabel('TPR(Recall)')"
      ],
      "execution_count": 577,
      "outputs": [
        {
          "output_type": "stream",
          "text": [
            "AUC score:  0.7519853411189752\n"
          ],
          "name": "stdout"
        },
        {
          "output_type": "execute_result",
          "data": {
            "text/plain": [
              "Text(0, 0.5, 'TPR(Recall)')"
            ]
          },
          "metadata": {
            "tags": []
          },
          "execution_count": 577
        },
        {
          "output_type": "display_data",
          "data": {
            "image/png": "[encoded data removed]",
            "text/plain": [
              "<Figure size 432x288 with 1 Axes>"
            ]
          },
          "metadata": {
            "tags": [],
            "needs_background": "light"
          }
        }
      ]
    },
    {
      "cell_type": "code",
      "metadata": {
        "colab": {
          "base_uri": "https://localhost:8080/"
        },
        "id": "2jUjCh2AA8Qs",
        "outputId": "89a96bc2-4d35-4029-8f9e-d2f9ec10daad"
      },
      "source": [
        "#최적의 임계값\n",
        "optimal_idx = np.argmax(tpr - fpr)\n",
        "optimal_threshold = thresholds[optimal_idx]\n",
        "\n",
        "print('idx:', optimal_idx, ', threshold:', optimal_threshold)\n",
        "\n",
        "y_pred_optimal = y_pred_proba >= optimal_threshold\n",
        "print(classification_report(y_val, y_pred_optimal))"
      ],
      "execution_count": 578,
      "outputs": [
        {
          "output_type": "stream",
          "text": [
            "idx: 796 , threshold: 0.4565740292639934\n",
            "              precision    recall  f1-score   support\n",
            "\n",
            "       False       0.95      0.67      0.78      5973\n",
            "        True       0.20      0.71      0.31       687\n",
            "\n",
            "    accuracy                           0.67      6660\n",
            "   macro avg       0.57      0.69      0.55      6660\n",
            "weighted avg       0.87      0.67      0.74      6660\n",
            "\n"
          ],
          "name": "stdout"
        }
      ]
    },
    {
      "cell_type": "code",
      "metadata": {
        "colab": {
          "base_uri": "https://localhost:8080/",
          "height": 461,
          "referenced_widgets": [
            "9a5991fa44ac4649885e828d17192069",
            "6bf7611d85154e68b53e6cc95a465f6d",
            "6da5fe11718a4efd89359fe162c69c07",
            "0f21aaf6f1d3495eb34c8e9bd1423712",
            "5767dc86073f4a87a4d72adea0f432f7",
            "82fd78b501004ab09560e7ce4d1dff13",
            "6d453dc4c2d84730a12a7ee5a31dc28d"
          ]
        },
        "id": "uVOeXicghaUW",
        "outputId": "c5946afa-7f3a-488e-ab71-966ae48359d6"
      },
      "source": [
        "from ipywidgets import interact, fixed\n",
        "\n",
        "y_pred_proba = pipe2.predict_proba(X_val)[:, 1]\n",
        "def explore_threshold(y_true, y_pred_proba, threshold=0.5):\n",
        "    y_pred = y_pred_proba >= threshold\n",
        "    vc = pd.Series(y_pred).value_counts()\n",
        "    ax = sns.histplot(y_pred_proba, kde=True)\n",
        "    ax.axvline(threshold, color='red')\n",
        "    ax.set_title(f'# of target, 1={vc[1]}, 0={vc[0]}')\n",
        "    plt.show()\n",
        "    print(classification_report(y_true, y_pred))\n",
        "\n",
        "    \n",
        "interact(explore_threshold, \n",
        "    y_true=fixed(y_val), \n",
        "    y_pred_proba=fixed(y_pred_proba), \n",
        "    threshold=(0, 1, 0.01));"
      ],
      "execution_count": 579,
      "outputs": [
        {
          "output_type": "display_data",
          "data": {
            "application/vnd.jupyter.widget-view+json": {
              "model_id": "9a5991fa44ac4649885e828d17192069",
              "version_minor": 0,
              "version_major": 2
            },
            "text/plain": [
              "interactive(children=(FloatSlider(value=0.5, description='threshold', max=1.0, step=0.01), Output()), _dom_cla…"
            ]
          },
          "metadata": {
            "tags": []
          }
        }
      ]
    },
    {
      "cell_type": "code",
      "metadata": {
        "colab": {
          "base_uri": "https://localhost:8080/"
        },
        "id": "MEWRxpZ9BNQp",
        "outputId": "eb965cff-0533-42e7-e981-1d25c9a0076b"
      },
      "source": [
        "#높을 수록 좋은 auc...\n",
        "from sklearn.metrics import roc_auc_score\n",
        "print('auc_score :', roc_auc_score(y_val, y_pred_proba))"
      ],
      "execution_count": 580,
      "outputs": [
        {
          "output_type": "stream",
          "text": [
            "auc_score : 0.7519853411189752\n"
          ],
          "name": "stdout"
        }
      ]
    },
    {
      "cell_type": "code",
      "metadata": {
        "colab": {
          "base_uri": "https://localhost:8080/",
          "height": 280
        },
        "id": "25im1si394-6",
        "outputId": "79182d46-d5b2-4b99-bef6-ce46ac051bc5"
      },
      "source": [
        "import matplotlib.pyplot as plt\n",
        "\n",
        "rf = pipe2.named_steps['randomforestclassifier']\n",
        "importances = pd.Series(rf.feature_importances_, X_train.columns)\n",
        "\n",
        "plt.figure(figsize=(10,4))\n",
        "plt.title(f'Features with ordinalencoder')\n",
        "importances.sort_values().plot.barh();"
      ],
      "execution_count": 581,
      "outputs": [
        {
          "output_type": "display_data",
          "data": {
            "image/png": "[encoded data removed]",
            "text/plain": [
              "<Figure size 720x288 with 1 Axes>"
            ]
          },
          "metadata": {
            "tags": [],
            "needs_background": "light"
          }
        }
      ]
    },
    {
      "cell_type": "markdown",
      "metadata": {
        "id": "rVxvSJh54dyU"
      },
      "source": [
        "## **3-4 파이프라인_교차검증**"
      ]
    },
    {
      "cell_type": "code",
      "metadata": {
        "colab": {
          "base_uri": "https://localhost:8080/"
        },
        "id": "iRKa46XvCqK-",
        "outputId": "cb23562c-f0d4-4e93-e798-8c838f860b05"
      },
      "source": [
        "mdf.columns"
      ],
      "execution_count": 517,
      "outputs": [
        {
          "output_type": "execute_result",
          "data": {
            "text/plain": [
              "Index(['SMONTH', 'S_Day', 'TNUM', 'A7B', 'SPOT', 'DandN', 'REASON', 'BNA',\n",
              "       'M_TOTAL', 'SEX', 'BAGE', 'Gangwon'],\n",
              "      dtype='object')"
            ]
          },
          "metadata": {
            "tags": []
          },
          "execution_count": 517
        }
      ]
    },
    {
      "cell_type": "code",
      "metadata": {
        "colab": {
          "base_uri": "https://localhost:8080/"
        },
        "id": "OBGvBBEa4Ufj",
        "outputId": "de372247-d426-4cc7-f703-100ae3d74e2b"
      },
      "source": [
        "target='Gangwon'\n",
        "features = mdf.columns.drop([target, 'SPOT', 'M_TOTAL'])\n",
        "\n",
        "from sklearn.model_selection import train_test_split\n",
        "train, test = train_test_split(mdf, test_size=0.2, random_state=2)\n",
        "train.shape, test.shape\n",
        "\n",
        "X_train = train[features]\n",
        "y_train = train[target]\n",
        "X_test = test[features]\n",
        "y_test = test[target]\n",
        "X_train.shape, y_train.shape"
      ],
      "execution_count": 518,
      "outputs": [
        {
          "output_type": "execute_result",
          "data": {
            "text/plain": [
              "((33296, 9), (33296,))"
            ]
          },
          "metadata": {
            "tags": []
          },
          "execution_count": 518
        }
      ]
    },
    {
      "cell_type": "code",
      "metadata": {
        "colab": {
          "base_uri": "https://localhost:8080/"
        },
        "id": "xVZ1VzLbYCIg",
        "outputId": "751724cf-47de-4e17-d0b3-0d121e50c9d7"
      },
      "source": [
        "X_train.shape, y_train.shape, X_test.shape, y_test.shape"
      ],
      "execution_count": 519,
      "outputs": [
        {
          "output_type": "execute_result",
          "data": {
            "text/plain": [
              "((33296, 9), (33296,), (8325, 9), (8325,))"
            ]
          },
          "metadata": {
            "tags": []
          },
          "execution_count": 519
        }
      ]
    },
    {
      "cell_type": "markdown",
      "metadata": {
        "id": "D6GmqhwWoLJz"
      },
      "source": [
        "## **최적의 하이퍼파라미터 (XGBClassifier, RandomizedSearchCV)**"
      ]
    },
    {
      "cell_type": "code",
      "metadata": {
        "id": "GiYA1B0AqTRN"
      },
      "source": [
        "y_train.value_counts(normalize=True)\n",
        "ratio = 0.1/0.89"
      ],
      "execution_count": 377,
      "outputs": []
    },
    {
      "cell_type": "code",
      "metadata": {
        "colab": {
          "base_uri": "https://localhost:8080/"
        },
        "id": "_4kxudMdHfmO",
        "outputId": "5a22dd06-571e-4662-e8c5-9137b77d4e09"
      },
      "source": [
        "#하이퍼파라미터 튜닝\n",
        "from sklearn.feature_selection import f_regression, SelectKBest\n",
        "from sklearn.model_selection import cross_val_score\n",
        "from scipy.stats import randint, uniform\n",
        "from sklearn.model_selection import RandomizedSearchCV\n",
        "from xgboost import XGBClassifier\n",
        "\n",
        "pipe = make_pipeline(\n",
        "    TargetEncoder(), \n",
        "    SimpleImputer(), \n",
        "    XGBClassifier(n_jod=-1, scale_pos_weight=ratio)\n",
        ")\n",
        "\n",
        "dists = {\n",
        "    'targetencoder__smoothing': [20.,50.,60.,100.,500.],\n",
        "    'targetencoder__min_samples_leaf': randint(1, 10),     \n",
        "    'simpleimputer__strategy': ['mean', 'median'], \n",
        "    'xgbclassifier__n_estimators': randint(50, 100, 600), \n",
        "    'xgbclassifier__learning_rate': [1.5, 1.2, 0.8, 0.5], \n",
        "    'xgbclassifier__max_depth': randint(3, 20)\n",
        "}\n",
        "\n",
        "clf = RandomizedSearchCV(\n",
        "    pipe, \n",
        "    param_distributions=dists, \n",
        "    n_iter=50, \n",
        "    cv=3, \n",
        "    scoring='precision',  \n",
        "    verbose=1,\n",
        "    n_jobs=-1\n",
        ")\n",
        "\n",
        "clf.fit(X_train, y_train);"
      ],
      "execution_count": 378,
      "outputs": [
        {
          "output_type": "stream",
          "text": [
            "Fitting 3 folds for each of 50 candidates, totalling 150 fits\n"
          ],
          "name": "stdout"
        },
        {
          "output_type": "stream",
          "text": [
            "[Parallel(n_jobs=-1)]: Using backend LokyBackend with 2 concurrent workers.\n",
            "[Parallel(n_jobs=-1)]: Done  46 tasks      | elapsed: 12.8min\n",
            "[Parallel(n_jobs=-1)]: Done 150 out of 150 | elapsed: 45.4min finished\n"
          ],
          "name": "stderr"
        }
      ]
    },
    {
      "cell_type": "code",
      "metadata": {
        "colab": {
          "base_uri": "https://localhost:8080/"
        },
        "id": "18fUjbneh46-",
        "outputId": "6d75dd07-dd66-482a-9269-e85f93c421f7"
      },
      "source": [
        "print(f'Best score(precision): {clf.best_score_}')\n",
        "print(f'Best model: {clf.best_params_}')"
      ],
      "execution_count": 380,
      "outputs": [
        {
          "output_type": "stream",
          "text": [
            "Best score(precision): 0.2826599705903802\n",
            "Best model: {'simpleimputer__strategy': 'mean', 'targetencoder__min_samples_leaf': 9, 'targetencoder__smoothing': 20.0, 'xgbclassifier__learning_rate': 1.5, 'xgbclassifier__max_depth': 4, 'xgbclassifier__n_estimators': 651}\n"
          ],
          "name": "stdout"
        }
      ]
    },
    {
      "cell_type": "code",
      "metadata": {
        "colab": {
          "base_uri": "https://localhost:8080/"
        },
        "id": "9ZvlG3QFiv4C",
        "outputId": "f34e62a5-2d4a-42cc-8a74-ab50d7d7732b"
      },
      "source": [
        "pipe = clf.best_estimator_\n",
        "\n",
        "train_pred = pipe.predict(X_train)\n",
        "test_pred = pipe.predict(X_test)\n",
        "\n",
        "print('훈련 정확도: ', accuracy_score(y_train, train_pred))\n",
        "print('시험 정확도: ', accuracy_score(y_test, test_pred))\n",
        "\n",
        "print('\\nClassification Report:')\n",
        "print(classification_report(y_test, test_pred))"
      ],
      "execution_count": 466,
      "outputs": [
        {
          "output_type": "stream",
          "text": [
            "훈련 정확도:  0.9057844786160499\n",
            "시험 정확도:  0.8981381381381381\n",
            "\n",
            "Classification Report:\n",
            "              precision    recall  f1-score   support\n",
            "\n",
            "       False       0.90      1.00      0.95      7495\n",
            "        True       0.22      0.01      0.02       830\n",
            "\n",
            "    accuracy                           0.90      8325\n",
            "   macro avg       0.56      0.50      0.48      8325\n",
            "weighted avg       0.83      0.90      0.85      8325\n",
            "\n"
          ],
          "name": "stdout"
        }
      ]
    },
    {
      "cell_type": "markdown",
      "metadata": {
        "id": "tDOACCMucneF"
      },
      "source": [
        "## **하이퍼파라미터2 (RandomForestClassifier, RandomizedSearchCV)**"
      ]
    },
    {
      "cell_type": "code",
      "metadata": {
        "colab": {
          "base_uri": "https://localhost:8080/"
        },
        "id": "PFrwW3hgD6v7",
        "outputId": "662a901b-e916-4d3f-da0d-44e8d297a7f0"
      },
      "source": [
        "mdf.isnull().sum()"
      ],
      "execution_count": 582,
      "outputs": [
        {
          "output_type": "execute_result",
          "data": {
            "text/plain": [
              "SMONTH     0\n",
              "S_Day      0\n",
              "TNUM       0\n",
              "A7B        0\n",
              "SPOT       0\n",
              "DandN      0\n",
              "REASON     0\n",
              "BNA        0\n",
              "M_TOTAL    0\n",
              "SEX        0\n",
              "BAGE       0\n",
              "Gangwon    0\n",
              "dtype: int64"
            ]
          },
          "metadata": {
            "tags": []
          },
          "execution_count": 582
        }
      ]
    },
    {
      "cell_type": "code",
      "metadata": {
        "id": "W3RW6R3i1SwE"
      },
      "source": [
        "features, labels = mdf.drop('Gangwon', 1), mdf['Gangwon']\n",
        "X_train, X_test, y_train, y_test = train_test_split(features, labels, test_size = 0.2, random_state=7)"
      ],
      "execution_count": 583,
      "outputs": []
    },
    {
      "cell_type": "code",
      "metadata": {
        "id": "JU9TdNWs1HxO",
        "colab": {
          "base_uri": "https://localhost:8080/"
        },
        "outputId": "b090eb32-3c55-4a63-fe19-e6921d5aadf8"
      },
      "source": [
        "accuracies = {} #성능 비교용\n",
        "TargetEncoder().fit(X_train, y_train)\n",
        "\n",
        "rf_model = make_pipeline(\n",
        "    TargetEncoder(),\n",
        "    RandomForestClassifier(random_state = 10))\n",
        "rf_model.fit(X_train, y_train)"
      ],
      "execution_count": 585,
      "outputs": [
        {
          "output_type": "execute_result",
          "data": {
            "text/plain": [
              "Pipeline(memory=None,\n",
              "         steps=[('targetencoder',\n",
              "                 TargetEncoder(cols=['A7B', 'SPOT', 'REASON'],\n",
              "                               drop_invariant=False, handle_missing='value',\n",
              "                               handle_unknown='value', min_samples_leaf=1,\n",
              "                               return_df=True, smoothing=1.0, verbose=0)),\n",
              "                ('randomforestclassifier',\n",
              "                 RandomForestClassifier(bootstrap=True, ccp_alpha=0.0,\n",
              "                                        class_weight=None, criterion='gini',\n",
              "                                        max_depth=None, max_features='auto',\n",
              "                                        max_leaf_nodes=None, max_samples=None,\n",
              "                                        min_impurity_decrease=0.0,\n",
              "                                        min_impurity_split=None,\n",
              "                                        min_samples_leaf=1, min_samples_split=2,\n",
              "                                        min_weight_fraction_leaf=0.0,\n",
              "                                        n_estimators=100, n_jobs=None,\n",
              "                                        oob_score=False, random_state=10,\n",
              "                                        verbose=0, warm_start=False))],\n",
              "         verbose=False)"
            ]
          },
          "metadata": {
            "tags": []
          },
          "execution_count": 585
        }
      ]
    },
    {
      "cell_type": "code",
      "metadata": {
        "colab": {
          "base_uri": "https://localhost:8080/",
          "height": 78
        },
        "id": "WoH5XH-N1NCt",
        "outputId": "a5415e75-2612-45c5-ab7a-832270df516d"
      },
      "source": [
        "rf_pred = rf_model.predict(X_test)\n",
        "\n",
        "from sklearn.metrics import accuracy_score, precision_score, recall_score\n",
        "\n",
        "model_metrics = {}\n",
        "\n",
        "model_metrics['rf: 정확도'] = accuracy_score(y_test, rf_pred)\n",
        "model_metrics['rf: Precision'] = precision_score(y_test, rf_pred)\n",
        "model_metrics['rf: Recall'] = recall_score(y_test, rf_pred)\n",
        "\n",
        "pd.DataFrame([model_metrics])"
      ],
      "execution_count": 586,
      "outputs": [
        {
          "output_type": "execute_result",
          "data": {
            "text/html": [
              "<div>\n",
              "<style scoped>\n",
              "    .dataframe tbody tr th:only-of-type {\n",
              "        vertical-align: middle;\n",
              "    }\n",
              "\n",
              "    .dataframe tbody tr th {\n",
              "        vertical-align: top;\n",
              "    }\n",
              "\n",
              "    .dataframe thead th {\n",
              "        text-align: right;\n",
              "    }\n",
              "</style>\n",
              "<table border=\"1\" class=\"dataframe\">\n",
              "  <thead>\n",
              "    <tr style=\"text-align: right;\">\n",
              "      <th></th>\n",
              "      <th>rf: 정확도</th>\n",
              "      <th>rf: Precision</th>\n",
              "      <th>rf: Recall</th>\n",
              "    </tr>\n",
              "  </thead>\n",
              "  <tbody>\n",
              "    <tr>\n",
              "      <th>0</th>\n",
              "      <td>0.998318</td>\n",
              "      <td>0.985525</td>\n",
              "      <td>0.997558</td>\n",
              "    </tr>\n",
              "  </tbody>\n",
              "</table>\n",
              "</div>"
            ],
            "text/plain": [
              "    rf: 정확도  rf: Precision  rf: Recall\n",
              "0  0.998318       0.985525    0.997558"
            ]
          },
          "metadata": {
            "tags": []
          },
          "execution_count": 586
        }
      ]
    },
    {
      "cell_type": "code",
      "metadata": {
        "colab": {
          "base_uri": "https://localhost:8080/"
        },
        "id": "cDLp_X5w10F7",
        "outputId": "c6d5be82-f199-485a-894b-b0d416344ee3"
      },
      "source": [
        "from sklearn.metrics import confusion_matrix\n",
        "\n",
        "ndf_cm = confusion_matrix(y_test, rf_pred)\n",
        "print(ndf_cm)"
      ],
      "execution_count": 587,
      "outputs": [
        {
          "output_type": "stream",
          "text": [
            "[[7494   12]\n",
            " [   2  817]]\n"
          ],
          "name": "stdout"
        }
      ]
    },
    {
      "cell_type": "code",
      "metadata": {
        "id": "AJmEnVar15G9"
      },
      "source": [
        "test_scores, train_scores = [], []\n",
        "\n",
        "for i in range(10, 100, 10):\n",
        "  rf_model = make_pipeline(\n",
        "    TargetEncoder(),\n",
        "    RandomForestClassifier(class_weight='balanced',n_estimators = 100, random_state = 10))\n",
        "  rf_model.fit(X_train, y_train)\n",
        "\n",
        "  train_preds = rf_model.predict(X_train)\n",
        "  test_preds  = rf_model.predict(X_test)\n",
        "  \n",
        "  train_scores.append(round(accuracy_score(y_train, train_preds), 1))\n",
        "  test_scores.append(round(accuracy_score(y_test, test_preds), 1))"
      ],
      "execution_count": 590,
      "outputs": []
    },
    {
      "cell_type": "code",
      "metadata": {
        "id": "N5BrFm-e17HT",
        "colab": {
          "base_uri": "https://localhost:8080/",
          "height": 322
        },
        "outputId": "9d95be38-e087-44f5-da8e-abc1cbb37b47"
      },
      "source": [
        "rf_ndf = pd.DataFrame({'train': train_scores,\n",
        "                          'test': test_scores})\n",
        "rf_ndf"
      ],
      "execution_count": 602,
      "outputs": [
        {
          "output_type": "execute_result",
          "data": {
            "text/html": [
              "<div>\n",
              "<style scoped>\n",
              "    .dataframe tbody tr th:only-of-type {\n",
              "        vertical-align: middle;\n",
              "    }\n",
              "\n",
              "    .dataframe tbody tr th {\n",
              "        vertical-align: top;\n",
              "    }\n",
              "\n",
              "    .dataframe thead th {\n",
              "        text-align: right;\n",
              "    }\n",
              "</style>\n",
              "<table border=\"1\" class=\"dataframe\">\n",
              "  <thead>\n",
              "    <tr style=\"text-align: right;\">\n",
              "      <th></th>\n",
              "      <th>train</th>\n",
              "      <th>test</th>\n",
              "    </tr>\n",
              "  </thead>\n",
              "  <tbody>\n",
              "    <tr>\n",
              "      <th>0</th>\n",
              "      <td>1.0</td>\n",
              "      <td>1.0</td>\n",
              "    </tr>\n",
              "    <tr>\n",
              "      <th>1</th>\n",
              "      <td>1.0</td>\n",
              "      <td>1.0</td>\n",
              "    </tr>\n",
              "    <tr>\n",
              "      <th>2</th>\n",
              "      <td>1.0</td>\n",
              "      <td>1.0</td>\n",
              "    </tr>\n",
              "    <tr>\n",
              "      <th>3</th>\n",
              "      <td>1.0</td>\n",
              "      <td>1.0</td>\n",
              "    </tr>\n",
              "    <tr>\n",
              "      <th>4</th>\n",
              "      <td>1.0</td>\n",
              "      <td>1.0</td>\n",
              "    </tr>\n",
              "    <tr>\n",
              "      <th>5</th>\n",
              "      <td>1.0</td>\n",
              "      <td>1.0</td>\n",
              "    </tr>\n",
              "    <tr>\n",
              "      <th>6</th>\n",
              "      <td>1.0</td>\n",
              "      <td>1.0</td>\n",
              "    </tr>\n",
              "    <tr>\n",
              "      <th>7</th>\n",
              "      <td>1.0</td>\n",
              "      <td>1.0</td>\n",
              "    </tr>\n",
              "    <tr>\n",
              "      <th>8</th>\n",
              "      <td>1.0</td>\n",
              "      <td>1.0</td>\n",
              "    </tr>\n",
              "  </tbody>\n",
              "</table>\n",
              "</div>"
            ],
            "text/plain": [
              "   train  test\n",
              "0    1.0   1.0\n",
              "1    1.0   1.0\n",
              "2    1.0   1.0\n",
              "3    1.0   1.0\n",
              "4    1.0   1.0\n",
              "5    1.0   1.0\n",
              "6    1.0   1.0\n",
              "7    1.0   1.0\n",
              "8    1.0   1.0"
            ]
          },
          "metadata": {
            "tags": []
          },
          "execution_count": 602
        }
      ]
    },
    {
      "cell_type": "markdown",
      "metadata": {
        "id": "mvDu1hrUaKli"
      },
      "source": [
        "## **3-4 특성중요도**"
      ]
    },
    {
      "cell_type": "code",
      "metadata": {
        "id": "AnwMKXSuVmZy"
      },
      "source": [
        "target='Gangwon'\n",
        "features = mdf.columns.drop([target, 'SPOT', 'M_TOTAL'])\n",
        "\n",
        "from sklearn.model_selection import train_test_split\n",
        "train, test = train_test_split(mdf, test_size=0.2, random_state=2)\n",
        "\n",
        "train, val = train_test_split(train, test_size=0.2, random_state=2)\n",
        "\n",
        "\n",
        "X_train = train[features]\n",
        "y_train = train[target]\n",
        "X_val = val[features]\n",
        "y_val = val[target]\n",
        "X_test = test[features]\n",
        "y_test = test[target]"
      ],
      "execution_count": 509,
      "outputs": []
    },
    {
      "cell_type": "code",
      "metadata": {
        "colab": {
          "base_uri": "https://localhost:8080/",
          "height": 600
        },
        "id": "nrKjTA9YZLsU",
        "outputId": "7377021b-0c23-4033-dd46-0147e663f21c"
      },
      "source": [
        "from pdpbox.pdp import pdp_isolate, pdp_plot\n",
        "from sklearn.linear_model import LinearRegression\n",
        "\n",
        "feature = 'SMONTH'\n",
        "\n",
        "linear = make_pipeline(\n",
        "    TargetEncoder(),  \n",
        "    LinearRegression()\n",
        ")\n",
        "linear.fit(X_train, y_train)\n",
        "\n",
        "isolated = pdp_isolate(\n",
        "    model=linear, \n",
        "    dataset=X_val, \n",
        "    model_features=X_val.columns, \n",
        "    feature=feature,\n",
        "    grid_type='percentile', # default='percentile', or 'equal'\n",
        "    num_grid_points=10 # default=10\n",
        ")\n",
        "pdp_plot(isolated, feature_name=feature);"
      ],
      "execution_count": 488,
      "outputs": [
        {
          "output_type": "stream",
          "text": [
            "findfont: Font family ['Arial'] not found. Falling back to DejaVu Sans.\n",
            "findfont: Font family ['Arial'] not found. Falling back to DejaVu Sans.\n",
            "findfont: Font family ['Arial'] not found. Falling back to DejaVu Sans.\n",
            "findfont: Font family ['Arial'] not found. Falling back to DejaVu Sans.\n"
          ],
          "name": "stderr"
        },
        {
          "output_type": "display_data",
          "data": {
            "image/png": "[encoded data removed]",
            "text/plain": [
              "<Figure size 1080x684 with 2 Axes>"
            ]
          },
          "metadata": {
            "tags": [],
            "needs_background": "light"
          }
        }
      ]
    },
    {
      "cell_type": "code",
      "metadata": {
        "colab": {
          "base_uri": "https://localhost:8080/",
          "height": 532
        },
        "id": "dohk3obcH3tb",
        "outputId": "be6dcff8-6e73-4a38-d2c2-9b8716f539af"
      },
      "source": [
        "feature = 'S_Day'\n",
        "\n",
        "linear = make_pipeline(\n",
        "    TargetEncoder(),  \n",
        "    LinearRegression()\n",
        ")\n",
        "linear.fit(X_train, y_train)\n",
        "\n",
        "isolated = pdp_isolate(\n",
        "    model=linear, \n",
        "    dataset=X_val, \n",
        "    model_features=X_val.columns, \n",
        "    feature=feature,\n",
        "    grid_type='percentile', # default='percentile', or 'equal'\n",
        "    num_grid_points=10 # default=10\n",
        ")\n",
        "pdp_plot(isolated, feature_name=feature);"
      ],
      "execution_count": 489,
      "outputs": [
        {
          "output_type": "display_data",
          "data": {
            "image/png": "[encoded data removed]",
            "text/plain": [
              "<Figure size 1080x684 with 2 Axes>"
            ]
          },
          "metadata": {
            "tags": [],
            "needs_background": "light"
          }
        }
      ]
    },
    {
      "cell_type": "code",
      "metadata": {
        "colab": {
          "base_uri": "https://localhost:8080/",
          "height": 534
        },
        "id": "zOmqgaf5IBdj",
        "outputId": "40a18497-79eb-4d6a-e085-ff62ea71c82c"
      },
      "source": [
        "feature = 'BNA'\n",
        "\n",
        "linear = make_pipeline(\n",
        "    TargetEncoder(),  \n",
        "    LinearRegression()\n",
        ")\n",
        "linear.fit(X_train, y_train)\n",
        "\n",
        "isolated = pdp_isolate(\n",
        "    model=linear, \n",
        "    dataset=X_val, \n",
        "    model_features=X_val.columns, \n",
        "    feature=feature,\n",
        "    grid_type='percentile', # default='percentile', or 'equal'\n",
        "    num_grid_points=10 # default=10\n",
        ")\n",
        "pdp_plot(isolated, feature_name=feature);"
      ],
      "execution_count": 492,
      "outputs": [
        {
          "output_type": "display_data",
          "data": {
            "image/png": "[encoded data removed]",
            "text/plain": [
              "<Figure size 1080x684 with 2 Axes>"
            ]
          },
          "metadata": {
            "tags": [],
            "needs_background": "light"
          }
        }
      ]
    }
  ]
}